{
 "cells": [
  {
   "cell_type": "code",
   "execution_count": 1,
   "metadata": {
    "slideshow": {
     "slide_type": "skip"
    }
   },
   "outputs": [],
   "source": [
    "from matplotlib import pyplot as plt\n",
    "import numpy as np\n",
    "import pandas as pd\n",
    "import geopandas as gpd\n",
    "np.random.seed(42)"
   ]
  },
  {
   "cell_type": "markdown",
   "metadata": {
    "slideshow": {
     "slide_type": "slide"
    }
   },
   "source": [
    "## Week 10: Clustering Analysis in Python\n",
    "Nov 7, 2022"
   ]
  },
  {
   "cell_type": "markdown",
   "metadata": {
    "slideshow": {
     "slide_type": "slide"
    }
   },
   "source": [
    "## Housekeeping\n",
    "\n",
    "- Assignment #5 (optional) due one week from today (11/14)\n",
    "- Assignment #6 (optional) will be assigned this Wednesday 11/9, due on 11/21\n",
    "- Remember, you have to do one of homeworks #4, #5, or #6"
   ]
  },
  {
   "cell_type": "markdown",
   "metadata": {
    "slideshow": {
     "slide_type": "slide"
    }
   },
   "source": [
    "## Recap\n",
    "\n",
    "- Last week: urban street networks + interactive web maps\n",
    "- New tools: OSMnx, Pandana, and Folium"
   ]
  },
  {
   "cell_type": "markdown",
   "metadata": {
    "slideshow": {
     "slide_type": "slide"
    }
   },
   "source": [
    "## Where we left off last week: choropleth maps in Folium\n",
    "\n",
    "**Example:** A map of households without internet for US counties\n",
    "\n",
    "Two ways:\n",
    "- The easy way: `folium.Choropleth`\n",
    "- The hard way: `folium.GeoJson`"
   ]
  },
  {
   "cell_type": "code",
   "execution_count": 2,
   "metadata": {
    "slideshow": {
     "slide_type": "slide"
    }
   },
   "outputs": [],
   "source": [
    "import folium"
   ]
  },
  {
   "cell_type": "markdown",
   "metadata": {
    "slideshow": {
     "slide_type": "subslide"
    }
   },
   "source": [
    "Load the data, remove counties with no households and add our new column:"
   ]
  },
  {
   "cell_type": "code",
   "execution_count": 3,
   "metadata": {
    "slideshow": {
     "slide_type": "subslide"
    }
   },
   "outputs": [],
   "source": [
    "# Load CSV data from the data/ folder\n",
    "census_data = pd.read_csv(\"./data/internet_avail_census.csv\", dtype={\"geoid\": str})\n",
    "\n",
    "# Remove counties with no households\n",
    "valid = census_data['universe'] > 0\n",
    "census_data = census_data.loc[valid]\n",
    "\n",
    "# Calculate the percent without internet\n",
    "census_data['percent_no_internet'] = census_data['no_internet'] / census_data['universe']"
   ]
  },
  {
   "cell_type": "code",
   "execution_count": 4,
   "metadata": {
    "slideshow": {
     "slide_type": "subslide"
    }
   },
   "outputs": [
    {
     "data": {
      "text/html": [
       "<div>\n",
       "<style scoped>\n",
       "    .dataframe tbody tr th:only-of-type {\n",
       "        vertical-align: middle;\n",
       "    }\n",
       "\n",
       "    .dataframe tbody tr th {\n",
       "        vertical-align: top;\n",
       "    }\n",
       "\n",
       "    .dataframe thead th {\n",
       "        text-align: right;\n",
       "    }\n",
       "</style>\n",
       "<table border=\"1\" class=\"dataframe\">\n",
       "  <thead>\n",
       "    <tr style=\"text-align: right;\">\n",
       "      <th></th>\n",
       "      <th>NAME</th>\n",
       "      <th>universe</th>\n",
       "      <th>no_internet</th>\n",
       "      <th>state</th>\n",
       "      <th>county</th>\n",
       "      <th>geoid</th>\n",
       "      <th>percent_no_internet</th>\n",
       "    </tr>\n",
       "  </thead>\n",
       "  <tbody>\n",
       "    <tr>\n",
       "      <th>0</th>\n",
       "      <td>Washington County, Mississippi</td>\n",
       "      <td>18299.0</td>\n",
       "      <td>6166.0</td>\n",
       "      <td>28</td>\n",
       "      <td>151</td>\n",
       "      <td>28151</td>\n",
       "      <td>0.336958</td>\n",
       "    </tr>\n",
       "    <tr>\n",
       "      <th>1</th>\n",
       "      <td>Perry County, Mississippi</td>\n",
       "      <td>4563.0</td>\n",
       "      <td>1415.0</td>\n",
       "      <td>28</td>\n",
       "      <td>111</td>\n",
       "      <td>28111</td>\n",
       "      <td>0.310103</td>\n",
       "    </tr>\n",
       "    <tr>\n",
       "      <th>2</th>\n",
       "      <td>Choctaw County, Mississippi</td>\n",
       "      <td>3164.0</td>\n",
       "      <td>1167.0</td>\n",
       "      <td>28</td>\n",
       "      <td>19</td>\n",
       "      <td>28019</td>\n",
       "      <td>0.368837</td>\n",
       "    </tr>\n",
       "    <tr>\n",
       "      <th>3</th>\n",
       "      <td>Itawamba County, Mississippi</td>\n",
       "      <td>8706.0</td>\n",
       "      <td>1970.0</td>\n",
       "      <td>28</td>\n",
       "      <td>57</td>\n",
       "      <td>28057</td>\n",
       "      <td>0.226281</td>\n",
       "    </tr>\n",
       "    <tr>\n",
       "      <th>4</th>\n",
       "      <td>Carroll County, Mississippi</td>\n",
       "      <td>3658.0</td>\n",
       "      <td>1218.0</td>\n",
       "      <td>28</td>\n",
       "      <td>15</td>\n",
       "      <td>28015</td>\n",
       "      <td>0.332969</td>\n",
       "    </tr>\n",
       "  </tbody>\n",
       "</table>\n",
       "</div>"
      ],
      "text/plain": [
       "                             NAME  universe  no_internet  state  county  \\\n",
       "0  Washington County, Mississippi   18299.0       6166.0     28     151   \n",
       "1       Perry County, Mississippi    4563.0       1415.0     28     111   \n",
       "2     Choctaw County, Mississippi    3164.0       1167.0     28      19   \n",
       "3    Itawamba County, Mississippi    8706.0       1970.0     28      57   \n",
       "4     Carroll County, Mississippi    3658.0       1218.0     28      15   \n",
       "\n",
       "   geoid  percent_no_internet  \n",
       "0  28151             0.336958  \n",
       "1  28111             0.310103  \n",
       "2  28019             0.368837  \n",
       "3  28057             0.226281  \n",
       "4  28015             0.332969  "
      ]
     },
     "execution_count": 4,
     "metadata": {},
     "output_type": "execute_result"
    }
   ],
   "source": [
    "census_data.head()"
   ]
  },
  {
   "cell_type": "markdown",
   "metadata": {
    "slideshow": {
     "slide_type": "slide"
    }
   },
   "source": [
    "Load the counties geometry data too:"
   ]
  },
  {
   "cell_type": "code",
   "execution_count": 5,
   "metadata": {
    "slideshow": {
     "slide_type": "subslide"
    }
   },
   "outputs": [],
   "source": [
    "# Load counties GeoJSOn from the data/ folder\n",
    "counties = gpd.read_file(\"./data/us-counties-10m.geojson\")"
   ]
  },
  {
   "cell_type": "code",
   "execution_count": 6,
   "metadata": {
    "slideshow": {
     "slide_type": "subslide"
    }
   },
   "outputs": [
    {
     "data": {
      "text/html": [
       "<div>\n",
       "<style scoped>\n",
       "    .dataframe tbody tr th:only-of-type {\n",
       "        vertical-align: middle;\n",
       "    }\n",
       "\n",
       "    .dataframe tbody tr th {\n",
       "        vertical-align: top;\n",
       "    }\n",
       "\n",
       "    .dataframe thead th {\n",
       "        text-align: right;\n",
       "    }\n",
       "</style>\n",
       "<table border=\"1\" class=\"dataframe\">\n",
       "  <thead>\n",
       "    <tr style=\"text-align: right;\">\n",
       "      <th></th>\n",
       "      <th>id</th>\n",
       "      <th>geometry</th>\n",
       "    </tr>\n",
       "  </thead>\n",
       "  <tbody>\n",
       "    <tr>\n",
       "      <th>0</th>\n",
       "      <td>53073</td>\n",
       "      <td>MULTIPOLYGON (((-120.85361 49.00011, -120.7674...</td>\n",
       "    </tr>\n",
       "    <tr>\n",
       "      <th>1</th>\n",
       "      <td>30105</td>\n",
       "      <td>POLYGON ((-106.11238 48.99904, -106.15187 48.8...</td>\n",
       "    </tr>\n",
       "    <tr>\n",
       "      <th>2</th>\n",
       "      <td>30029</td>\n",
       "      <td>POLYGON ((-114.06985 48.99904, -114.05908 48.8...</td>\n",
       "    </tr>\n",
       "    <tr>\n",
       "      <th>3</th>\n",
       "      <td>16021</td>\n",
       "      <td>POLYGON ((-116.04755 49.00065, -116.04755 48.5...</td>\n",
       "    </tr>\n",
       "    <tr>\n",
       "      <th>4</th>\n",
       "      <td>30071</td>\n",
       "      <td>POLYGON ((-107.17840 49.00011, -107.20712 48.9...</td>\n",
       "    </tr>\n",
       "  </tbody>\n",
       "</table>\n",
       "</div>"
      ],
      "text/plain": [
       "      id                                           geometry\n",
       "0  53073  MULTIPOLYGON (((-120.85361 49.00011, -120.7674...\n",
       "1  30105  POLYGON ((-106.11238 48.99904, -106.15187 48.8...\n",
       "2  30029  POLYGON ((-114.06985 48.99904, -114.05908 48.8...\n",
       "3  16021  POLYGON ((-116.04755 49.00065, -116.04755 48.5...\n",
       "4  30071  POLYGON ((-107.17840 49.00011, -107.20712 48.9..."
      ]
     },
     "execution_count": 6,
     "metadata": {},
     "output_type": "execute_result"
    }
   ],
   "source": [
    "counties.head()"
   ]
  },
  {
   "cell_type": "markdown",
   "metadata": {
    "slideshow": {
     "slide_type": "slide"
    }
   },
   "source": [
    "## The hard way: use folium.GeoJson\n",
    "\n",
    "- **The good:**\n",
    "    - More customizable, and can add user interaction\n",
    "- **The bad:**\n",
    "    - Requires more work\n",
    "    - No way to add a legend, see [this open issue on GitHub](https://github.com/python-visualization/folium/issues/528)"
   ]
  },
  {
   "cell_type": "markdown",
   "metadata": {
    "slideshow": {
     "slide_type": "subslide"
    }
   },
   "source": [
    "## The steps involved\n",
    "\n",
    "1. Join data and geometry features into a single GeoDataFrame\n",
    "1. Define a function to style features based on data values\n",
    "1. Create GeoJSON layer and add it to the map"
   ]
  },
  {
   "cell_type": "markdown",
   "metadata": {
    "slideshow": {
     "slide_type": "slide"
    }
   },
   "source": [
    "### Step 1: Join the census data and features\n",
    "\n",
    "**Note:** this is different than using `folium.Choropleth`, where data and features are stored in two separate data frames."
   ]
  },
  {
   "cell_type": "code",
   "execution_count": 7,
   "metadata": {
    "slideshow": {
     "slide_type": "fragment"
    }
   },
   "outputs": [],
   "source": [
    "# Merge the county geometries with census data\n",
    "# Left column: \"id\"\n",
    "# Right column: \"geoid\"\n",
    "census_joined = counties.merge(census_data, left_on=\"id\", right_on=\"geoid\")"
   ]
  },
  {
   "cell_type": "code",
   "execution_count": 8,
   "metadata": {
    "slideshow": {
     "slide_type": "subslide"
    }
   },
   "outputs": [
    {
     "data": {
      "text/html": [
       "<div>\n",
       "<style scoped>\n",
       "    .dataframe tbody tr th:only-of-type {\n",
       "        vertical-align: middle;\n",
       "    }\n",
       "\n",
       "    .dataframe tbody tr th {\n",
       "        vertical-align: top;\n",
       "    }\n",
       "\n",
       "    .dataframe thead th {\n",
       "        text-align: right;\n",
       "    }\n",
       "</style>\n",
       "<table border=\"1\" class=\"dataframe\">\n",
       "  <thead>\n",
       "    <tr style=\"text-align: right;\">\n",
       "      <th></th>\n",
       "      <th>id</th>\n",
       "      <th>geometry</th>\n",
       "      <th>NAME</th>\n",
       "      <th>universe</th>\n",
       "      <th>no_internet</th>\n",
       "      <th>state</th>\n",
       "      <th>county</th>\n",
       "      <th>geoid</th>\n",
       "      <th>percent_no_internet</th>\n",
       "    </tr>\n",
       "  </thead>\n",
       "  <tbody>\n",
       "    <tr>\n",
       "      <th>0</th>\n",
       "      <td>53073</td>\n",
       "      <td>MULTIPOLYGON (((-120.85361 49.00011, -120.7674...</td>\n",
       "      <td>Whatcom County, Washington</td>\n",
       "      <td>85008.0</td>\n",
       "      <td>9189.0</td>\n",
       "      <td>53</td>\n",
       "      <td>73</td>\n",
       "      <td>53073</td>\n",
       "      <td>0.108096</td>\n",
       "    </tr>\n",
       "    <tr>\n",
       "      <th>1</th>\n",
       "      <td>30105</td>\n",
       "      <td>POLYGON ((-106.11238 48.99904, -106.15187 48.8...</td>\n",
       "      <td>Valley County, Montana</td>\n",
       "      <td>3436.0</td>\n",
       "      <td>672.0</td>\n",
       "      <td>30</td>\n",
       "      <td>105</td>\n",
       "      <td>30105</td>\n",
       "      <td>0.195576</td>\n",
       "    </tr>\n",
       "    <tr>\n",
       "      <th>2</th>\n",
       "      <td>30029</td>\n",
       "      <td>POLYGON ((-114.06985 48.99904, -114.05908 48.8...</td>\n",
       "      <td>Flathead County, Montana</td>\n",
       "      <td>38252.0</td>\n",
       "      <td>5662.0</td>\n",
       "      <td>30</td>\n",
       "      <td>29</td>\n",
       "      <td>30029</td>\n",
       "      <td>0.148018</td>\n",
       "    </tr>\n",
       "    <tr>\n",
       "      <th>3</th>\n",
       "      <td>16021</td>\n",
       "      <td>POLYGON ((-116.04755 49.00065, -116.04755 48.5...</td>\n",
       "      <td>Boundary County, Idaho</td>\n",
       "      <td>4605.0</td>\n",
       "      <td>1004.0</td>\n",
       "      <td>16</td>\n",
       "      <td>21</td>\n",
       "      <td>16021</td>\n",
       "      <td>0.218024</td>\n",
       "    </tr>\n",
       "    <tr>\n",
       "      <th>4</th>\n",
       "      <td>30071</td>\n",
       "      <td>POLYGON ((-107.17840 49.00011, -107.20712 48.9...</td>\n",
       "      <td>Phillips County, Montana</td>\n",
       "      <td>1770.0</td>\n",
       "      <td>484.0</td>\n",
       "      <td>30</td>\n",
       "      <td>71</td>\n",
       "      <td>30071</td>\n",
       "      <td>0.273446</td>\n",
       "    </tr>\n",
       "  </tbody>\n",
       "</table>\n",
       "</div>"
      ],
      "text/plain": [
       "      id                                           geometry  \\\n",
       "0  53073  MULTIPOLYGON (((-120.85361 49.00011, -120.7674...   \n",
       "1  30105  POLYGON ((-106.11238 48.99904, -106.15187 48.8...   \n",
       "2  30029  POLYGON ((-114.06985 48.99904, -114.05908 48.8...   \n",
       "3  16021  POLYGON ((-116.04755 49.00065, -116.04755 48.5...   \n",
       "4  30071  POLYGON ((-107.17840 49.00011, -107.20712 48.9...   \n",
       "\n",
       "                         NAME  universe  no_internet  state  county  geoid  \\\n",
       "0  Whatcom County, Washington   85008.0       9189.0     53      73  53073   \n",
       "1      Valley County, Montana    3436.0        672.0     30     105  30105   \n",
       "2    Flathead County, Montana   38252.0       5662.0     30      29  30029   \n",
       "3      Boundary County, Idaho    4605.0       1004.0     16      21  16021   \n",
       "4    Phillips County, Montana    1770.0        484.0     30      71  30071   \n",
       "\n",
       "   percent_no_internet  \n",
       "0             0.108096  \n",
       "1             0.195576  \n",
       "2             0.148018  \n",
       "3             0.218024  \n",
       "4             0.273446  "
      ]
     },
     "execution_count": 8,
     "metadata": {},
     "output_type": "execute_result"
    }
   ],
   "source": [
    "census_joined.head()"
   ]
  },
  {
   "cell_type": "markdown",
   "metadata": {
    "slideshow": {
     "slide_type": "slide"
    }
   },
   "source": [
    "### Step 2: Normalize the data column to 0 to 1\n",
    "\n",
    "- We will use a matplotlib color map that requires data to be between 0 and 1\n",
    "- Normalize our \"percent_no_internet\" column to be between 0 and 1"
   ]
  },
  {
   "cell_type": "code",
   "execution_count": 9,
   "metadata": {
    "slideshow": {
     "slide_type": "subslide"
    }
   },
   "outputs": [],
   "source": [
    "# Minimum\n",
    "min_val = census_joined['percent_no_internet'].min()\n",
    "\n",
    "# Maximum\n",
    "max_val = census_joined['percent_no_internet'].max()\n",
    "\n",
    "# Calculate a normalized column\n",
    "normalized = (census_joined['percent_no_internet'] - min_val) / (max_val - min_val)\n",
    "\n",
    "# Add to the dataframe\n",
    "census_joined['percent_no_internet_normalized'] = normalized"
   ]
  },
  {
   "cell_type": "markdown",
   "metadata": {
    "slideshow": {
     "slide_type": "slide"
    }
   },
   "source": [
    "### Step 3: Define our style functions\n",
    "\n",
    "- Create a matplotlib colormap object using `plt.get_cmap()`\n",
    "- Color map objects are *functions*: give the function a number between 0 and 1 and it will return a corresponding color from the color map\n",
    "- Based on the feature data, evaluate the color map and convert to a hex string"
   ]
  },
  {
   "cell_type": "code",
   "execution_count": 10,
   "metadata": {
    "slideshow": {
     "slide_type": "fragment"
    }
   },
   "outputs": [],
   "source": [
    "import matplotlib.colors as mcolors"
   ]
  },
  {
   "cell_type": "code",
   "execution_count": 11,
   "metadata": {
    "slideshow": {
     "slide_type": "fragment"
    }
   },
   "outputs": [],
   "source": [
    "# Use a red-purple colorbrewer color scheme\n",
    "cmap = plt.get_cmap('RdPu')"
   ]
  },
  {
   "cell_type": "code",
   "execution_count": 12,
   "metadata": {
    "slideshow": {
     "slide_type": "subslide"
    }
   },
   "outputs": [
    {
     "data": {
      "text/plain": [
       "(1.0, 0.9686274509803922, 0.9529411764705882, 1.0)"
      ]
     },
     "execution_count": 12,
     "metadata": {},
     "output_type": "execute_result"
    }
   ],
   "source": [
    "# The minimum value of the color map as an RGB tuple\n",
    "cmap(0)"
   ]
  },
  {
   "cell_type": "code",
   "execution_count": 13,
   "metadata": {
    "slideshow": {
     "slide_type": "fragment"
    }
   },
   "outputs": [
    {
     "data": {
      "text/plain": [
       "'#fff7f3'"
      ]
     },
     "execution_count": 13,
     "metadata": {},
     "output_type": "execute_result"
    }
   ],
   "source": [
    "# The minimum value of the color map as a hex string\n",
    "mcolors.rgb2hex(cmap(0.0))"
   ]
  },
  {
   "cell_type": "code",
   "execution_count": 14,
   "metadata": {
    "slideshow": {
     "slide_type": "fragment"
    }
   },
   "outputs": [
    {
     "data": {
      "text/plain": [
       "'#49006a'"
      ]
     },
     "execution_count": 14,
     "metadata": {},
     "output_type": "execute_result"
    }
   ],
   "source": [
    "# The maximum value of the color map as a hex string\n",
    "mcolors.rgb2hex(cmap(1.0))"
   ]
  },
  {
   "cell_type": "code",
   "execution_count": 15,
   "metadata": {
    "slideshow": {
     "slide_type": "subslide"
    }
   },
   "outputs": [],
   "source": [
    "def get_style(feature):\n",
    "    \"\"\"\n",
    "    Given an input GeoJSON feature, return a style dict.\n",
    "    \n",
    "    Notes\n",
    "    -----\n",
    "    The color in the style dict is determined by the \n",
    "    \"percent_no_internet_normalized\" column in the \n",
    "    input \"feature\".\n",
    "    \"\"\"\n",
    "    # Get the data value from the feature\n",
    "    value = feature['properties']['percent_no_internet_normalized']\n",
    "    \n",
    "    # Evaluate the color map\n",
    "    # NOTE: value must between 0 and 1\n",
    "    rgb_color = cmap(value) # this is an RGB tuple\n",
    "    \n",
    "    # Convert to hex string\n",
    "    color = mcolors.rgb2hex(rgb_color)\n",
    "    \n",
    "    # Return the style dictionary\n",
    "    return {'weight': 0.5, 'color': color, 'fillColor': color, \"fillOpacity\": 0.75}"
   ]
  },
  {
   "cell_type": "code",
   "execution_count": 16,
   "metadata": {
    "slideshow": {
     "slide_type": "subslide"
    }
   },
   "outputs": [],
   "source": [
    "def get_highlighted_style(feature):\n",
    "    \"\"\"\n",
    "    Return a style dict to use when the user highlights a \n",
    "    feature with the mouse.\n",
    "    \"\"\"\n",
    "    \n",
    "    return {\"weight\": 3, \"color\": \"black\"}"
   ]
  },
  {
   "cell_type": "markdown",
   "metadata": {
    "slideshow": {
     "slide_type": "slide"
    }
   },
   "source": [
    "### Step 4: Convert our data to GeoJSON\n",
    "\n",
    "- **Tip**: To limit the amount of data Folium has to process, it's best to trim our GeoDataFrame to only the columns we'll need before converting to GeoJSON\n",
    "- You can use the `.to_json()` function to convert to a GeoJSON string"
   ]
  },
  {
   "cell_type": "code",
   "execution_count": 17,
   "metadata": {
    "slideshow": {
     "slide_type": "fragment"
    }
   },
   "outputs": [],
   "source": [
    "needed_cols = ['NAME', 'percent_no_internet', 'percent_no_internet_normalized', 'geometry']\n",
    "census_json = census_joined[needed_cols].to_json()"
   ]
  },
  {
   "cell_type": "code",
   "execution_count": 18,
   "metadata": {
    "slideshow": {
     "slide_type": "subslide"
    }
   },
   "outputs": [],
   "source": [
    "# STEP 1: Initialize the map\n",
    "m = folium.Map(location=[40, -98], zoom_start=4)\n",
    "\n",
    "# STEP 2: Add the GeoJson to the map\n",
    "folium.GeoJson(\n",
    "    census_json, # The geometry + data columns in GeoJSON format\n",
    "    style_function=get_style, # The style function to color counties differently\n",
    "    highlight_function=get_highlighted_style, \n",
    "    tooltip=folium.GeoJsonTooltip(['NAME', 'percent_no_internet'])\n",
    ").add_to(m)\n",
    "\n",
    "\n",
    "\n",
    "# avoid a rendering bug by saving as HTML and re-loading\n",
    "m.save('percent_no_internet.html')"
   ]
  },
  {
   "cell_type": "markdown",
   "metadata": {
    "slideshow": {
     "slide_type": "slide"
    }
   },
   "source": [
    "## And viola! \n",
    "\n",
    "The hard way is **harder**, but we have a tooltip and highlight interactivity!"
   ]
  },
  {
   "cell_type": "code",
   "execution_count": 19,
   "metadata": {
    "slideshow": {
     "slide_type": "subslide"
    }
   },
   "outputs": [],
   "source": [
    "from IPython.display import IFrame"
   ]
  },
  {
   "cell_type": "code",
   "execution_count": 20,
   "metadata": {
    "slideshow": {
     "slide_type": "subslide"
    }
   },
   "outputs": [
    {
     "data": {
      "text/html": [
       "\n",
       "        <iframe\n",
       "            width=\"800\"\n",
       "            height=\"500\"\n",
       "            src=\"percent_no_internet.html\"\n",
       "            frameborder=\"0\"\n",
       "            allowfullscreen\n",
       "            \n",
       "        ></iframe>\n",
       "        "
      ],
      "text/plain": [
       "<IPython.lib.display.IFrame at 0x159225d30>"
      ]
     },
     "execution_count": 20,
     "metadata": {},
     "output_type": "execute_result"
    }
   ],
   "source": [
    "IFrame('percent_no_internet.html', width=800, height=500)"
   ]
  },
  {
   "cell_type": "markdown",
   "metadata": {
    "slideshow": {
     "slide_type": "slide"
    }
   },
   "source": [
    "## At-home exercise: Can we repeat this with altair?\n",
    "\n",
    "Try to replicate the above interactive map exactly (minus the background tiles). This includes:\n",
    "\n",
    "- Using the red-purple colorbrewer scheme\n",
    "- Having a tooltip with the percentage and county name\n",
    "\n",
    "**Note:** Altair's syntax is similar to the folium.Choropleth syntax — you should pass the counties GeoDataFrame to the `alt.Chart()` and then use the `transform_lookup()` to merge those geometries to the census data and pull in the census data column we need (\"percent_without_internet\").\n",
    "\n",
    "**Hints**\n",
    "- The altair example gallery includes a good choropleth example: https://altair-viz.github.io/gallery/choropleth.html\n",
    "- See [altair documentation](https://altair-viz.github.io/user_guide/customization.html#color-schemes) on changing the color scheme and the [Vega documentation](https://vega.github.io/vega/docs/schemes/#reference) for the names of the allowed color schemes in altair\n",
    "- You'll want to specify the projection type as \"albersUsa\" "
   ]
  },
  {
   "cell_type": "code",
   "execution_count": 22,
   "metadata": {
    "hide_input": false,
    "slideshow": {
     "slide_type": "slide"
    }
   },
   "outputs": [],
   "source": [
    "import altair as alt"
   ]
  },
  {
   "cell_type": "code",
   "execution_count": null,
   "metadata": {},
   "outputs": [],
   "source": []
  },
  {
   "cell_type": "markdown",
   "metadata": {
    "hide_input": true,
    "slideshow": {
     "slide_type": "slide"
    }
   },
   "source": [
    "## Leaflet/Folium plugins\n",
    "\n",
    "One of leaflet's strengths: a rich set of open-source plugins\n",
    "\n",
    "https://leafletjs.com/plugins.html\n",
    "\n",
    "Many of these are available in Folium!"
   ]
  },
  {
   "cell_type": "markdown",
   "metadata": {
    "slideshow": {
     "slide_type": "slide"
    }
   },
   "source": [
    "## Example: Heatmap"
   ]
  },
  {
   "cell_type": "code",
   "execution_count": 24,
   "metadata": {
    "slideshow": {
     "slide_type": "fragment"
    }
   },
   "outputs": [],
   "source": [
    "from folium.plugins import HeatMap"
   ]
  },
  {
   "cell_type": "code",
   "execution_count": 84,
   "metadata": {
    "slideshow": {
     "slide_type": "fragment"
    }
   },
   "outputs": [
    {
     "data": {
      "text/plain": [
       "\u001b[0;31mInit signature:\u001b[0m\n",
       "\u001b[0mHeatMap\u001b[0m\u001b[0;34m(\u001b[0m\u001b[0;34m\u001b[0m\n",
       "\u001b[0;34m\u001b[0m    \u001b[0mdata\u001b[0m\u001b[0;34m,\u001b[0m\u001b[0;34m\u001b[0m\n",
       "\u001b[0;34m\u001b[0m    \u001b[0mname\u001b[0m\u001b[0;34m=\u001b[0m\u001b[0;32mNone\u001b[0m\u001b[0;34m,\u001b[0m\u001b[0;34m\u001b[0m\n",
       "\u001b[0;34m\u001b[0m    \u001b[0mmin_opacity\u001b[0m\u001b[0;34m=\u001b[0m\u001b[0;36m0.5\u001b[0m\u001b[0;34m,\u001b[0m\u001b[0;34m\u001b[0m\n",
       "\u001b[0;34m\u001b[0m    \u001b[0mmax_zoom\u001b[0m\u001b[0;34m=\u001b[0m\u001b[0;36m18\u001b[0m\u001b[0;34m,\u001b[0m\u001b[0;34m\u001b[0m\n",
       "\u001b[0;34m\u001b[0m    \u001b[0mradius\u001b[0m\u001b[0;34m=\u001b[0m\u001b[0;36m25\u001b[0m\u001b[0;34m,\u001b[0m\u001b[0;34m\u001b[0m\n",
       "\u001b[0;34m\u001b[0m    \u001b[0mblur\u001b[0m\u001b[0;34m=\u001b[0m\u001b[0;36m15\u001b[0m\u001b[0;34m,\u001b[0m\u001b[0;34m\u001b[0m\n",
       "\u001b[0;34m\u001b[0m    \u001b[0mgradient\u001b[0m\u001b[0;34m=\u001b[0m\u001b[0;32mNone\u001b[0m\u001b[0;34m,\u001b[0m\u001b[0;34m\u001b[0m\n",
       "\u001b[0;34m\u001b[0m    \u001b[0moverlay\u001b[0m\u001b[0;34m=\u001b[0m\u001b[0;32mTrue\u001b[0m\u001b[0;34m,\u001b[0m\u001b[0;34m\u001b[0m\n",
       "\u001b[0;34m\u001b[0m    \u001b[0mcontrol\u001b[0m\u001b[0;34m=\u001b[0m\u001b[0;32mTrue\u001b[0m\u001b[0;34m,\u001b[0m\u001b[0;34m\u001b[0m\n",
       "\u001b[0;34m\u001b[0m    \u001b[0mshow\u001b[0m\u001b[0;34m=\u001b[0m\u001b[0;32mTrue\u001b[0m\u001b[0;34m,\u001b[0m\u001b[0;34m\u001b[0m\n",
       "\u001b[0;34m\u001b[0m    \u001b[0;34m**\u001b[0m\u001b[0mkwargs\u001b[0m\u001b[0;34m,\u001b[0m\u001b[0;34m\u001b[0m\n",
       "\u001b[0;34m\u001b[0m\u001b[0;34m)\u001b[0m\u001b[0;34m\u001b[0m\u001b[0;34m\u001b[0m\u001b[0m\n",
       "\u001b[0;31mDocstring:\u001b[0m     \n",
       "Create a Heatmap layer\n",
       "\n",
       "Parameters\n",
       "----------\n",
       "data : list of points of the form [lat, lng] or [lat, lng, weight]\n",
       "    The points you want to plot.\n",
       "    You can also provide a numpy.array of shape (n,2) or (n,3).\n",
       "name : string, default None\n",
       "    The name of the Layer, as it will appear in LayerControls.\n",
       "min_opacity  : default 1.\n",
       "    The minimum opacity the heat will start at.\n",
       "max_zoom : default 18\n",
       "    Zoom level where the points reach maximum intensity (as intensity\n",
       "    scales with zoom), equals maxZoom of the map by default\n",
       "radius : int, default 25\n",
       "    Radius of each \"point\" of the heatmap\n",
       "blur : int, default 15\n",
       "    Amount of blur\n",
       "gradient : dict, default None\n",
       "    Color gradient config. e.g. {0.4: 'blue', 0.65: 'lime', 1: 'red'}\n",
       "overlay : bool, default True\n",
       "    Adds the layer as an optional overlay (True) or the base layer (False).\n",
       "control : bool, default True\n",
       "    Whether the Layer will be included in LayerControls.\n",
       "show: bool, default True\n",
       "    Whether the layer will be shown on opening (only for overlays).\n",
       "\u001b[0;31mFile:\u001b[0m           ~/mambaforge/envs/musa-550-fall-2022/lib/python3.9/site-packages/folium/plugins/heat_map.py\n",
       "\u001b[0;31mType:\u001b[0m           type\n",
       "\u001b[0;31mSubclasses:\u001b[0m     \n"
      ]
     },
     "metadata": {},
     "output_type": "display_data"
    }
   ],
   "source": [
    "HeatMap?"
   ]
  },
  {
   "cell_type": "markdown",
   "metadata": {
    "slideshow": {
     "slide_type": "slide"
    }
   },
   "source": [
    "## Example: A heatmap of new construction permits in Philadelphia in the last 30 days\n",
    "\n",
    "New construction in Philadelphia requires a building permit, which we can pull from Open Data Philly.\n",
    "\n",
    "- Data available from OpenDataPhilly: https://www.opendataphilly.org/dataset/licenses-and-inspections-building-permits\n",
    "- Query the database API directly to get the GeoJSON\n",
    "- We can use the `carto2gpd` package to get the data\n",
    "- API documentation: https://cityofphiladelphia.github.io/carto-api-explorer/#permits"
   ]
  },
  {
   "cell_type": "markdown",
   "metadata": {
    "slideshow": {
     "slide_type": "slide"
    }
   },
   "source": [
    "### Step 1: Download the data from CARTO\n",
    "\n",
    "**The \"current_date\" variable in SQL databases**\n",
    "\n",
    "You can use the pre-defined \"current_date\" variable to get the current date. For example, to get the permits from the past 30 days, we could do:\n",
    "\n",
    "``SELECT * FROM permits WHERE permitissuedate >= current_date - 30``\n",
    "\n",
    "\n",
    "**Selecting only new construction permits**\n",
    "\n",
    "To select new construction permits, you can use the \"permitdescription\" field. There are two relevant categories:\n",
    "\n",
    "- \"RESIDENTIAL BUILDING PERMIT\"\n",
    "- \"COMMERCIAL BUILDING PERMIT\"\n",
    "\n",
    "We can use the SQL `IN` command ([documentation](https://www.w3schools.com/sql/sql_in.asp)) to easily select rows that have these categories."
   ]
  },
  {
   "cell_type": "code",
   "execution_count": 25,
   "metadata": {
    "slideshow": {
     "slide_type": "subslide"
    }
   },
   "outputs": [],
   "source": [
    "import carto2gpd"
   ]
  },
  {
   "cell_type": "code",
   "execution_count": 26,
   "metadata": {
    "hide_input": false,
    "slideshow": {
     "slide_type": "subslide"
    }
   },
   "outputs": [
    {
     "data": {
      "text/plain": [
       "\"permitissuedate >= current_date - 30 and permitdescription IN ('RESIDENTIAL BUILDING PERMIT', 'COMMERCIAL BUILDING PERMIT')\""
      ]
     },
     "execution_count": 26,
     "metadata": {},
     "output_type": "execute_result"
    }
   ],
   "source": [
    "# API URL\n",
    "url = \"https://phl.carto.com/api/v2/sql\"\n",
    "\n",
    "# Table name on CARTO\n",
    "table_name = \"permits\"\n",
    "\n",
    "# The where clause, with two parts\n",
    "DAYS = 30\n",
    "where = f\"permitissuedate >= current_date - {DAYS}\"\n",
    "where += \" and permitdescription IN ('RESIDENTIAL BUILDING PERMIT', 'COMMERCIAL BUILDING PERMIT')\"\n",
    "\n",
    "where"
   ]
  },
  {
   "cell_type": "code",
   "execution_count": 27,
   "metadata": {
    "slideshow": {
     "slide_type": "subslide"
    }
   },
   "outputs": [],
   "source": [
    "# Run the query\n",
    "permits = carto2gpd.get(url, table_name, where=where)"
   ]
  },
  {
   "cell_type": "code",
   "execution_count": 28,
   "metadata": {
    "hide_input": false,
    "slideshow": {
     "slide_type": "subslide"
    }
   },
   "outputs": [
    {
     "data": {
      "text/plain": [
       "478"
      ]
     },
     "execution_count": 28,
     "metadata": {},
     "output_type": "execute_result"
    }
   ],
   "source": [
    "len(permits)"
   ]
  },
  {
   "cell_type": "code",
   "execution_count": 29,
   "metadata": {
    "hide_input": false,
    "slideshow": {
     "slide_type": "subslide"
    }
   },
   "outputs": [
    {
     "data": {
      "text/html": [
       "<div>\n",
       "<style scoped>\n",
       "    .dataframe tbody tr th:only-of-type {\n",
       "        vertical-align: middle;\n",
       "    }\n",
       "\n",
       "    .dataframe tbody tr th {\n",
       "        vertical-align: top;\n",
       "    }\n",
       "\n",
       "    .dataframe thead th {\n",
       "        text-align: right;\n",
       "    }\n",
       "</style>\n",
       "<table border=\"1\" class=\"dataframe\">\n",
       "  <thead>\n",
       "    <tr style=\"text-align: right;\">\n",
       "      <th></th>\n",
       "      <th>geometry</th>\n",
       "      <th>cartodb_id</th>\n",
       "      <th>objectid</th>\n",
       "      <th>permitnumber</th>\n",
       "      <th>addressobjectid</th>\n",
       "      <th>parcel_id_num</th>\n",
       "      <th>permittype</th>\n",
       "      <th>permitdescription</th>\n",
       "      <th>commercialorresidential</th>\n",
       "      <th>typeofwork</th>\n",
       "      <th>...</th>\n",
       "      <th>unit_type</th>\n",
       "      <th>unit_num</th>\n",
       "      <th>zip</th>\n",
       "      <th>censustract</th>\n",
       "      <th>council_district</th>\n",
       "      <th>opa_owner</th>\n",
       "      <th>systemofrecord</th>\n",
       "      <th>geocode_x</th>\n",
       "      <th>geocode_y</th>\n",
       "      <th>posse_jobid</th>\n",
       "    </tr>\n",
       "  </thead>\n",
       "  <tbody>\n",
       "    <tr>\n",
       "      <th>0</th>\n",
       "      <td>POINT (-75.16551 40.04532)</td>\n",
       "      <td>4676</td>\n",
       "      <td>4898</td>\n",
       "      <td>CP-2022-002038</td>\n",
       "      <td>15732535</td>\n",
       "      <td>210522</td>\n",
       "      <td>BUILDING</td>\n",
       "      <td>COMMERCIAL BUILDING PERMIT</td>\n",
       "      <td>COMMERCIAL</td>\n",
       "      <td>ADDITION AND/OR ALTERATION</td>\n",
       "      <td>...</td>\n",
       "      <td>None</td>\n",
       "      <td>None</td>\n",
       "      <td>19144-1206</td>\n",
       "      <td>248</td>\n",
       "      <td>8</td>\n",
       "      <td>GAROFALO HELEN V</td>\n",
       "      <td>ECLIPSE</td>\n",
       "      <td>2.691986e+06</td>\n",
       "      <td>269953.280616</td>\n",
       "      <td>465300244</td>\n",
       "    </tr>\n",
       "    <tr>\n",
       "      <th>1</th>\n",
       "      <td>POINT (-75.00539 40.03600)</td>\n",
       "      <td>4700</td>\n",
       "      <td>4904</td>\n",
       "      <td>CP-2022-003337</td>\n",
       "      <td>156760706</td>\n",
       "      <td>440714</td>\n",
       "      <td>BUILDING</td>\n",
       "      <td>COMMERCIAL BUILDING PERMIT</td>\n",
       "      <td>COMMERCIAL</td>\n",
       "      <td>NEW CONSTRUCTION</td>\n",
       "      <td>...</td>\n",
       "      <td>None</td>\n",
       "      <td>None</td>\n",
       "      <td>19136-1604</td>\n",
       "      <td>9891</td>\n",
       "      <td>6</td>\n",
       "      <td>PHILA MUNICIPAL AUTH</td>\n",
       "      <td>ECLIPSE</td>\n",
       "      <td>2.736901e+06</td>\n",
       "      <td>267914.438827</td>\n",
       "      <td>486707349</td>\n",
       "    </tr>\n",
       "    <tr>\n",
       "      <th>2</th>\n",
       "      <td>POINT (-75.09335 40.05158)</td>\n",
       "      <td>4724</td>\n",
       "      <td>4910</td>\n",
       "      <td>CP-2022-004987</td>\n",
       "      <td>184460163</td>\n",
       "      <td>352755</td>\n",
       "      <td>BUILDING</td>\n",
       "      <td>COMMERCIAL BUILDING PERMIT</td>\n",
       "      <td>COMMERCIAL</td>\n",
       "      <td>ADDITION AND/OR ALTERATION</td>\n",
       "      <td>...</td>\n",
       "      <td>None</td>\n",
       "      <td>None</td>\n",
       "      <td>19111-5246</td>\n",
       "      <td>306</td>\n",
       "      <td>9</td>\n",
       "      <td>GRACE YANG INC</td>\n",
       "      <td>ECLIPSE</td>\n",
       "      <td>2.712111e+06</td>\n",
       "      <td>272832.652136</td>\n",
       "      <td>514998496</td>\n",
       "    </tr>\n",
       "    <tr>\n",
       "      <th>3</th>\n",
       "      <td>POINT (-75.16733 40.06235)</td>\n",
       "      <td>5439</td>\n",
       "      <td>5684</td>\n",
       "      <td>RP-2022-005876</td>\n",
       "      <td>265435068</td>\n",
       "      <td>331238</td>\n",
       "      <td>RESIDENTIAL BUILDING</td>\n",
       "      <td>RESIDENTIAL BUILDING PERMIT</td>\n",
       "      <td>RESIDENTIAL</td>\n",
       "      <td>ADDITION AND/OR ALTERATION</td>\n",
       "      <td>...</td>\n",
       "      <td>None</td>\n",
       "      <td>None</td>\n",
       "      <td>19150-3300</td>\n",
       "      <td>264</td>\n",
       "      <td>9</td>\n",
       "      <td>CMPJ LLC</td>\n",
       "      <td>ECLIPSE</td>\n",
       "      <td>2.691293e+06</td>\n",
       "      <td>276139.761238</td>\n",
       "      <td>480078356</td>\n",
       "    </tr>\n",
       "    <tr>\n",
       "      <th>4</th>\n",
       "      <td>POINT (-75.22938 39.93547)</td>\n",
       "      <td>5463</td>\n",
       "      <td>5687</td>\n",
       "      <td>RP-2022-007783</td>\n",
       "      <td>132249898</td>\n",
       "      <td>366914</td>\n",
       "      <td>RESIDENTIAL BUILDING</td>\n",
       "      <td>RESIDENTIAL BUILDING PERMIT</td>\n",
       "      <td>RESIDENTIAL</td>\n",
       "      <td>ADDITION AND/OR ALTERATION</td>\n",
       "      <td>...</td>\n",
       "      <td>None</td>\n",
       "      <td>None</td>\n",
       "      <td>19143-5516</td>\n",
       "      <td>65</td>\n",
       "      <td>2</td>\n",
       "      <td>DH1 FUND LP</td>\n",
       "      <td>ECLIPSE</td>\n",
       "      <td>2.675252e+06</td>\n",
       "      <td>229438.672154</td>\n",
       "      <td>497420889</td>\n",
       "    </tr>\n",
       "  </tbody>\n",
       "</table>\n",
       "<p>5 rows × 33 columns</p>\n",
       "</div>"
      ],
      "text/plain": [
       "                     geometry  cartodb_id  objectid    permitnumber  \\\n",
       "0  POINT (-75.16551 40.04532)        4676      4898  CP-2022-002038   \n",
       "1  POINT (-75.00539 40.03600)        4700      4904  CP-2022-003337   \n",
       "2  POINT (-75.09335 40.05158)        4724      4910  CP-2022-004987   \n",
       "3  POINT (-75.16733 40.06235)        5439      5684  RP-2022-005876   \n",
       "4  POINT (-75.22938 39.93547)        5463      5687  RP-2022-007783   \n",
       "\n",
       "  addressobjectid parcel_id_num            permittype  \\\n",
       "0        15732535        210522              BUILDING   \n",
       "1       156760706        440714              BUILDING   \n",
       "2       184460163        352755              BUILDING   \n",
       "3       265435068        331238  RESIDENTIAL BUILDING   \n",
       "4       132249898        366914  RESIDENTIAL BUILDING   \n",
       "\n",
       "             permitdescription commercialorresidential  \\\n",
       "0   COMMERCIAL BUILDING PERMIT              COMMERCIAL   \n",
       "1   COMMERCIAL BUILDING PERMIT              COMMERCIAL   \n",
       "2   COMMERCIAL BUILDING PERMIT              COMMERCIAL   \n",
       "3  RESIDENTIAL BUILDING PERMIT             RESIDENTIAL   \n",
       "4  RESIDENTIAL BUILDING PERMIT             RESIDENTIAL   \n",
       "\n",
       "                   typeofwork  ... unit_type unit_num         zip censustract  \\\n",
       "0  ADDITION AND/OR ALTERATION  ...      None     None  19144-1206         248   \n",
       "1            NEW CONSTRUCTION  ...      None     None  19136-1604        9891   \n",
       "2  ADDITION AND/OR ALTERATION  ...      None     None  19111-5246         306   \n",
       "3  ADDITION AND/OR ALTERATION  ...      None     None  19150-3300         264   \n",
       "4  ADDITION AND/OR ALTERATION  ...      None     None  19143-5516          65   \n",
       "\n",
       "  council_district             opa_owner systemofrecord     geocode_x  \\\n",
       "0                8      GAROFALO HELEN V        ECLIPSE  2.691986e+06   \n",
       "1                6  PHILA MUNICIPAL AUTH        ECLIPSE  2.736901e+06   \n",
       "2                9        GRACE YANG INC        ECLIPSE  2.712111e+06   \n",
       "3                9              CMPJ LLC        ECLIPSE  2.691293e+06   \n",
       "4                2           DH1 FUND LP        ECLIPSE  2.675252e+06   \n",
       "\n",
       "       geocode_y posse_jobid  \n",
       "0  269953.280616   465300244  \n",
       "1  267914.438827   486707349  \n",
       "2  272832.652136   514998496  \n",
       "3  276139.761238   480078356  \n",
       "4  229438.672154   497420889  \n",
       "\n",
       "[5 rows x 33 columns]"
      ]
     },
     "execution_count": 29,
     "metadata": {},
     "output_type": "execute_result"
    }
   ],
   "source": [
    "permits.head()"
   ]
  },
  {
   "cell_type": "markdown",
   "metadata": {
    "slideshow": {
     "slide_type": "slide"
    }
   },
   "source": [
    "### Step 2: Remove missing geometries\n",
    "\n",
    "Some permits don't have locations — use the `.geometry.notnull()` function to trim the data frame to those incidents with valid geometries."
   ]
  },
  {
   "cell_type": "code",
   "execution_count": 30,
   "metadata": {
    "hide_input": false,
    "slideshow": {
     "slide_type": "fragment"
    }
   },
   "outputs": [],
   "source": [
    "permits = permits.loc[permits.geometry.notnull()].copy()"
   ]
  },
  {
   "cell_type": "markdown",
   "metadata": {
    "slideshow": {
     "slide_type": "slide"
    }
   },
   "source": [
    "### Step 3: Extract out the lat/lng coordinates\n",
    "\n",
    "**Note:** We need an array of (latitude, longitude) pairs. Be careful about the order!"
   ]
  },
  {
   "cell_type": "code",
   "execution_count": 31,
   "metadata": {
    "hide_input": false,
    "slideshow": {
     "slide_type": "fragment"
    }
   },
   "outputs": [],
   "source": [
    "# Extract the lat and longitude from the geometery column\n",
    "permits['lat'] = permits.geometry.y\n",
    "permits['lng'] = permits.geometry.x"
   ]
  },
  {
   "cell_type": "code",
   "execution_count": 32,
   "metadata": {
    "slideshow": {
     "slide_type": "subslide"
    }
   },
   "outputs": [
    {
     "data": {
      "text/html": [
       "<div>\n",
       "<style scoped>\n",
       "    .dataframe tbody tr th:only-of-type {\n",
       "        vertical-align: middle;\n",
       "    }\n",
       "\n",
       "    .dataframe tbody tr th {\n",
       "        vertical-align: top;\n",
       "    }\n",
       "\n",
       "    .dataframe thead th {\n",
       "        text-align: right;\n",
       "    }\n",
       "</style>\n",
       "<table border=\"1\" class=\"dataframe\">\n",
       "  <thead>\n",
       "    <tr style=\"text-align: right;\">\n",
       "      <th></th>\n",
       "      <th>geometry</th>\n",
       "      <th>cartodb_id</th>\n",
       "      <th>objectid</th>\n",
       "      <th>permitnumber</th>\n",
       "      <th>addressobjectid</th>\n",
       "      <th>parcel_id_num</th>\n",
       "      <th>permittype</th>\n",
       "      <th>permitdescription</th>\n",
       "      <th>commercialorresidential</th>\n",
       "      <th>typeofwork</th>\n",
       "      <th>...</th>\n",
       "      <th>zip</th>\n",
       "      <th>censustract</th>\n",
       "      <th>council_district</th>\n",
       "      <th>opa_owner</th>\n",
       "      <th>systemofrecord</th>\n",
       "      <th>geocode_x</th>\n",
       "      <th>geocode_y</th>\n",
       "      <th>posse_jobid</th>\n",
       "      <th>lat</th>\n",
       "      <th>lng</th>\n",
       "    </tr>\n",
       "  </thead>\n",
       "  <tbody>\n",
       "    <tr>\n",
       "      <th>0</th>\n",
       "      <td>POINT (-75.16551 40.04532)</td>\n",
       "      <td>4676</td>\n",
       "      <td>4898</td>\n",
       "      <td>CP-2022-002038</td>\n",
       "      <td>15732535</td>\n",
       "      <td>210522</td>\n",
       "      <td>BUILDING</td>\n",
       "      <td>COMMERCIAL BUILDING PERMIT</td>\n",
       "      <td>COMMERCIAL</td>\n",
       "      <td>ADDITION AND/OR ALTERATION</td>\n",
       "      <td>...</td>\n",
       "      <td>19144-1206</td>\n",
       "      <td>248</td>\n",
       "      <td>8</td>\n",
       "      <td>GAROFALO HELEN V</td>\n",
       "      <td>ECLIPSE</td>\n",
       "      <td>2.691986e+06</td>\n",
       "      <td>269953.280616</td>\n",
       "      <td>465300244</td>\n",
       "      <td>40.045317</td>\n",
       "      <td>-75.165507</td>\n",
       "    </tr>\n",
       "    <tr>\n",
       "      <th>1</th>\n",
       "      <td>POINT (-75.00539 40.03600)</td>\n",
       "      <td>4700</td>\n",
       "      <td>4904</td>\n",
       "      <td>CP-2022-003337</td>\n",
       "      <td>156760706</td>\n",
       "      <td>440714</td>\n",
       "      <td>BUILDING</td>\n",
       "      <td>COMMERCIAL BUILDING PERMIT</td>\n",
       "      <td>COMMERCIAL</td>\n",
       "      <td>NEW CONSTRUCTION</td>\n",
       "      <td>...</td>\n",
       "      <td>19136-1604</td>\n",
       "      <td>9891</td>\n",
       "      <td>6</td>\n",
       "      <td>PHILA MUNICIPAL AUTH</td>\n",
       "      <td>ECLIPSE</td>\n",
       "      <td>2.736901e+06</td>\n",
       "      <td>267914.438827</td>\n",
       "      <td>486707349</td>\n",
       "      <td>40.036004</td>\n",
       "      <td>-75.005385</td>\n",
       "    </tr>\n",
       "    <tr>\n",
       "      <th>2</th>\n",
       "      <td>POINT (-75.09335 40.05158)</td>\n",
       "      <td>4724</td>\n",
       "      <td>4910</td>\n",
       "      <td>CP-2022-004987</td>\n",
       "      <td>184460163</td>\n",
       "      <td>352755</td>\n",
       "      <td>BUILDING</td>\n",
       "      <td>COMMERCIAL BUILDING PERMIT</td>\n",
       "      <td>COMMERCIAL</td>\n",
       "      <td>ADDITION AND/OR ALTERATION</td>\n",
       "      <td>...</td>\n",
       "      <td>19111-5246</td>\n",
       "      <td>306</td>\n",
       "      <td>9</td>\n",
       "      <td>GRACE YANG INC</td>\n",
       "      <td>ECLIPSE</td>\n",
       "      <td>2.712111e+06</td>\n",
       "      <td>272832.652136</td>\n",
       "      <td>514998496</td>\n",
       "      <td>40.051579</td>\n",
       "      <td>-75.093348</td>\n",
       "    </tr>\n",
       "    <tr>\n",
       "      <th>3</th>\n",
       "      <td>POINT (-75.16733 40.06235)</td>\n",
       "      <td>5439</td>\n",
       "      <td>5684</td>\n",
       "      <td>RP-2022-005876</td>\n",
       "      <td>265435068</td>\n",
       "      <td>331238</td>\n",
       "      <td>RESIDENTIAL BUILDING</td>\n",
       "      <td>RESIDENTIAL BUILDING PERMIT</td>\n",
       "      <td>RESIDENTIAL</td>\n",
       "      <td>ADDITION AND/OR ALTERATION</td>\n",
       "      <td>...</td>\n",
       "      <td>19150-3300</td>\n",
       "      <td>264</td>\n",
       "      <td>9</td>\n",
       "      <td>CMPJ LLC</td>\n",
       "      <td>ECLIPSE</td>\n",
       "      <td>2.691293e+06</td>\n",
       "      <td>276139.761238</td>\n",
       "      <td>480078356</td>\n",
       "      <td>40.062348</td>\n",
       "      <td>-75.167333</td>\n",
       "    </tr>\n",
       "    <tr>\n",
       "      <th>4</th>\n",
       "      <td>POINT (-75.22938 39.93547)</td>\n",
       "      <td>5463</td>\n",
       "      <td>5687</td>\n",
       "      <td>RP-2022-007783</td>\n",
       "      <td>132249898</td>\n",
       "      <td>366914</td>\n",
       "      <td>RESIDENTIAL BUILDING</td>\n",
       "      <td>RESIDENTIAL BUILDING PERMIT</td>\n",
       "      <td>RESIDENTIAL</td>\n",
       "      <td>ADDITION AND/OR ALTERATION</td>\n",
       "      <td>...</td>\n",
       "      <td>19143-5516</td>\n",
       "      <td>65</td>\n",
       "      <td>2</td>\n",
       "      <td>DH1 FUND LP</td>\n",
       "      <td>ECLIPSE</td>\n",
       "      <td>2.675252e+06</td>\n",
       "      <td>229438.672154</td>\n",
       "      <td>497420889</td>\n",
       "      <td>39.935474</td>\n",
       "      <td>-75.229383</td>\n",
       "    </tr>\n",
       "  </tbody>\n",
       "</table>\n",
       "<p>5 rows × 35 columns</p>\n",
       "</div>"
      ],
      "text/plain": [
       "                     geometry  cartodb_id  objectid    permitnumber  \\\n",
       "0  POINT (-75.16551 40.04532)        4676      4898  CP-2022-002038   \n",
       "1  POINT (-75.00539 40.03600)        4700      4904  CP-2022-003337   \n",
       "2  POINT (-75.09335 40.05158)        4724      4910  CP-2022-004987   \n",
       "3  POINT (-75.16733 40.06235)        5439      5684  RP-2022-005876   \n",
       "4  POINT (-75.22938 39.93547)        5463      5687  RP-2022-007783   \n",
       "\n",
       "  addressobjectid parcel_id_num            permittype  \\\n",
       "0        15732535        210522              BUILDING   \n",
       "1       156760706        440714              BUILDING   \n",
       "2       184460163        352755              BUILDING   \n",
       "3       265435068        331238  RESIDENTIAL BUILDING   \n",
       "4       132249898        366914  RESIDENTIAL BUILDING   \n",
       "\n",
       "             permitdescription commercialorresidential  \\\n",
       "0   COMMERCIAL BUILDING PERMIT              COMMERCIAL   \n",
       "1   COMMERCIAL BUILDING PERMIT              COMMERCIAL   \n",
       "2   COMMERCIAL BUILDING PERMIT              COMMERCIAL   \n",
       "3  RESIDENTIAL BUILDING PERMIT             RESIDENTIAL   \n",
       "4  RESIDENTIAL BUILDING PERMIT             RESIDENTIAL   \n",
       "\n",
       "                   typeofwork  ...         zip censustract council_district  \\\n",
       "0  ADDITION AND/OR ALTERATION  ...  19144-1206         248                8   \n",
       "1            NEW CONSTRUCTION  ...  19136-1604        9891                6   \n",
       "2  ADDITION AND/OR ALTERATION  ...  19111-5246         306                9   \n",
       "3  ADDITION AND/OR ALTERATION  ...  19150-3300         264                9   \n",
       "4  ADDITION AND/OR ALTERATION  ...  19143-5516          65                2   \n",
       "\n",
       "              opa_owner systemofrecord     geocode_x      geocode_y  \\\n",
       "0      GAROFALO HELEN V        ECLIPSE  2.691986e+06  269953.280616   \n",
       "1  PHILA MUNICIPAL AUTH        ECLIPSE  2.736901e+06  267914.438827   \n",
       "2        GRACE YANG INC        ECLIPSE  2.712111e+06  272832.652136   \n",
       "3              CMPJ LLC        ECLIPSE  2.691293e+06  276139.761238   \n",
       "4           DH1 FUND LP        ECLIPSE  2.675252e+06  229438.672154   \n",
       "\n",
       "  posse_jobid        lat        lng  \n",
       "0   465300244  40.045317 -75.165507  \n",
       "1   486707349  40.036004 -75.005385  \n",
       "2   514998496  40.051579 -75.093348  \n",
       "3   480078356  40.062348 -75.167333  \n",
       "4   497420889  39.935474 -75.229383  \n",
       "\n",
       "[5 rows x 35 columns]"
      ]
     },
     "execution_count": 32,
     "metadata": {},
     "output_type": "execute_result"
    }
   ],
   "source": [
    "permits.head()"
   ]
  },
  {
   "cell_type": "code",
   "execution_count": 33,
   "metadata": {
    "hide_input": false,
    "slideshow": {
     "slide_type": "subslide"
    }
   },
   "outputs": [],
   "source": [
    "# Split out the residential and commercial\n",
    "residential = permits.query(\"permitdescription == 'RESIDENTIAL BUILDING PERMIT'\")\n",
    "commercial = permits.query(\"permitdescription == 'COMMERCIAL BUILDING PERMIT'\")"
   ]
  },
  {
   "cell_type": "code",
   "execution_count": 34,
   "metadata": {
    "hide_input": false,
    "slideshow": {
     "slide_type": "subslide"
    }
   },
   "outputs": [],
   "source": [
    "# Make a NumPy array (use the \"values\" attribute)\n",
    "residential_coords = residential[['lat', 'lng']].values\n",
    "commercial_coords = commercial[['lat', 'lng']].values"
   ]
  },
  {
   "cell_type": "code",
   "execution_count": 35,
   "metadata": {
    "hide_input": false,
    "slideshow": {
     "slide_type": "subslide"
    }
   },
   "outputs": [
    {
     "data": {
      "text/plain": [
       "array([[ 40.045317, -75.165507],\n",
       "       [ 40.036004, -75.005385],\n",
       "       [ 40.051579, -75.093348],\n",
       "       [ 39.969465, -75.2167  ],\n",
       "       [ 39.935832, -75.155138]])"
      ]
     },
     "execution_count": 35,
     "metadata": {},
     "output_type": "execute_result"
    }
   ],
   "source": [
    "commercial_coords[:5]"
   ]
  },
  {
   "cell_type": "markdown",
   "metadata": {
    "slideshow": {
     "slide_type": "slide"
    }
   },
   "source": [
    "### Step 4: Make a Folium map and add a HeatMap\n",
    "\n",
    "The HeatMap takes the list of coordinates: **the first column is latitude and the second column longitude**"
   ]
  },
  {
   "cell_type": "markdown",
   "metadata": {
    "hide_input": true,
    "slideshow": {
     "slide_type": "subslide"
    }
   },
   "source": [
    "### Commercial building permits"
   ]
  },
  {
   "cell_type": "code",
   "execution_count": 36,
   "metadata": {
    "hide_input": false,
    "slideshow": {
     "slide_type": "subslide"
    }
   },
   "outputs": [
    {
     "data": {
      "text/html": [
       "<div style=\"width:100%;\"><div style=\"position:relative;width:100%;height:0;padding-bottom:60%;\"><span style=\"color:#565656\">Make this Notebook Trusted to load map: File -> Trust Notebook</span><iframe srcdoc=\"&lt;!DOCTYPE html&gt;\n",
       "&lt;head&gt;    \n",
       "    &lt;meta http-equiv=&quot;content-type&quot; content=&quot;text/html; charset=UTF-8&quot; /&gt;\n",
       "    \n",
       "        &lt;script&gt;\n",
       "            L_NO_TOUCH = false;\n",
       "            L_DISABLE_3D = false;\n",
       "        &lt;/script&gt;\n",
       "    \n",
       "    &lt;style&gt;html, body {width: 100%;height: 100%;margin: 0;padding: 0;}&lt;/style&gt;\n",
       "    &lt;style&gt;#map {position:absolute;top:0;bottom:0;right:0;left:0;}&lt;/style&gt;\n",
       "    &lt;script src=&quot;https://cdn.jsdelivr.net/npm/leaflet@1.6.0/dist/leaflet.js&quot;&gt;&lt;/script&gt;\n",
       "    &lt;script src=&quot;https://code.jquery.com/jquery-1.12.4.min.js&quot;&gt;&lt;/script&gt;\n",
       "    &lt;script src=&quot;https://maxcdn.bootstrapcdn.com/bootstrap/3.2.0/js/bootstrap.min.js&quot;&gt;&lt;/script&gt;\n",
       "    &lt;script src=&quot;https://cdnjs.cloudflare.com/ajax/libs/Leaflet.awesome-markers/2.0.2/leaflet.awesome-markers.js&quot;&gt;&lt;/script&gt;\n",
       "    &lt;link rel=&quot;stylesheet&quot; href=&quot;https://cdn.jsdelivr.net/npm/leaflet@1.6.0/dist/leaflet.css&quot;/&gt;\n",
       "    &lt;link rel=&quot;stylesheet&quot; href=&quot;https://maxcdn.bootstrapcdn.com/bootstrap/3.2.0/css/bootstrap.min.css&quot;/&gt;\n",
       "    &lt;link rel=&quot;stylesheet&quot; href=&quot;https://maxcdn.bootstrapcdn.com/bootstrap/3.2.0/css/bootstrap-theme.min.css&quot;/&gt;\n",
       "    &lt;link rel=&quot;stylesheet&quot; href=&quot;https://maxcdn.bootstrapcdn.com/font-awesome/4.6.3/css/font-awesome.min.css&quot;/&gt;\n",
       "    &lt;link rel=&quot;stylesheet&quot; href=&quot;https://cdnjs.cloudflare.com/ajax/libs/Leaflet.awesome-markers/2.0.2/leaflet.awesome-markers.css&quot;/&gt;\n",
       "    &lt;link rel=&quot;stylesheet&quot; href=&quot;https://cdn.jsdelivr.net/gh/python-visualization/folium/folium/templates/leaflet.awesome.rotate.min.css&quot;/&gt;\n",
       "    \n",
       "            &lt;meta name=&quot;viewport&quot; content=&quot;width=device-width,\n",
       "                initial-scale=1.0, maximum-scale=1.0, user-scalable=no&quot; /&gt;\n",
       "            &lt;style&gt;\n",
       "                #map_9011e6ff1a87e68337fad102767ef2c9 {\n",
       "                    position: relative;\n",
       "                    width: 100.0%;\n",
       "                    height: 100.0%;\n",
       "                    left: 0.0%;\n",
       "                    top: 0.0%;\n",
       "                }\n",
       "            &lt;/style&gt;\n",
       "        \n",
       "    &lt;script src=&quot;https://cdn.jsdelivr.net/gh/python-visualization/folium@main/folium/templates/leaflet_heat.min.js&quot;&gt;&lt;/script&gt;\n",
       "&lt;/head&gt;\n",
       "&lt;body&gt;    \n",
       "    \n",
       "            &lt;div class=&quot;folium-map&quot; id=&quot;map_9011e6ff1a87e68337fad102767ef2c9&quot; &gt;&lt;/div&gt;\n",
       "        \n",
       "&lt;/body&gt;\n",
       "&lt;script&gt;    \n",
       "    \n",
       "            var map_9011e6ff1a87e68337fad102767ef2c9 = L.map(\n",
       "                &quot;map_9011e6ff1a87e68337fad102767ef2c9&quot;,\n",
       "                {\n",
       "                    center: [39.99, -75.13],\n",
       "                    crs: L.CRS.EPSG3857,\n",
       "                    zoom: 12,\n",
       "                    zoomControl: true,\n",
       "                    preferCanvas: false,\n",
       "                }\n",
       "            );\n",
       "\n",
       "            \n",
       "\n",
       "        \n",
       "    \n",
       "            var tile_layer_3dd50946680d84937df71f75a079dcc5 = L.tileLayer(\n",
       "                &quot;https://cartodb-basemaps-{s}.global.ssl.fastly.net/light_all/{z}/{x}/{y}.png&quot;,\n",
       "                {&quot;attribution&quot;: &quot;\\u0026copy; \\u003ca href=\\&quot;http://www.openstreetmap.org/copyright\\&quot;\\u003eOpenStreetMap\\u003c/a\\u003e contributors \\u0026copy; \\u003ca href=\\&quot;http://cartodb.com/attributions\\&quot;\\u003eCartoDB\\u003c/a\\u003e, CartoDB \\u003ca href =\\&quot;http://cartodb.com/attributions\\&quot;\\u003eattributions\\u003c/a\\u003e&quot;, &quot;detectRetina&quot;: false, &quot;maxNativeZoom&quot;: 18, &quot;maxZoom&quot;: 18, &quot;minZoom&quot;: 0, &quot;noWrap&quot;: false, &quot;opacity&quot;: 1, &quot;subdomains&quot;: &quot;abc&quot;, &quot;tms&quot;: false}\n",
       "            ).addTo(map_9011e6ff1a87e68337fad102767ef2c9);\n",
       "        \n",
       "    \n",
       "            var heat_map_197e71bdc8021a2297c3c7d7988fa4df = L.heatLayer(\n",
       "                [[40.045317, -75.165507], [40.036004, -75.005385], [40.051579, -75.093348], [39.969465, -75.2167], [39.935832, -75.155138], [40.008476, -75.124509], [39.947267, -75.150539], [39.993286, -75.098518], [39.98065, -75.178456], [39.95363, -75.16942], [39.954343, -75.201455], [39.965277, -75.203338], [39.935438, -75.175162], [39.937602, -75.169631], [39.937784, -75.148284], [39.941688, -75.15096], [39.954119, -75.155269], [39.960331, -75.201441], [39.974951, -75.18314], [39.942283, -75.23254], [39.964701, -75.159047], [39.978434, -75.133946], [39.922853, -75.156795], [39.951968, -75.156049], [40.052084, -74.980253], [40.003653, -75.154732], [39.984457, -75.157804], [39.947702, -75.172664], [39.983828, -75.145391], [39.949578, -75.168476], [39.886833, -75.247643], [39.91964, -75.171071], [40.001322, -75.186487], [39.932696, -75.184901], [39.958246, -75.196323], [39.938975, -75.189837], [39.942265, -75.182849], [39.953214, -75.192813], [39.986156, -75.148889], [40.028483, -75.131923], [39.971812, -75.251627], [39.950748, -75.189475], [40.039484, -75.171424], [40.047707, -75.056861], [40.020231, -75.133771], [40.026438, -75.154712], [40.045426, -75.114732], [39.971913, -75.254079], [39.948236, -75.166679], [39.930328, -75.153539], [39.948037, -75.143687], [40.030102, -75.229862], [39.959822, -75.160838], [39.953909, -75.154821], [40.003751, -75.205793], [40.109922, -74.975851], [40.07604, -75.047548], [40.036155, -75.129955], [39.986156, -75.148889], [39.948476, -75.191722], [39.94897, -75.158096], [39.94937, -75.155155], [39.952313, -75.158505], [39.939669, -75.155848], [40.02034, -75.121026], [39.971314, -75.165447], [39.901812, -75.167192], [39.952313, -75.158505], [40.008505, -75.150926], [39.951968, -75.156049], [39.952172, -75.166152], [39.96964, -75.135704], [39.949282, -75.161916], [39.950748, -75.189475], [39.960277, -75.16907], [39.965174, -75.170341], [39.945409, -75.233452], [39.958649, -75.241712], [39.951661, -75.160977], [39.943237, -75.18053], [39.95591, -75.233691], [39.95363, -75.16942], [40.047707, -75.056861], [40.064495, -75.240692], [39.940867, -75.14912], [39.967486, -75.136954], [39.994804, -75.128816], [39.943977, -75.194899], [40.056498, -75.144001], [39.949705, -75.168839], [39.952172, -75.166152], [39.926183, -75.154037], [40.002072, -75.140788], [40.040902, -75.144829], [39.996742, -75.185549], [39.924433, -75.168716], [39.948003, -75.226173], [40.087896, -75.034369], [39.941209, -75.152237], [39.926043, -75.178928], [39.984627, -75.124843], [39.95256, -75.168085], [39.994548, -75.106653], [39.950285, -75.142855], [39.949141, -75.174408], [39.968626, -75.203723], [40.017355, -75.149906], [39.932381, -75.15471], [39.94836, -75.171254], [40.039652, -75.223407], [40.048685, -75.022987], [39.984659, -75.124802], [39.984078, -75.143754], [39.953651, -75.143172], [39.987005, -75.168068], [39.950269, -75.151039], [40.120268, -74.995138], [39.95894, -75.159013], [39.964052, -75.141105], [39.946396, -75.173497], [39.974005, -75.203274], [39.99453, -75.155644], [39.954266, -75.174476], [40.007479, -75.065795], [39.984048, -75.166977], [39.987322, -75.150078], [40.02597, -75.127342], [39.896145, -75.230275], [39.97907, -75.217806], [39.887988, -75.185786], [39.941509, -75.161876], [39.992756, -75.113024], [39.988065, -75.125476], [40.087764, -74.96128], [39.979189, -75.136104], [39.970396, -75.206912], [39.987992, -75.180263], [39.98507, -75.102903], [39.954164, -75.173677], [39.982663, -75.139453], [40.052954, -75.009187], [39.956979, -75.163308], [39.957582, -75.220141], [39.966768, -75.177847], [39.976585, -75.216712], [39.947097, -75.163722], [40.085975, -75.022119], [39.989855, -75.105942], [39.88057, -75.232337], [39.923149, -75.171218], [39.955603, -75.168892], [40.02128, -75.209947], [40.029856, -75.143894], [39.946841, -75.162081], [39.971714, -75.139593], [39.945314, -75.177548], [39.972192, -75.163129], [39.981183, -75.163526], [39.968101, -75.160675], [39.949816, -75.181297], [39.968805, -75.206016], [39.988009, -75.183707], [39.948353, -75.179863], [39.955776, -75.194632], [39.923467, -75.1799], [39.991331, -75.14859], [39.958691, -75.241703]],\n",
       "                {&quot;blur&quot;: 15, &quot;maxZoom&quot;: 18, &quot;minOpacity&quot;: 0.5, &quot;radius&quot;: 15}\n",
       "            ).addTo(map_9011e6ff1a87e68337fad102767ef2c9);\n",
       "        \n",
       "&lt;/script&gt;\" style=\"position:absolute;width:100%;height:100%;left:0;top:0;border:none !important;\" allowfullscreen webkitallowfullscreen mozallowfullscreen></iframe></div></div>"
      ],
      "text/plain": [
       "<folium.folium.Map at 0x168230f40>"
      ]
     },
     "execution_count": 36,
     "metadata": {},
     "output_type": "execute_result"
    }
   ],
   "source": [
    "# Initialize map\n",
    "m = folium.Map(\n",
    "    location=[39.99, -75.13],\n",
    "    tiles='Cartodb Positron',\n",
    "    zoom_start=12\n",
    ")\n",
    "\n",
    "\n",
    "# Add heat map coordinates\n",
    "HeatMap(commercial_coords, radius=15).add_to(m)\n",
    "\n",
    "m"
   ]
  },
  {
   "cell_type": "markdown",
   "metadata": {
    "slideshow": {
     "slide_type": "subslide"
    }
   },
   "source": [
    "### Residential building permits"
   ]
  },
  {
   "cell_type": "code",
   "execution_count": 37,
   "metadata": {
    "hide_input": false,
    "slideshow": {
     "slide_type": "slide"
    }
   },
   "outputs": [
    {
     "data": {
      "text/html": [
       "<div style=\"width:100%;\"><div style=\"position:relative;width:100%;height:0;padding-bottom:60%;\"><span style=\"color:#565656\">Make this Notebook Trusted to load map: File -> Trust Notebook</span><iframe srcdoc=\"&lt;!DOCTYPE html&gt;\n",
       "&lt;head&gt;    \n",
       "    &lt;meta http-equiv=&quot;content-type&quot; content=&quot;text/html; charset=UTF-8&quot; /&gt;\n",
       "    \n",
       "        &lt;script&gt;\n",
       "            L_NO_TOUCH = false;\n",
       "            L_DISABLE_3D = false;\n",
       "        &lt;/script&gt;\n",
       "    \n",
       "    &lt;style&gt;html, body {width: 100%;height: 100%;margin: 0;padding: 0;}&lt;/style&gt;\n",
       "    &lt;style&gt;#map {position:absolute;top:0;bottom:0;right:0;left:0;}&lt;/style&gt;\n",
       "    &lt;script src=&quot;https://cdn.jsdelivr.net/npm/leaflet@1.6.0/dist/leaflet.js&quot;&gt;&lt;/script&gt;\n",
       "    &lt;script src=&quot;https://code.jquery.com/jquery-1.12.4.min.js&quot;&gt;&lt;/script&gt;\n",
       "    &lt;script src=&quot;https://maxcdn.bootstrapcdn.com/bootstrap/3.2.0/js/bootstrap.min.js&quot;&gt;&lt;/script&gt;\n",
       "    &lt;script src=&quot;https://cdnjs.cloudflare.com/ajax/libs/Leaflet.awesome-markers/2.0.2/leaflet.awesome-markers.js&quot;&gt;&lt;/script&gt;\n",
       "    &lt;link rel=&quot;stylesheet&quot; href=&quot;https://cdn.jsdelivr.net/npm/leaflet@1.6.0/dist/leaflet.css&quot;/&gt;\n",
       "    &lt;link rel=&quot;stylesheet&quot; href=&quot;https://maxcdn.bootstrapcdn.com/bootstrap/3.2.0/css/bootstrap.min.css&quot;/&gt;\n",
       "    &lt;link rel=&quot;stylesheet&quot; href=&quot;https://maxcdn.bootstrapcdn.com/bootstrap/3.2.0/css/bootstrap-theme.min.css&quot;/&gt;\n",
       "    &lt;link rel=&quot;stylesheet&quot; href=&quot;https://maxcdn.bootstrapcdn.com/font-awesome/4.6.3/css/font-awesome.min.css&quot;/&gt;\n",
       "    &lt;link rel=&quot;stylesheet&quot; href=&quot;https://cdnjs.cloudflare.com/ajax/libs/Leaflet.awesome-markers/2.0.2/leaflet.awesome-markers.css&quot;/&gt;\n",
       "    &lt;link rel=&quot;stylesheet&quot; href=&quot;https://cdn.jsdelivr.net/gh/python-visualization/folium/folium/templates/leaflet.awesome.rotate.min.css&quot;/&gt;\n",
       "    \n",
       "            &lt;meta name=&quot;viewport&quot; content=&quot;width=device-width,\n",
       "                initial-scale=1.0, maximum-scale=1.0, user-scalable=no&quot; /&gt;\n",
       "            &lt;style&gt;\n",
       "                #map_229f4011ac083aa204a8b0930c7bc7db {\n",
       "                    position: relative;\n",
       "                    width: 100.0%;\n",
       "                    height: 100.0%;\n",
       "                    left: 0.0%;\n",
       "                    top: 0.0%;\n",
       "                }\n",
       "            &lt;/style&gt;\n",
       "        \n",
       "    &lt;script src=&quot;https://cdn.jsdelivr.net/gh/python-visualization/folium@main/folium/templates/leaflet_heat.min.js&quot;&gt;&lt;/script&gt;\n",
       "&lt;/head&gt;\n",
       "&lt;body&gt;    \n",
       "    \n",
       "            &lt;div class=&quot;folium-map&quot; id=&quot;map_229f4011ac083aa204a8b0930c7bc7db&quot; &gt;&lt;/div&gt;\n",
       "        \n",
       "&lt;/body&gt;\n",
       "&lt;script&gt;    \n",
       "    \n",
       "            var map_229f4011ac083aa204a8b0930c7bc7db = L.map(\n",
       "                &quot;map_229f4011ac083aa204a8b0930c7bc7db&quot;,\n",
       "                {\n",
       "                    center: [39.99, -75.13],\n",
       "                    crs: L.CRS.EPSG3857,\n",
       "                    zoom: 12,\n",
       "                    zoomControl: true,\n",
       "                    preferCanvas: false,\n",
       "                }\n",
       "            );\n",
       "\n",
       "            \n",
       "\n",
       "        \n",
       "    \n",
       "            var tile_layer_ca1d82a677efc210fe224b1a079442b9 = L.tileLayer(\n",
       "                &quot;https://cartodb-basemaps-{s}.global.ssl.fastly.net/light_all/{z}/{x}/{y}.png&quot;,\n",
       "                {&quot;attribution&quot;: &quot;\\u0026copy; \\u003ca href=\\&quot;http://www.openstreetmap.org/copyright\\&quot;\\u003eOpenStreetMap\\u003c/a\\u003e contributors \\u0026copy; \\u003ca href=\\&quot;http://cartodb.com/attributions\\&quot;\\u003eCartoDB\\u003c/a\\u003e, CartoDB \\u003ca href =\\&quot;http://cartodb.com/attributions\\&quot;\\u003eattributions\\u003c/a\\u003e&quot;, &quot;detectRetina&quot;: false, &quot;maxNativeZoom&quot;: 18, &quot;maxZoom&quot;: 18, &quot;minZoom&quot;: 0, &quot;noWrap&quot;: false, &quot;opacity&quot;: 1, &quot;subdomains&quot;: &quot;abc&quot;, &quot;tms&quot;: false}\n",
       "            ).addTo(map_229f4011ac083aa204a8b0930c7bc7db);\n",
       "        \n",
       "    \n",
       "            var heat_map_e9820cd17cc6c089c812e946373dcb15 = L.heatLayer(\n",
       "                [[40.062348, -75.167333], [39.935474, -75.229383], [40.087285, -75.045759], [39.955371, -75.246626], [39.931515, -75.219071], [39.937808, -75.146757], [39.970787, -75.132642], [39.991137, -75.103842], [39.93, -75.151201], [39.988775, -75.179904], [40.087176, -75.045863], [40.058547, -75.180899], [39.987957, -75.133865], [39.971524, -75.143973], [39.923864, -75.171342], [40.073149, -75.230246], [40.011547, -75.078407], [39.974617, -75.230337], [40.001164, -75.132388], [39.940061, -75.157393], [39.976366, -75.135698], [40.054471, -75.159944], [39.938868, -75.150969], [39.949975, -75.212133], [40.021707, -75.149657], [39.981367, -75.120584], [39.949307, -75.231468], [39.991447, -75.164182], [39.945056, -75.148175], [39.995339, -75.151126], [39.988051, -75.115209], [39.923477, -75.15435], [39.994126, -75.18437], [39.985895, -75.150666], [39.976026, -75.116684], [39.931105, -75.175758], [39.99619, -75.180637], [39.972536, -75.142738], [39.923443, -75.223283], [39.967904, -75.216555], [40.006087, -75.103832], [39.925209, -75.22505], [40.013983, -75.069538], [40.021192, -75.147777], [40.04096, -75.22875], [39.988208, -75.239406], [40.02823, -75.219101], [39.94784, -75.177492], [40.025165, -75.046653], [39.967577, -75.244919], [39.957094, -75.232896], [39.988329, -75.118741], [40.072838, -75.049539], [39.928251, -75.221309], [39.93218, -75.149509], [39.942132, -75.212775], [39.977185, -75.175303], [39.932207, -75.156319], [39.925884, -75.177358], [40.013621, -75.083676], [39.932565, -75.178164], [39.920266, -75.153152], [39.988706, -75.113833], [39.988915, -75.181111], [39.945699, -75.171364], [39.988412, -75.172016], [39.932813, -75.146914], [40.015765, -75.081394], [39.947793, -75.215701], [39.920194, -75.158328], [40.075469, -75.161969], [39.971927, -75.209018], [39.923646, -75.156952], [40.063425, -75.012438], [39.963955, -75.22257], [40.058482, -75.180965], [39.957318, -75.232404], [39.980977, -75.120014], [39.988149, -75.115291], [40.03643, -75.196764], [39.937634, -75.182673], [40.044599, -75.180118], [39.949352, -75.176682], [39.932876, -75.170022], [39.999182, -75.168865], [39.941606, -75.161521], [40.000979, -75.070811], [39.941615, -75.224501], [40.044504, -75.073354], [40.026682, -75.172002], [39.925825, -75.176861], [40.044278, -75.171596], [39.925304, -75.154206], [39.967979, -75.199468], [39.988412, -75.172016], [39.995975, -75.155043], [39.982054, -75.139658], [40.050267, -75.171636], [39.988412, -75.172016], [39.988412, -75.172016], [39.925338, -75.225203], [39.952868, -75.142276], [39.930113, -75.180643], [40.048723, -75.185069], [40.04881, -75.184979], [40.078929, -75.179608], [40.078505, -75.216678], [39.989275, -75.157869], [39.958555, -75.224089], [39.962551, -75.138733], [39.978314, -75.114124], [39.977942, -75.24523], [39.992758, -75.168394], [39.965548, -75.171179], [39.971993, -75.231175], [39.966157, -75.176505], [39.926658, -75.1595], [39.98621, -75.101611], [39.988851, -75.179605], [39.964558, -75.163147], [40.052526, -75.182997], [40.087461, -75.02592], [40.052508, -75.179484], [39.945624, -75.170712], [39.982127, -75.141249], [40.002112, -75.121413], [40.028898, -75.105025], [40.015653, -75.07981], [40.006339, -75.182864], [39.990341, -75.132282], [39.990208, -75.093095], [39.941934, -75.224441], [40.044278, -75.171596], [39.994623, -75.176522], [40.001558, -75.150294], [39.999722, -75.116452], [40.119932, -75.007889], [39.982882, -75.145258], [39.96948, -75.23171], [39.984741, -75.108732], [39.959267, -75.221194], [39.915286, -75.1627], [39.948511, -75.178859], [39.97145, -75.17797], [40.067939, -75.167852], [39.943389, -75.243045], [39.990802, -75.152225], [39.940963, -75.22923], [39.955701, -75.223292], [39.988412, -75.172016], [39.92988, -75.232371], [39.913028, -75.170276], [39.981159, -75.172183], [39.950061, -75.208981], [40.039915, -75.146773], [40.038221, -75.075752], [39.993112, -75.159495], [40.034969, -75.08427], [39.94266, -75.215063], [40.044365, -75.14731], [39.929226, -75.163444], [40.064396, -75.155794], [39.988813, -75.179896], [40.006092, -75.14595], [39.988851, -75.179887], [39.984367, -75.14775], [40.031445, -75.066953], [39.937919, -75.147337], [39.924837, -75.158274], [40.056787, -75.064611], [39.988083, -75.115236], [39.927529, -75.241994], [39.932308, -75.159706], [39.934097, -75.156365], [40.028932, -75.10492], [39.953736, -75.144717], [39.968994, -75.241814], [40.019875, -75.06788], [39.970843, -75.209192], [39.943082, -75.181623], [39.942665, -75.176515], [39.926322, -75.158174], [40.039979, -75.119763], [39.988412, -75.172016], [40.007222, -75.1409], [39.976011, -75.185767], [39.955032, -75.236805], [39.988775, -75.113879], [39.988598, -75.11407], [39.992165, -75.144766], [39.972696, -75.200517], [39.92451, -75.15052], [39.983379, -75.180878], [39.968219, -75.177352], [39.946026, -75.221957], [40.000062, -75.069001], [40.062925, -75.149321], [39.931, -75.171226], [39.908497, -75.176483], [39.938298, -75.192027], [40.017569, -75.15584], [40.00296, -75.124813], [39.971074, -75.175347], [39.944232, -75.174713], [40.061049, -75.166011], [39.967106, -75.199009], [39.985977, -75.130151], [39.969694, -75.219973], [40.047023, -75.062198], [39.932195, -75.177384], [39.959147, -75.235562], [39.97701, -75.241462], [40.001971, -75.172517], [40.04309, -75.178269], [40.05315, -75.015235], [40.035318, -75.054147], [40.045455, -75.0808], [39.948894, -75.176747], [40.01657, -75.137152], [39.929567, -75.183485], [40.022883, -75.215476], [39.936425, -75.176397], [39.933039, -75.177191], [40.03852, -75.052431], [40.009049, -75.093314], [40.018449, -75.2048], [39.925632, -75.181908], [39.92623, -75.154027], [40.004062, -75.169916], [39.989157, -75.134455], [39.922244, -75.157632], [40.08727, -75.216169], [39.926141, -75.178683], [40.028439, -75.040986], [39.988412, -75.172016], [39.988097, -75.179302], [39.950853, -75.233468], [40.033211, -75.083899], [39.931508, -75.171051], [39.987291, -75.154922], [40.066575, -75.003215], [40.006796, -75.136699], [40.036048, -75.043605], [39.949184, -75.237675], [39.988633, -75.178284], [39.942471, -75.176786], [39.940556, -75.177767], [39.984461, -75.122209], [39.956853, -75.231404], [39.964427, -75.169681], [39.987803, -75.112635], [39.969853, -75.23806], [40.025697, -75.141574], [40.009074, -75.093369], [39.985839, -75.229771], [40.04357, -75.230274], [39.929941, -75.179348], [40.070018, -75.160296], [39.930809, -75.158869], [40.097155, -75.043703], [39.9168, -75.151741], [40.052247, -75.151115], [39.98973, -75.120788], [39.982913, -75.182096], [39.945897, -75.22358], [39.988741, -75.113856], [40.067951, -75.19075], [40.003359, -75.177617], [39.938708, -75.188179], [40.051344, -75.161556], [40.087623, -75.051883], [40.02564, -75.140279], [39.932791, -75.152219], [40.036411, -75.22756], [40.037842, -75.161405], [40.071455, -74.978617], [39.93184, -75.218432], [39.935653, -75.159831], [39.936304, -75.196199], [39.974178, -75.184853], [39.956199, -75.175644], [39.916177, -75.161646], [40.061574, -75.227787], [39.988412, -75.172016], [39.985709, -75.186205], [39.992554, -75.16325], [39.935904, -75.188464], [39.943298, -75.18089], [39.9958, -75.187171], [39.921973, -75.153933], [39.980979, -75.177101], [40.059086, -75.159835], [40.024876, -75.173722], [39.965863, -75.223362], [40.052623, -75.183241], [39.99285, -75.183645], [39.968362, -75.238533], [39.973167, -75.127306], [40.02886, -75.167273], [39.924657, -75.233539], [40.038838, -75.074534]],\n",
       "                {&quot;blur&quot;: 15, &quot;maxZoom&quot;: 18, &quot;minOpacity&quot;: 0.5, &quot;radius&quot;: 15}\n",
       "            ).addTo(map_229f4011ac083aa204a8b0930c7bc7db);\n",
       "        \n",
       "&lt;/script&gt;\" style=\"position:absolute;width:100%;height:100%;left:0;top:0;border:none !important;\" allowfullscreen webkitallowfullscreen mozallowfullscreen></iframe></div></div>"
      ],
      "text/plain": [
       "<folium.folium.Map at 0x15fff8520>"
      ]
     },
     "execution_count": 37,
     "metadata": {},
     "output_type": "execute_result"
    }
   ],
   "source": [
    "# Initialize map\n",
    "m = folium.Map(\n",
    "    location=[39.99, -75.13],\n",
    "    tiles='Cartodb Positron',\n",
    "    zoom_start=12\n",
    ")\n",
    "\n",
    "\n",
    "# Add heat map\n",
    "HeatMap(residential_coords, radius=15).add_to(m)\n",
    "\n",
    "m"
   ]
  },
  {
   "cell_type": "markdown",
   "metadata": {
    "slideshow": {
     "slide_type": "slide"
    }
   },
   "source": [
    "### Takeaways\n",
    "\n",
    "Commercial construction concentrated in the greater Center City area while residential construction is primarily outside of Center City..."
   ]
  },
  {
   "cell_type": "markdown",
   "metadata": {
    "slideshow": {
     "slide_type": "slide"
    }
   },
   "source": [
    "## That's it for interactive maps w/ Folium...\n",
    "\n",
    "\n",
    "Now on to clustering..."
   ]
  },
  {
   "cell_type": "markdown",
   "metadata": {
    "slideshow": {
     "slide_type": "slide"
    }
   },
   "source": [
    "## Clustering in Python\n",
    "\n",
    "- Both spatial and non-spatial datasets\n",
    "- Two new techniques: \n",
    "    - Non-spatial: **K-means**\n",
    "    - Spatial: **DBSCAN**\n",
    "- Two labs/exercises this week:\n",
    "    1. Grouping Philadelphia neighborhoods by AirBnb listings\n",
    "    1. Identifying clusters in taxi rides in NYC"
   ]
  },
  {
   "cell_type": "markdown",
   "metadata": {
    "slideshow": {
     "slide_type": "slide"
    }
   },
   "source": [
    "## \"Machine learning\"\n",
    "\n",
    "<img src=\"imgs/machine_learning.jpg\" width=700>"
   ]
  },
  {
   "cell_type": "markdown",
   "metadata": {
    "slideshow": {
     "slide_type": "subslide"
    }
   },
   "source": [
    "- The computer **learns** patterns and properties of an input data set without the user specifying them beforehand\n",
    "- Can be both **supervised** and **unsupervised**"
   ]
  },
  {
   "cell_type": "markdown",
   "metadata": {
    "slideshow": {
     "slide_type": "subslide"
    }
   },
   "source": [
    "### Supervised\n",
    "- Example: classification\n",
    "- Given a training set of **labeled** data, learn to assign labels to new data\n",
    "\n",
    "### Unsupervised\n",
    "- Example: clustering\n",
    "- Identify structure / clusters in data without any prior knowledge"
   ]
  },
  {
   "cell_type": "markdown",
   "metadata": {
    "slideshow": {
     "slide_type": "slide"
    }
   },
   "source": [
    "## Machine learning in Python: scikit-learn\n",
    "\n",
    "- State-of-the-art machine learning in Python\n",
    "- Easy to use, lots of functionality"
   ]
  },
  {
   "cell_type": "markdown",
   "metadata": {
    "slideshow": {
     "slide_type": "subslide"
    }
   },
   "source": [
    "## Clustering is just one (of many) features\n",
    "<img src=\"imgs/scikit_learn.png\" width=700>"
   ]
  },
  {
   "cell_type": "markdown",
   "metadata": {
    "slideshow": {
     "slide_type": "subslide"
    }
   },
   "source": [
    "https://scikit-learn.org/stable/\n",
    "    \n",
    "**Note:** We will focus on clustering algorithms today and discuss a few other machine learning techniques in the next two weeks. If there is a specific scikit-learn use case we won't cover, I'm open to ideas for incorporating it as part of the final project. "
   ]
  },
  {
   "cell_type": "markdown",
   "metadata": {
    "slideshow": {
     "slide_type": "slide"
    }
   },
   "source": [
    "## Part 1: Non-spatial clustering\n",
    "\n",
    "**The goal**\n",
    "\n",
    "Partition a dataset into groups that have a similar set of attributes, **or features**, within the group and a dissimilar set of features between groups.\n",
    "\n",
    "Minimize the *intra-cluster* variance and maximize the *inter-cluster* variance of features."
   ]
  },
  {
   "cell_type": "markdown",
   "metadata": {
    "slideshow": {
     "slide_type": "subslide"
    }
   },
   "source": [
    "## Some intuition\n",
    "<img src=\"imgs/clustering.png\" width=700>"
   ]
  },
  {
   "cell_type": "markdown",
   "metadata": {
    "slideshow": {
     "slide_type": "slide"
    }
   },
   "source": [
    "## K-Means clustering\n",
    "\n",
    "- Simple but robust clustering algorithm\n",
    "- Widely used\n",
    "- **Important:** user must specify the number of clusters\n",
    "- **Cannot** be used to find density-based clusters"
   ]
  },
  {
   "cell_type": "markdown",
   "metadata": {
    "slideshow": {
     "slide_type": "slide"
    }
   },
   "source": [
    "## This is just one of several clustering methods\n",
    "\n",
    "https://scikit-learn.org/stable/modules/clustering.html#overview-of-clustering-methods"
   ]
  },
  {
   "cell_type": "markdown",
   "metadata": {
    "slideshow": {
     "slide_type": "subslide"
    }
   },
   "source": [
    "## A good introduction\n",
    "\n",
    "[Andrew Ng's Coursera lecture](https://www.youtube.com/watch?v=hDmNF9JG3lo&feature=youtu.be)"
   ]
  },
  {
   "cell_type": "markdown",
   "metadata": {
    "slideshow": {
     "slide_type": "slide"
    }
   },
   "source": [
    "## How does it work?\n",
    "\n",
    "**Minimizes the intra-cluster variance**: minimizes the sum of the squared distances between all points in a cluster and the cluster centroid"
   ]
  },
  {
   "cell_type": "markdown",
   "metadata": {
    "slideshow": {
     "slide_type": "slide"
    }
   },
   "source": [
    "## K-means in action\n",
    "\n",
    "<img src=\"imgs/K-means_convergence.gif\" width=500>"
   ]
  },
  {
   "cell_type": "markdown",
   "metadata": {
    "slideshow": {
     "slide_type": "slide"
    }
   },
   "source": [
    "## Example: Clustering countries by health and income\n",
    "\n",
    "- Health expectancy in years vs. GDP per capita and population for 187 countries (as of 2015)\n",
    "- Data from [Gapminder](https://www.gapminder.org/data/)"
   ]
  },
  {
   "cell_type": "code",
   "execution_count": 38,
   "metadata": {
    "slideshow": {
     "slide_type": "subslide"
    }
   },
   "outputs": [],
   "source": [
    "import altair as alt\n",
    "from vega_datasets import data as vega_data"
   ]
  },
  {
   "cell_type": "markdown",
   "metadata": {
    "slideshow": {
     "slide_type": "subslide"
    }
   },
   "source": [
    "Read the data from a URL:"
   ]
  },
  {
   "cell_type": "code",
   "execution_count": 39,
   "metadata": {
    "slideshow": {
     "slide_type": "subslide"
    }
   },
   "outputs": [
    {
     "data": {
      "text/html": [
       "<div>\n",
       "<style scoped>\n",
       "    .dataframe tbody tr th:only-of-type {\n",
       "        vertical-align: middle;\n",
       "    }\n",
       "\n",
       "    .dataframe tbody tr th {\n",
       "        vertical-align: top;\n",
       "    }\n",
       "\n",
       "    .dataframe thead th {\n",
       "        text-align: right;\n",
       "    }\n",
       "</style>\n",
       "<table border=\"1\" class=\"dataframe\">\n",
       "  <thead>\n",
       "    <tr style=\"text-align: right;\">\n",
       "      <th></th>\n",
       "      <th>country</th>\n",
       "      <th>income</th>\n",
       "      <th>health</th>\n",
       "      <th>population</th>\n",
       "    </tr>\n",
       "  </thead>\n",
       "  <tbody>\n",
       "    <tr>\n",
       "      <th>0</th>\n",
       "      <td>Afghanistan</td>\n",
       "      <td>1925</td>\n",
       "      <td>57.63</td>\n",
       "      <td>32526562</td>\n",
       "    </tr>\n",
       "    <tr>\n",
       "      <th>1</th>\n",
       "      <td>Albania</td>\n",
       "      <td>10620</td>\n",
       "      <td>76.00</td>\n",
       "      <td>2896679</td>\n",
       "    </tr>\n",
       "    <tr>\n",
       "      <th>2</th>\n",
       "      <td>Algeria</td>\n",
       "      <td>13434</td>\n",
       "      <td>76.50</td>\n",
       "      <td>39666519</td>\n",
       "    </tr>\n",
       "    <tr>\n",
       "      <th>3</th>\n",
       "      <td>Andorra</td>\n",
       "      <td>46577</td>\n",
       "      <td>84.10</td>\n",
       "      <td>70473</td>\n",
       "    </tr>\n",
       "    <tr>\n",
       "      <th>4</th>\n",
       "      <td>Angola</td>\n",
       "      <td>7615</td>\n",
       "      <td>61.00</td>\n",
       "      <td>25021974</td>\n",
       "    </tr>\n",
       "  </tbody>\n",
       "</table>\n",
       "</div>"
      ],
      "text/plain": [
       "       country  income  health  population\n",
       "0  Afghanistan    1925   57.63    32526562\n",
       "1      Albania   10620   76.00     2896679\n",
       "2      Algeria   13434   76.50    39666519\n",
       "3      Andorra   46577   84.10       70473\n",
       "4       Angola    7615   61.00    25021974"
      ]
     },
     "execution_count": 39,
     "metadata": {},
     "output_type": "execute_result"
    }
   ],
   "source": [
    "gapminder = pd.read_csv(vega_data.gapminder_health_income.url)\n",
    "gapminder.head()"
   ]
  },
  {
   "cell_type": "markdown",
   "metadata": {
    "slideshow": {
     "slide_type": "slide"
    }
   },
   "source": [
    "## Plot it with altair"
   ]
  },
  {
   "cell_type": "code",
   "execution_count": 40,
   "metadata": {
    "slideshow": {
     "slide_type": "subslide"
    }
   },
   "outputs": [
    {
     "data": {
      "text/html": [
       "\n",
       "<div id=\"altair-viz-8c8d2060492b44ca9be5d59a7cc09bf1\"></div>\n",
       "<script type=\"text/javascript\">\n",
       "  var VEGA_DEBUG = (typeof VEGA_DEBUG == \"undefined\") ? {} : VEGA_DEBUG;\n",
       "  (function(spec, embedOpt){\n",
       "    let outputDiv = document.currentScript.previousElementSibling;\n",
       "    if (outputDiv.id !== \"altair-viz-8c8d2060492b44ca9be5d59a7cc09bf1\") {\n",
       "      outputDiv = document.getElementById(\"altair-viz-8c8d2060492b44ca9be5d59a7cc09bf1\");\n",
       "    }\n",
       "    const paths = {\n",
       "      \"vega\": \"https://cdn.jsdelivr.net/npm//vega@5?noext\",\n",
       "      \"vega-lib\": \"https://cdn.jsdelivr.net/npm//vega-lib?noext\",\n",
       "      \"vega-lite\": \"https://cdn.jsdelivr.net/npm//vega-lite@4.17.0?noext\",\n",
       "      \"vega-embed\": \"https://cdn.jsdelivr.net/npm//vega-embed@6?noext\",\n",
       "    };\n",
       "\n",
       "    function maybeLoadScript(lib, version) {\n",
       "      var key = `${lib.replace(\"-\", \"\")}_version`;\n",
       "      return (VEGA_DEBUG[key] == version) ?\n",
       "        Promise.resolve(paths[lib]) :\n",
       "        new Promise(function(resolve, reject) {\n",
       "          var s = document.createElement('script');\n",
       "          document.getElementsByTagName(\"head\")[0].appendChild(s);\n",
       "          s.async = true;\n",
       "          s.onload = () => {\n",
       "            VEGA_DEBUG[key] = version;\n",
       "            return resolve(paths[lib]);\n",
       "          };\n",
       "          s.onerror = () => reject(`Error loading script: ${paths[lib]}`);\n",
       "          s.src = paths[lib];\n",
       "        });\n",
       "    }\n",
       "\n",
       "    function showError(err) {\n",
       "      outputDiv.innerHTML = `<div class=\"error\" style=\"color:red;\">${err}</div>`;\n",
       "      throw err;\n",
       "    }\n",
       "\n",
       "    function displayChart(vegaEmbed) {\n",
       "      vegaEmbed(outputDiv, spec, embedOpt)\n",
       "        .catch(err => showError(`Javascript Error: ${err.message}<br>This usually means there's a typo in your chart specification. See the javascript console for the full traceback.`));\n",
       "    }\n",
       "\n",
       "    if(typeof define === \"function\" && define.amd) {\n",
       "      requirejs.config({paths});\n",
       "      require([\"vega-embed\"], displayChart, err => showError(`Error loading script: ${err.message}`));\n",
       "    } else {\n",
       "      maybeLoadScript(\"vega\", \"5\")\n",
       "        .then(() => maybeLoadScript(\"vega-lite\", \"4.17.0\"))\n",
       "        .then(() => maybeLoadScript(\"vega-embed\", \"6\"))\n",
       "        .catch(showError)\n",
       "        .then(() => displayChart(vegaEmbed));\n",
       "    }\n",
       "  })({\"config\": {\"view\": {\"continuousWidth\": 400, \"continuousHeight\": 300}}, \"data\": {\"name\": \"data-7e3b7ef5d72a8470b0044710e8a24cca\"}, \"mark\": \"circle\", \"encoding\": {\"size\": {\"field\": \"population\", \"type\": \"quantitative\"}, \"tooltip\": [{\"field\": \"country\", \"type\": \"nominal\"}, {\"field\": \"income\", \"type\": \"quantitative\"}, {\"field\": \"health\", \"type\": \"quantitative\"}, {\"field\": \"population\", \"type\": \"quantitative\"}], \"x\": {\"field\": \"income\", \"scale\": {\"type\": \"log\"}, \"type\": \"quantitative\"}, \"y\": {\"field\": \"health\", \"scale\": {\"zero\": false}, \"type\": \"quantitative\"}}, \"height\": 600, \"selection\": {\"selector001\": {\"type\": \"interval\", \"bind\": \"scales\", \"encodings\": [\"x\", \"y\"]}}, \"width\": 800, \"$schema\": \"https://vega.github.io/schema/vega-lite/v4.17.0.json\", \"datasets\": {\"data-7e3b7ef5d72a8470b0044710e8a24cca\": [{\"country\": \"Afghanistan\", \"income\": 1925, \"health\": 57.63, \"population\": 32526562}, {\"country\": \"Albania\", \"income\": 10620, \"health\": 76.0, \"population\": 2896679}, {\"country\": \"Algeria\", \"income\": 13434, \"health\": 76.5, \"population\": 39666519}, {\"country\": \"Andorra\", \"income\": 46577, \"health\": 84.1, \"population\": 70473}, {\"country\": \"Angola\", \"income\": 7615, \"health\": 61.0, \"population\": 25021974}, {\"country\": \"Antigua and Barbuda\", \"income\": 21049, \"health\": 75.2, \"population\": 91818}, {\"country\": \"Argentina\", \"income\": 17344, \"health\": 76.2, \"population\": 43416755}, {\"country\": \"Armenia\", \"income\": 7763, \"health\": 74.4, \"population\": 3017712}, {\"country\": \"Australia\", \"income\": 44056, \"health\": 81.8, \"population\": 23968973}, {\"country\": \"Austria\", \"income\": 44401, \"health\": 81.0, \"population\": 8544586}, {\"country\": \"Azerbaijan\", \"income\": 16986, \"health\": 72.9, \"population\": 9753968}, {\"country\": \"Bahamas\", \"income\": 22818, \"health\": 72.3, \"population\": 388019}, {\"country\": \"Bahrain\", \"income\": 44138, \"health\": 79.2, \"population\": 1377237}, {\"country\": \"Bangladesh\", \"income\": 3161, \"health\": 70.1, \"population\": 160995642}, {\"country\": \"Barbados\", \"income\": 12984, \"health\": 75.8, \"population\": 284215}, {\"country\": \"Belarus\", \"income\": 17415, \"health\": 70.4, \"population\": 9495826}, {\"country\": \"Belgium\", \"income\": 41240, \"health\": 80.4, \"population\": 11299192}, {\"country\": \"Belize\", \"income\": 8501, \"health\": 70.0, \"population\": 359287}, {\"country\": \"Benin\", \"income\": 1830, \"health\": 65.5, \"population\": 10879829}, {\"country\": \"Bhutan\", \"income\": 7983, \"health\": 70.2, \"population\": 774830}, {\"country\": \"Bolivia\", \"income\": 6295, \"health\": 72.3, \"population\": 10724705}, {\"country\": \"Bosnia and Herzegovina\", \"income\": 9833, \"health\": 77.9, \"population\": 3810416}, {\"country\": \"Botswana\", \"income\": 17196, \"health\": 66.4, \"population\": 2262485}, {\"country\": \"Brazil\", \"income\": 15441, \"health\": 75.6, \"population\": 207847528}, {\"country\": \"Brunei\", \"income\": 73003, \"health\": 78.7, \"population\": 423188}, {\"country\": \"Bulgaria\", \"income\": 16371, \"health\": 74.9, \"population\": 7149787}, {\"country\": \"Burkina Faso\", \"income\": 1654, \"health\": 62.8, \"population\": 18105570}, {\"country\": \"Burundi\", \"income\": 777, \"health\": 60.4, \"population\": 11178921}, {\"country\": \"Cambodia\", \"income\": 3267, \"health\": 68.4, \"population\": 15577899}, {\"country\": \"Cameroon\", \"income\": 2897, \"health\": 59.5, \"population\": 23344179}, {\"country\": \"Canada\", \"income\": 43294, \"health\": 81.7, \"population\": 35939927}, {\"country\": \"Cape Verde\", \"income\": 6514, \"health\": 74.6, \"population\": 520502}, {\"country\": \"Central African Republic\", \"income\": 599, \"health\": 53.8, \"population\": 4900274}, {\"country\": \"Chad\", \"income\": 2191, \"health\": 57.7, \"population\": 14037472}, {\"country\": \"Chile\", \"income\": 22465, \"health\": 79.3, \"population\": 17948141}, {\"country\": \"China\", \"income\": 13334, \"health\": 76.9, \"population\": 1376048943}, {\"country\": \"Colombia\", \"income\": 12761, \"health\": 75.8, \"population\": 48228704}, {\"country\": \"Comoros\", \"income\": 1472, \"health\": 64.1, \"population\": 788474}, {\"country\": \"Congo, Dem. Rep.\", \"income\": 809, \"health\": 58.3, \"population\": 77266814}, {\"country\": \"Congo, Rep.\", \"income\": 6220, \"health\": 61.9, \"population\": 4620330}, {\"country\": \"Costa Rica\", \"income\": 14132, \"health\": 80.0, \"population\": 4807850}, {\"country\": \"Cote d'Ivoire\", \"income\": 3491, \"health\": 60.33, \"population\": 22701556}, {\"country\": \"Croatia\", \"income\": 20260, \"health\": 78.0, \"population\": 4240317}, {\"country\": \"Cuba\", \"income\": 21291, \"health\": 78.5, \"population\": 11389562}, {\"country\": \"Cyprus\", \"income\": 29797, \"health\": 82.6, \"population\": 1165300}, {\"country\": \"Czech Republic\", \"income\": 29437, \"health\": 78.6, \"population\": 10543186}, {\"country\": \"Denmark\", \"income\": 43495, \"health\": 80.1, \"population\": 5669081}, {\"country\": \"Djibouti\", \"income\": 3139, \"health\": 64.63, \"population\": 887861}, {\"country\": \"Dominica\", \"income\": 10503, \"health\": 74.6, \"population\": 72680}, {\"country\": \"Dominican Republic\", \"income\": 12837, \"health\": 73.8, \"population\": 10528391}, {\"country\": \"Ecuador\", \"income\": 10996, \"health\": 75.2, \"population\": 16144363}, {\"country\": \"Egypt\", \"income\": 11031, \"health\": 71.3, \"population\": 91508084}, {\"country\": \"El Salvador\", \"income\": 7776, \"health\": 74.1, \"population\": 6126583}, {\"country\": \"Equatorial Guinea\", \"income\": 31087, \"health\": 60.63, \"population\": 845060}, {\"country\": \"Eritrea\", \"income\": 1129, \"health\": 62.9, \"population\": 5227791}, {\"country\": \"Estonia\", \"income\": 26812, \"health\": 76.8, \"population\": 1312558}, {\"country\": \"Ethiopia\", \"income\": 1520, \"health\": 63.6, \"population\": 99390750}, {\"country\": \"Fiji\", \"income\": 7925, \"health\": 66.3, \"population\": 892145}, {\"country\": \"Finland\", \"income\": 38923, \"health\": 80.8, \"population\": 5503457}, {\"country\": \"France\", \"income\": 37599, \"health\": 81.9, \"population\": 64395345}, {\"country\": \"Gabon\", \"income\": 18627, \"health\": 60.53, \"population\": 1725292}, {\"country\": \"Gambia\", \"income\": 1644, \"health\": 65.1, \"population\": 1990924}, {\"country\": \"Georgia\", \"income\": 7474, \"health\": 73.3, \"population\": 3999812}, {\"country\": \"Germany\", \"income\": 44053, \"health\": 81.1, \"population\": 80688545}, {\"country\": \"Ghana\", \"income\": 4099, \"health\": 65.5, \"population\": 27409893}, {\"country\": \"Greece\", \"income\": 25430, \"health\": 79.8, \"population\": 10954617}, {\"country\": \"Grenada\", \"income\": 11593, \"health\": 71.7, \"population\": 106825}, {\"country\": \"Guatemala\", \"income\": 7279, \"health\": 73.1, \"population\": 16342897}, {\"country\": \"Guinea\", \"income\": 1225, \"health\": 60.8, \"population\": 12608590}, {\"country\": \"Guinea-Bissau\", \"income\": 1386, \"health\": 53.4, \"population\": 1844325}, {\"country\": \"Guyana\", \"income\": 6816, \"health\": 64.4, \"population\": 767085}, {\"country\": \"Haiti\", \"income\": 1710, \"health\": 65.3, \"population\": 10711067}, {\"country\": \"Honduras\", \"income\": 4270, \"health\": 72.4, \"population\": 8075060}, {\"country\": \"Hungary\", \"income\": 24200, \"health\": 76.2, \"population\": 9855023}, {\"country\": \"Iceland\", \"income\": 42182, \"health\": 82.8, \"population\": 329425}, {\"country\": \"India\", \"income\": 5903, \"health\": 66.8, \"population\": 1311050527}, {\"country\": \"Indonesia\", \"income\": 10504, \"health\": 70.9, \"population\": 257563815}, {\"country\": \"Iran\", \"income\": 15573, \"health\": 78.5, \"population\": 79109272}, {\"country\": \"Iraq\", \"income\": 14646, \"health\": 72.1, \"population\": 36423395}, {\"country\": \"Ireland\", \"income\": 47758, \"health\": 80.4, \"population\": 4688465}, {\"country\": \"Israel\", \"income\": 31590, \"health\": 82.4, \"population\": 8064036}, {\"country\": \"Italy\", \"income\": 33297, \"health\": 82.1, \"population\": 59797685}, {\"country\": \"Jamaica\", \"income\": 8606, \"health\": 75.5, \"population\": 2793335}, {\"country\": \"Japan\", \"income\": 36162, \"health\": 83.5, \"population\": 126573481}, {\"country\": \"Jordan\", \"income\": 11752, \"health\": 78.3, \"population\": 7594547}, {\"country\": \"Kazakhstan\", \"income\": 23468, \"health\": 68.2, \"population\": 17625226}, {\"country\": \"Kenya\", \"income\": 2898, \"health\": 66.63, \"population\": 46050302}, {\"country\": \"Kiribati\", \"income\": 1824, \"health\": 62.4, \"population\": 112423}, {\"country\": \"Kuwait\", \"income\": 82633, \"health\": 80.7, \"population\": 3892115}, {\"country\": \"Kyrgyz Republic\", \"income\": 3245, \"health\": 69.0, \"population\": 5939962}, {\"country\": \"Lao\", \"income\": 5212, \"health\": 66.4, \"population\": 6802023}, {\"country\": \"Latvia\", \"income\": 23282, \"health\": 75.7, \"population\": 1970503}, {\"country\": \"Lebanon\", \"income\": 17050, \"health\": 78.5, \"population\": 5850743}, {\"country\": \"Lesotho\", \"income\": 2598, \"health\": 48.5, \"population\": 2135022}, {\"country\": \"Liberia\", \"income\": 958, \"health\": 63.9, \"population\": 4503438}, {\"country\": \"Libya\", \"income\": 17261, \"health\": 76.2, \"population\": 6278438}, {\"country\": \"Lithuania\", \"income\": 26665, \"health\": 75.4, \"population\": 2878405}, {\"country\": \"Luxembourg\", \"income\": 88314, \"health\": 81.1, \"population\": 567110}, {\"country\": \"Macedonia, FYR\", \"income\": 12547, \"health\": 77.0, \"population\": 2078453}, {\"country\": \"Madagascar\", \"income\": 1400, \"health\": 64.7, \"population\": 24235390}, {\"country\": \"Malawi\", \"income\": 799, \"health\": 60.22, \"population\": 17215232}, {\"country\": \"Malaysia\", \"income\": 24320, \"health\": 75.1, \"population\": 30331007}, {\"country\": \"Maldives\", \"income\": 14408, \"health\": 79.5, \"population\": 363657}, {\"country\": \"Mali\", \"income\": 1684, \"health\": 57.6, \"population\": 17599694}, {\"country\": \"Malta\", \"income\": 30265, \"health\": 82.1, \"population\": 418670}, {\"country\": \"Marshall Islands\", \"income\": 3661, \"health\": 65.1, \"population\": 52993}, {\"country\": \"Mauritania\", \"income\": 3877, \"health\": 65.7, \"population\": 4067564}, {\"country\": \"Mauritius\", \"income\": 18350, \"health\": 73.9, \"population\": 1273212}, {\"country\": \"Mexico\", \"income\": 16850, \"health\": 74.5, \"population\": 127017224}, {\"country\": \"Micronesia, Fed. Sts.\", \"income\": 3510, \"health\": 67.0, \"population\": 104460}, {\"country\": \"Moldova\", \"income\": 4896, \"health\": 72.7, \"population\": 4068897}, {\"country\": \"Mongolia\", \"income\": 11819, \"health\": 65.3, \"population\": 2959134}, {\"country\": \"Montenegro\", \"income\": 14833, \"health\": 75.8, \"population\": 625781}, {\"country\": \"Morocco\", \"income\": 7319, \"health\": 74.7, \"population\": 34377511}, {\"country\": \"Mozambique\", \"income\": 1176, \"health\": 56.4, \"population\": 27977863}, {\"country\": \"Myanmar\", \"income\": 4012, \"health\": 67.9, \"population\": 53897154}, {\"country\": \"Namibia\", \"income\": 10040, \"health\": 61.0, \"population\": 2458830}, {\"country\": \"Nepal\", \"income\": 2352, \"health\": 71.2, \"population\": 28513700}, {\"country\": \"Netherlands\", \"income\": 45784, \"health\": 80.6, \"population\": 16924929}, {\"country\": \"New Zealand\", \"income\": 34186, \"health\": 80.6, \"population\": 4528526}, {\"country\": \"Nicaragua\", \"income\": 4712, \"health\": 76.8, \"population\": 6082032}, {\"country\": \"Niger\", \"income\": 943, \"health\": 62.2, \"population\": 19899120}, {\"country\": \"Nigeria\", \"income\": 5727, \"health\": 61.33, \"population\": 182201962}, {\"country\": \"North Korea\", \"income\": 1390, \"health\": 71.4, \"population\": 25155317}, {\"country\": \"Norway\", \"income\": 64304, \"health\": 81.6, \"population\": 5210967}, {\"country\": \"Oman\", \"income\": 48226, \"health\": 75.7, \"population\": 4490541}, {\"country\": \"Pakistan\", \"income\": 4743, \"health\": 66.5, \"population\": 188924874}, {\"country\": \"Panama\", \"income\": 20485, \"health\": 78.2, \"population\": 3929141}, {\"country\": \"Papua New Guinea\", \"income\": 2529, \"health\": 60.6, \"population\": 7619321}, {\"country\": \"Paraguay\", \"income\": 8219, \"health\": 73.9, \"population\": 6639123}, {\"country\": \"Peru\", \"income\": 11903, \"health\": 77.5, \"population\": 31376670}, {\"country\": \"Philippines\", \"income\": 6876, \"health\": 70.2, \"population\": 100699395}, {\"country\": \"Poland\", \"income\": 24787, \"health\": 77.3, \"population\": 38611794}, {\"country\": \"Portugal\", \"income\": 26437, \"health\": 79.8, \"population\": 10349803}, {\"country\": \"Qatar\", \"income\": 132877, \"health\": 82.0, \"population\": 2235355}, {\"country\": \"Romania\", \"income\": 19203, \"health\": 76.8, \"population\": 19511324}, {\"country\": \"Russia\", \"income\": 23038, \"health\": 73.13, \"population\": 143456918}, {\"country\": \"Rwanda\", \"income\": 1549, \"health\": 66.53, \"population\": 11609666}, {\"country\": \"Samoa\", \"income\": 5558, \"health\": 72.2, \"population\": 193228}, {\"country\": \"Sao Tome and Principe\", \"income\": 3003, \"health\": 68.8, \"population\": 190344}, {\"country\": \"Saudi Arabia\", \"income\": 52469, \"health\": 78.1, \"population\": 31540372}, {\"country\": \"Senegal\", \"income\": 2251, \"health\": 66.1, \"population\": 15129273}, {\"country\": \"Serbia\", \"income\": 12908, \"health\": 78.1, \"population\": 8850975}, {\"country\": \"Seychelles\", \"income\": 25684, \"health\": 73.7, \"population\": 96471}, {\"country\": \"Sierra Leone\", \"income\": 2085, \"health\": 58.5, \"population\": 6453184}, {\"country\": \"Singapore\", \"income\": 80794, \"health\": 82.1, \"population\": 5603740}, {\"country\": \"Slovak Republic\", \"income\": 27204, \"health\": 76.4, \"population\": 5426258}, {\"country\": \"Slovenia\", \"income\": 28550, \"health\": 80.2, \"population\": 2067526}, {\"country\": \"Solomon Islands\", \"income\": 2047, \"health\": 64.1, \"population\": 583591}, {\"country\": \"Somalia\", \"income\": 624, \"health\": 58.7, \"population\": 10787104}, {\"country\": \"South Africa\", \"income\": 12509, \"health\": 63.72, \"population\": 54490406}, {\"country\": \"South Korea\", \"income\": 34644, \"health\": 80.7, \"population\": 50293439}, {\"country\": \"South Sudan\", \"income\": 3047, \"health\": 58.0, \"population\": 12339812}, {\"country\": \"Spain\", \"income\": 32979, \"health\": 81.7, \"population\": 46121699}, {\"country\": \"Sri Lanka\", \"income\": 10624, \"health\": 76.5, \"population\": 20715010}, {\"country\": \"St. Lucia\", \"income\": 9997, \"health\": 74.5, \"population\": 184999}, {\"country\": \"St. Vincent and the Grenadines\", \"income\": 10435, \"health\": 72.9, \"population\": 109462}, {\"country\": \"Sudan\", \"income\": 3975, \"health\": 69.5, \"population\": 40234882}, {\"country\": \"Suriname\", \"income\": 17125, \"health\": 70.5, \"population\": 542975}, {\"country\": \"Swaziland\", \"income\": 6095, \"health\": 51.5, \"population\": 1286970}, {\"country\": \"Sweden\", \"income\": 44892, \"health\": 82.0, \"population\": 9779426}, {\"country\": \"Switzerland\", \"income\": 56118, \"health\": 82.9, \"population\": 8298663}, {\"country\": \"Syria\", \"income\": 4637, \"health\": 70.26, \"population\": 18502413}, {\"country\": \"Tajikistan\", \"income\": 2582, \"health\": 71.0, \"population\": 8481855}, {\"country\": \"Tanzania\", \"income\": 2571, \"health\": 63.43, \"population\": 53470420}, {\"country\": \"Thailand\", \"income\": 14512, \"health\": 75.1, \"population\": 67959359}, {\"country\": \"Timor-Leste\", \"income\": 2086, \"health\": 72.4, \"population\": 1184765}, {\"country\": \"Togo\", \"income\": 1433, \"health\": 64.23, \"population\": 7304578}, {\"country\": \"Tonga\", \"income\": 5069, \"health\": 70.5, \"population\": 106170}, {\"country\": \"Trinidad and Tobago\", \"income\": 30113, \"health\": 71.4, \"population\": 1360088}, {\"country\": \"Tunisia\", \"income\": 11126, \"health\": 77.3, \"population\": 11253554}, {\"country\": \"Turkey\", \"income\": 19360, \"health\": 76.5, \"population\": 78665830}, {\"country\": \"Turkmenistan\", \"income\": 15865, \"health\": 67.9, \"population\": 5373502}, {\"country\": \"Uganda\", \"income\": 1680, \"health\": 60.8, \"population\": 39032383}, {\"country\": \"Ukraine\", \"income\": 8449, \"health\": 72.1, \"population\": 44823765}, {\"country\": \"United Arab Emirates\", \"income\": 60749, \"health\": 76.6, \"population\": 9156963}, {\"country\": \"United Kingdom\", \"income\": 38225, \"health\": 81.4, \"population\": 64715810}, {\"country\": \"United States\", \"income\": 53354, \"health\": 79.1, \"population\": 321773631}, {\"country\": \"Uruguay\", \"income\": 20438, \"health\": 77.3, \"population\": 3431555}, {\"country\": \"Uzbekistan\", \"income\": 5598, \"health\": 70.1, \"population\": 29893488}, {\"country\": \"Vanuatu\", \"income\": 2912, \"health\": 65.0, \"population\": 264652}, {\"country\": \"Venezuela\", \"income\": 15753, \"health\": 75.8, \"population\": 31108083}, {\"country\": \"Vietnam\", \"income\": 5623, \"health\": 76.5, \"population\": 93447601}, {\"country\": \"West Bank and Gaza\", \"income\": 4319, \"health\": 75.2, \"population\": 4668466}, {\"country\": \"Yemen\", \"income\": 3887, \"health\": 67.6, \"population\": 26832215}, {\"country\": \"Zambia\", \"income\": 4034, \"health\": 58.96, \"population\": 16211767}, {\"country\": \"Zimbabwe\", \"income\": 1801, \"health\": 60.01, \"population\": 15602751}]}}, {\"mode\": \"vega-lite\"});\n",
       "</script>"
      ],
      "text/plain": [
       "alt.Chart(...)"
      ]
     },
     "execution_count": 40,
     "metadata": {},
     "output_type": "execute_result"
    }
   ],
   "source": [
    "(\n",
    "    alt.Chart(gapminder)\n",
    "    .mark_circle()\n",
    "    .encode(\n",
    "        alt.X(\"income:Q\", scale=alt.Scale(type=\"log\")),\n",
    "        alt.Y(\"health:Q\", scale=alt.Scale(zero=False)),\n",
    "        size=\"population:Q\",\n",
    "        tooltip=list(gapminder.columns),\n",
    "    )\n",
    "    .properties(width=800, height=600)\n",
    "    .interactive()\n",
    ")"
   ]
  },
  {
   "cell_type": "markdown",
   "metadata": {
    "slideshow": {
     "slide_type": "slide"
    }
   },
   "source": [
    "## K-Means with scikit-learn"
   ]
  },
  {
   "cell_type": "code",
   "execution_count": 41,
   "metadata": {
    "slideshow": {
     "slide_type": "fragment"
    }
   },
   "outputs": [],
   "source": [
    "from sklearn.cluster import KMeans"
   ]
  },
  {
   "cell_type": "markdown",
   "metadata": {
    "slideshow": {
     "slide_type": "slide"
    }
   },
   "source": [
    "Let's start with 5 clusters"
   ]
  },
  {
   "cell_type": "code",
   "execution_count": 42,
   "metadata": {},
   "outputs": [
    {
     "data": {
      "text/plain": [
       "\u001b[0;31mInit signature:\u001b[0m\n",
       "\u001b[0mKMeans\u001b[0m\u001b[0;34m(\u001b[0m\u001b[0;34m\u001b[0m\n",
       "\u001b[0;34m\u001b[0m    \u001b[0mn_clusters\u001b[0m\u001b[0;34m=\u001b[0m\u001b[0;36m8\u001b[0m\u001b[0;34m,\u001b[0m\u001b[0;34m\u001b[0m\n",
       "\u001b[0;34m\u001b[0m    \u001b[0;34m*\u001b[0m\u001b[0;34m,\u001b[0m\u001b[0;34m\u001b[0m\n",
       "\u001b[0;34m\u001b[0m    \u001b[0minit\u001b[0m\u001b[0;34m=\u001b[0m\u001b[0;34m'k-means++'\u001b[0m\u001b[0;34m,\u001b[0m\u001b[0;34m\u001b[0m\n",
       "\u001b[0;34m\u001b[0m    \u001b[0mn_init\u001b[0m\u001b[0;34m=\u001b[0m\u001b[0;36m10\u001b[0m\u001b[0;34m,\u001b[0m\u001b[0;34m\u001b[0m\n",
       "\u001b[0;34m\u001b[0m    \u001b[0mmax_iter\u001b[0m\u001b[0;34m=\u001b[0m\u001b[0;36m300\u001b[0m\u001b[0;34m,\u001b[0m\u001b[0;34m\u001b[0m\n",
       "\u001b[0;34m\u001b[0m    \u001b[0mtol\u001b[0m\u001b[0;34m=\u001b[0m\u001b[0;36m0.0001\u001b[0m\u001b[0;34m,\u001b[0m\u001b[0;34m\u001b[0m\n",
       "\u001b[0;34m\u001b[0m    \u001b[0mverbose\u001b[0m\u001b[0;34m=\u001b[0m\u001b[0;36m0\u001b[0m\u001b[0;34m,\u001b[0m\u001b[0;34m\u001b[0m\n",
       "\u001b[0;34m\u001b[0m    \u001b[0mrandom_state\u001b[0m\u001b[0;34m=\u001b[0m\u001b[0;32mNone\u001b[0m\u001b[0;34m,\u001b[0m\u001b[0;34m\u001b[0m\n",
       "\u001b[0;34m\u001b[0m    \u001b[0mcopy_x\u001b[0m\u001b[0;34m=\u001b[0m\u001b[0;32mTrue\u001b[0m\u001b[0;34m,\u001b[0m\u001b[0;34m\u001b[0m\n",
       "\u001b[0;34m\u001b[0m    \u001b[0malgorithm\u001b[0m\u001b[0;34m=\u001b[0m\u001b[0;34m'lloyd'\u001b[0m\u001b[0;34m,\u001b[0m\u001b[0;34m\u001b[0m\n",
       "\u001b[0;34m\u001b[0m\u001b[0;34m)\u001b[0m\u001b[0;34m\u001b[0m\u001b[0;34m\u001b[0m\u001b[0m\n",
       "\u001b[0;31mDocstring:\u001b[0m     \n",
       "K-Means clustering.\n",
       "\n",
       "Read more in the :ref:`User Guide <k_means>`.\n",
       "\n",
       "Parameters\n",
       "----------\n",
       "\n",
       "n_clusters : int, default=8\n",
       "    The number of clusters to form as well as the number of\n",
       "    centroids to generate.\n",
       "\n",
       "init : {'k-means++', 'random'}, callable or array-like of shape             (n_clusters, n_features), default='k-means++'\n",
       "    Method for initialization:\n",
       "\n",
       "    'k-means++' : selects initial cluster centroids using sampling based on\n",
       "    an empirical probability distribution of the points' contribution to the\n",
       "    overall inertia. This technique speeds up convergence, and is\n",
       "    theoretically proven to be :math:`\\mathcal{O}(\\log k)`-optimal.\n",
       "    See the description of `n_init` for more details.\n",
       "\n",
       "    'random': choose `n_clusters` observations (rows) at random from data\n",
       "    for the initial centroids.\n",
       "\n",
       "    If an array is passed, it should be of shape (n_clusters, n_features)\n",
       "    and gives the initial centers.\n",
       "\n",
       "    If a callable is passed, it should take arguments X, n_clusters and a\n",
       "    random state and return an initialization.\n",
       "\n",
       "n_init : int, default=10\n",
       "    Number of time the k-means algorithm will be run with different\n",
       "    centroid seeds. The final results will be the best output of\n",
       "    n_init consecutive runs in terms of inertia.\n",
       "\n",
       "max_iter : int, default=300\n",
       "    Maximum number of iterations of the k-means algorithm for a\n",
       "    single run.\n",
       "\n",
       "tol : float, default=1e-4\n",
       "    Relative tolerance with regards to Frobenius norm of the difference\n",
       "    in the cluster centers of two consecutive iterations to declare\n",
       "    convergence.\n",
       "\n",
       "verbose : int, default=0\n",
       "    Verbosity mode.\n",
       "\n",
       "random_state : int, RandomState instance or None, default=None\n",
       "    Determines random number generation for centroid initialization. Use\n",
       "    an int to make the randomness deterministic.\n",
       "    See :term:`Glossary <random_state>`.\n",
       "\n",
       "copy_x : bool, default=True\n",
       "    When pre-computing distances it is more numerically accurate to center\n",
       "    the data first. If copy_x is True (default), then the original data is\n",
       "    not modified. If False, the original data is modified, and put back\n",
       "    before the function returns, but small numerical differences may be\n",
       "    introduced by subtracting and then adding the data mean. Note that if\n",
       "    the original data is not C-contiguous, a copy will be made even if\n",
       "    copy_x is False. If the original data is sparse, but not in CSR format,\n",
       "    a copy will be made even if copy_x is False.\n",
       "\n",
       "algorithm : {\"lloyd\", \"elkan\", \"auto\", \"full\"}, default=\"lloyd\"\n",
       "    K-means algorithm to use. The classical EM-style algorithm is `\"lloyd\"`.\n",
       "    The `\"elkan\"` variation can be more efficient on some datasets with\n",
       "    well-defined clusters, by using the triangle inequality. However it's\n",
       "    more memory intensive due to the allocation of an extra array of shape\n",
       "    `(n_samples, n_clusters)`.\n",
       "\n",
       "    `\"auto\"` and `\"full\"` are deprecated and they will be removed in\n",
       "    Scikit-Learn 1.3. They are both aliases for `\"lloyd\"`.\n",
       "\n",
       "    .. versionchanged:: 0.18\n",
       "        Added Elkan algorithm\n",
       "\n",
       "    .. versionchanged:: 1.1\n",
       "        Renamed \"full\" to \"lloyd\", and deprecated \"auto\" and \"full\".\n",
       "        Changed \"auto\" to use \"lloyd\" instead of \"elkan\".\n",
       "\n",
       "Attributes\n",
       "----------\n",
       "cluster_centers_ : ndarray of shape (n_clusters, n_features)\n",
       "    Coordinates of cluster centers. If the algorithm stops before fully\n",
       "    converging (see ``tol`` and ``max_iter``), these will not be\n",
       "    consistent with ``labels_``.\n",
       "\n",
       "labels_ : ndarray of shape (n_samples,)\n",
       "    Labels of each point\n",
       "\n",
       "inertia_ : float\n",
       "    Sum of squared distances of samples to their closest cluster center,\n",
       "    weighted by the sample weights if provided.\n",
       "\n",
       "n_iter_ : int\n",
       "    Number of iterations run.\n",
       "\n",
       "n_features_in_ : int\n",
       "    Number of features seen during :term:`fit`.\n",
       "\n",
       "    .. versionadded:: 0.24\n",
       "\n",
       "feature_names_in_ : ndarray of shape (`n_features_in_`,)\n",
       "    Names of features seen during :term:`fit`. Defined only when `X`\n",
       "    has feature names that are all strings.\n",
       "\n",
       "    .. versionadded:: 1.0\n",
       "\n",
       "See Also\n",
       "--------\n",
       "MiniBatchKMeans : Alternative online implementation that does incremental\n",
       "    updates of the centers positions using mini-batches.\n",
       "    For large scale learning (say n_samples > 10k) MiniBatchKMeans is\n",
       "    probably much faster than the default batch implementation.\n",
       "\n",
       "Notes\n",
       "-----\n",
       "The k-means problem is solved using either Lloyd's or Elkan's algorithm.\n",
       "\n",
       "The average complexity is given by O(k n T), where n is the number of\n",
       "samples and T is the number of iteration.\n",
       "\n",
       "The worst case complexity is given by O(n^(k+2/p)) with\n",
       "n = n_samples, p = n_features. (D. Arthur and S. Vassilvitskii,\n",
       "'How slow is the k-means method?' SoCG2006)\n",
       "\n",
       "In practice, the k-means algorithm is very fast (one of the fastest\n",
       "clustering algorithms available), but it falls in local minima. That's why\n",
       "it can be useful to restart it several times.\n",
       "\n",
       "If the algorithm stops before fully converging (because of ``tol`` or\n",
       "``max_iter``), ``labels_`` and ``cluster_centers_`` will not be consistent,\n",
       "i.e. the ``cluster_centers_`` will not be the means of the points in each\n",
       "cluster. Also, the estimator will reassign ``labels_`` after the last\n",
       "iteration to make ``labels_`` consistent with ``predict`` on the training\n",
       "set.\n",
       "\n",
       "Examples\n",
       "--------\n",
       "\n",
       ">>> from sklearn.cluster import KMeans\n",
       ">>> import numpy as np\n",
       ">>> X = np.array([[1, 2], [1, 4], [1, 0],\n",
       "...               [10, 2], [10, 4], [10, 0]])\n",
       ">>> kmeans = KMeans(n_clusters=2, random_state=0).fit(X)\n",
       ">>> kmeans.labels_\n",
       "array([1, 1, 1, 0, 0, 0], dtype=int32)\n",
       ">>> kmeans.predict([[0, 0], [12, 3]])\n",
       "array([1, 0], dtype=int32)\n",
       ">>> kmeans.cluster_centers_\n",
       "array([[10.,  2.],\n",
       "       [ 1.,  2.]])\n",
       "\u001b[0;31mFile:\u001b[0m           ~/mambaforge/envs/musa-550-fall-2022/lib/python3.9/site-packages/sklearn/cluster/_kmeans.py\n",
       "\u001b[0;31mType:\u001b[0m           ABCMeta\n",
       "\u001b[0;31mSubclasses:\u001b[0m     \n"
      ]
     },
     "metadata": {},
     "output_type": "display_data"
    }
   ],
   "source": [
    "KMeans?"
   ]
  },
  {
   "cell_type": "code",
   "execution_count": 43,
   "metadata": {
    "slideshow": {
     "slide_type": "subslide"
    }
   },
   "outputs": [],
   "source": [
    "kmeans = KMeans(n_clusters=5)"
   ]
  },
  {
   "cell_type": "markdown",
   "metadata": {
    "slideshow": {
     "slide_type": "subslide"
    }
   },
   "source": [
    "Lot's of optional parameters, but `n_clusters` is the most important:"
   ]
  },
  {
   "cell_type": "markdown",
   "metadata": {
    "slideshow": {
     "slide_type": "slide"
    }
   },
   "source": [
    "## Let's fit just income first\n",
    "\n",
    "Use the `fit()` function"
   ]
  },
  {
   "cell_type": "code",
   "execution_count": 44,
   "metadata": {
    "slideshow": {
     "slide_type": "fragment"
    }
   },
   "outputs": [],
   "source": [
    "kmeans.fit(gapminder[['income']]);"
   ]
  },
  {
   "cell_type": "markdown",
   "metadata": {
    "slideshow": {
     "slide_type": "slide"
    }
   },
   "source": [
    "## Extract the cluster labels\n",
    "\n",
    "Use the `labels_` attribute"
   ]
  },
  {
   "cell_type": "code",
   "execution_count": 45,
   "metadata": {
    "slideshow": {
     "slide_type": "fragment"
    }
   },
   "outputs": [],
   "source": [
    "gapminder['label'] = kmeans.labels_"
   ]
  },
  {
   "cell_type": "markdown",
   "metadata": {
    "slideshow": {
     "slide_type": "slide"
    }
   },
   "source": [
    "## How big are our clusters?"
   ]
  },
  {
   "cell_type": "code",
   "execution_count": 46,
   "metadata": {
    "slideshow": {
     "slide_type": "fragment"
    }
   },
   "outputs": [
    {
     "data": {
      "text/plain": [
       "label\n",
       "0    106\n",
       "1     24\n",
       "2      6\n",
       "3     50\n",
       "4      1\n",
       "dtype: int64"
      ]
     },
     "execution_count": 46,
     "metadata": {},
     "output_type": "execute_result"
    }
   ],
   "source": [
    "gapminder.groupby('label').size()"
   ]
  },
  {
   "cell_type": "markdown",
   "metadata": {
    "slideshow": {
     "slide_type": "slide"
    }
   },
   "source": [
    "## Plot it again, coloring by our labels"
   ]
  },
  {
   "cell_type": "code",
   "execution_count": 47,
   "metadata": {
    "slideshow": {
     "slide_type": "subslide"
    }
   },
   "outputs": [
    {
     "data": {
      "text/html": [
       "\n",
       "<div id=\"altair-viz-ce0eebc167134aa4b6c829e0875c6f65\"></div>\n",
       "<script type=\"text/javascript\">\n",
       "  var VEGA_DEBUG = (typeof VEGA_DEBUG == \"undefined\") ? {} : VEGA_DEBUG;\n",
       "  (function(spec, embedOpt){\n",
       "    let outputDiv = document.currentScript.previousElementSibling;\n",
       "    if (outputDiv.id !== \"altair-viz-ce0eebc167134aa4b6c829e0875c6f65\") {\n",
       "      outputDiv = document.getElementById(\"altair-viz-ce0eebc167134aa4b6c829e0875c6f65\");\n",
       "    }\n",
       "    const paths = {\n",
       "      \"vega\": \"https://cdn.jsdelivr.net/npm//vega@5?noext\",\n",
       "      \"vega-lib\": \"https://cdn.jsdelivr.net/npm//vega-lib?noext\",\n",
       "      \"vega-lite\": \"https://cdn.jsdelivr.net/npm//vega-lite@4.17.0?noext\",\n",
       "      \"vega-embed\": \"https://cdn.jsdelivr.net/npm//vega-embed@6?noext\",\n",
       "    };\n",
       "\n",
       "    function maybeLoadScript(lib, version) {\n",
       "      var key = `${lib.replace(\"-\", \"\")}_version`;\n",
       "      return (VEGA_DEBUG[key] == version) ?\n",
       "        Promise.resolve(paths[lib]) :\n",
       "        new Promise(function(resolve, reject) {\n",
       "          var s = document.createElement('script');\n",
       "          document.getElementsByTagName(\"head\")[0].appendChild(s);\n",
       "          s.async = true;\n",
       "          s.onload = () => {\n",
       "            VEGA_DEBUG[key] = version;\n",
       "            return resolve(paths[lib]);\n",
       "          };\n",
       "          s.onerror = () => reject(`Error loading script: ${paths[lib]}`);\n",
       "          s.src = paths[lib];\n",
       "        });\n",
       "    }\n",
       "\n",
       "    function showError(err) {\n",
       "      outputDiv.innerHTML = `<div class=\"error\" style=\"color:red;\">${err}</div>`;\n",
       "      throw err;\n",
       "    }\n",
       "\n",
       "    function displayChart(vegaEmbed) {\n",
       "      vegaEmbed(outputDiv, spec, embedOpt)\n",
       "        .catch(err => showError(`Javascript Error: ${err.message}<br>This usually means there's a typo in your chart specification. See the javascript console for the full traceback.`));\n",
       "    }\n",
       "\n",
       "    if(typeof define === \"function\" && define.amd) {\n",
       "      requirejs.config({paths});\n",
       "      require([\"vega-embed\"], displayChart, err => showError(`Error loading script: ${err.message}`));\n",
       "    } else {\n",
       "      maybeLoadScript(\"vega\", \"5\")\n",
       "        .then(() => maybeLoadScript(\"vega-lite\", \"4.17.0\"))\n",
       "        .then(() => maybeLoadScript(\"vega-embed\", \"6\"))\n",
       "        .catch(showError)\n",
       "        .then(() => displayChart(vegaEmbed));\n",
       "    }\n",
       "  })({\"config\": {\"view\": {\"continuousWidth\": 400, \"continuousHeight\": 300}}, \"data\": {\"name\": \"data-827bc985ccf765f3efc31bd6f5cb46ff\"}, \"mark\": \"circle\", \"encoding\": {\"color\": {\"field\": \"label\", \"scale\": {\"scheme\": \"dark2\"}, \"type\": \"nominal\"}, \"size\": {\"field\": \"population\", \"type\": \"quantitative\"}, \"tooltip\": [{\"field\": \"country\", \"type\": \"nominal\"}, {\"field\": \"income\", \"type\": \"quantitative\"}, {\"field\": \"health\", \"type\": \"quantitative\"}, {\"field\": \"population\", \"type\": \"quantitative\"}, {\"field\": \"label\", \"type\": \"quantitative\"}], \"x\": {\"field\": \"income\", \"scale\": {\"type\": \"log\"}, \"type\": \"quantitative\"}, \"y\": {\"field\": \"health\", \"scale\": {\"zero\": false}, \"type\": \"quantitative\"}}, \"height\": 600, \"selection\": {\"selector002\": {\"type\": \"interval\", \"bind\": \"scales\", \"encodings\": [\"x\", \"y\"]}}, \"width\": 800, \"$schema\": \"https://vega.github.io/schema/vega-lite/v4.17.0.json\", \"datasets\": {\"data-827bc985ccf765f3efc31bd6f5cb46ff\": [{\"country\": \"Afghanistan\", \"income\": 1925, \"health\": 57.63, \"population\": 32526562, \"label\": 0}, {\"country\": \"Albania\", \"income\": 10620, \"health\": 76.0, \"population\": 2896679, \"label\": 0}, {\"country\": \"Algeria\", \"income\": 13434, \"health\": 76.5, \"population\": 39666519, \"label\": 3}, {\"country\": \"Andorra\", \"income\": 46577, \"health\": 84.1, \"population\": 70473, \"label\": 1}, {\"country\": \"Angola\", \"income\": 7615, \"health\": 61.0, \"population\": 25021974, \"label\": 0}, {\"country\": \"Antigua and Barbuda\", \"income\": 21049, \"health\": 75.2, \"population\": 91818, \"label\": 3}, {\"country\": \"Argentina\", \"income\": 17344, \"health\": 76.2, \"population\": 43416755, \"label\": 3}, {\"country\": \"Armenia\", \"income\": 7763, \"health\": 74.4, \"population\": 3017712, \"label\": 0}, {\"country\": \"Australia\", \"income\": 44056, \"health\": 81.8, \"population\": 23968973, \"label\": 1}, {\"country\": \"Austria\", \"income\": 44401, \"health\": 81.0, \"population\": 8544586, \"label\": 1}, {\"country\": \"Azerbaijan\", \"income\": 16986, \"health\": 72.9, \"population\": 9753968, \"label\": 3}, {\"country\": \"Bahamas\", \"income\": 22818, \"health\": 72.3, \"population\": 388019, \"label\": 3}, {\"country\": \"Bahrain\", \"income\": 44138, \"health\": 79.2, \"population\": 1377237, \"label\": 1}, {\"country\": \"Bangladesh\", \"income\": 3161, \"health\": 70.1, \"population\": 160995642, \"label\": 0}, {\"country\": \"Barbados\", \"income\": 12984, \"health\": 75.8, \"population\": 284215, \"label\": 0}, {\"country\": \"Belarus\", \"income\": 17415, \"health\": 70.4, \"population\": 9495826, \"label\": 3}, {\"country\": \"Belgium\", \"income\": 41240, \"health\": 80.4, \"population\": 11299192, \"label\": 1}, {\"country\": \"Belize\", \"income\": 8501, \"health\": 70.0, \"population\": 359287, \"label\": 0}, {\"country\": \"Benin\", \"income\": 1830, \"health\": 65.5, \"population\": 10879829, \"label\": 0}, {\"country\": \"Bhutan\", \"income\": 7983, \"health\": 70.2, \"population\": 774830, \"label\": 0}, {\"country\": \"Bolivia\", \"income\": 6295, \"health\": 72.3, \"population\": 10724705, \"label\": 0}, {\"country\": \"Bosnia and Herzegovina\", \"income\": 9833, \"health\": 77.9, \"population\": 3810416, \"label\": 0}, {\"country\": \"Botswana\", \"income\": 17196, \"health\": 66.4, \"population\": 2262485, \"label\": 3}, {\"country\": \"Brazil\", \"income\": 15441, \"health\": 75.6, \"population\": 207847528, \"label\": 3}, {\"country\": \"Brunei\", \"income\": 73003, \"health\": 78.7, \"population\": 423188, \"label\": 2}, {\"country\": \"Bulgaria\", \"income\": 16371, \"health\": 74.9, \"population\": 7149787, \"label\": 3}, {\"country\": \"Burkina Faso\", \"income\": 1654, \"health\": 62.8, \"population\": 18105570, \"label\": 0}, {\"country\": \"Burundi\", \"income\": 777, \"health\": 60.4, \"population\": 11178921, \"label\": 0}, {\"country\": \"Cambodia\", \"income\": 3267, \"health\": 68.4, \"population\": 15577899, \"label\": 0}, {\"country\": \"Cameroon\", \"income\": 2897, \"health\": 59.5, \"population\": 23344179, \"label\": 0}, {\"country\": \"Canada\", \"income\": 43294, \"health\": 81.7, \"population\": 35939927, \"label\": 1}, {\"country\": \"Cape Verde\", \"income\": 6514, \"health\": 74.6, \"population\": 520502, \"label\": 0}, {\"country\": \"Central African Republic\", \"income\": 599, \"health\": 53.8, \"population\": 4900274, \"label\": 0}, {\"country\": \"Chad\", \"income\": 2191, \"health\": 57.7, \"population\": 14037472, \"label\": 0}, {\"country\": \"Chile\", \"income\": 22465, \"health\": 79.3, \"population\": 17948141, \"label\": 3}, {\"country\": \"China\", \"income\": 13334, \"health\": 76.9, \"population\": 1376048943, \"label\": 3}, {\"country\": \"Colombia\", \"income\": 12761, \"health\": 75.8, \"population\": 48228704, \"label\": 0}, {\"country\": \"Comoros\", \"income\": 1472, \"health\": 64.1, \"population\": 788474, \"label\": 0}, {\"country\": \"Congo, Dem. Rep.\", \"income\": 809, \"health\": 58.3, \"population\": 77266814, \"label\": 0}, {\"country\": \"Congo, Rep.\", \"income\": 6220, \"health\": 61.9, \"population\": 4620330, \"label\": 0}, {\"country\": \"Costa Rica\", \"income\": 14132, \"health\": 80.0, \"population\": 4807850, \"label\": 3}, {\"country\": \"Cote d'Ivoire\", \"income\": 3491, \"health\": 60.33, \"population\": 22701556, \"label\": 0}, {\"country\": \"Croatia\", \"income\": 20260, \"health\": 78.0, \"population\": 4240317, \"label\": 3}, {\"country\": \"Cuba\", \"income\": 21291, \"health\": 78.5, \"population\": 11389562, \"label\": 3}, {\"country\": \"Cyprus\", \"income\": 29797, \"health\": 82.6, \"population\": 1165300, \"label\": 3}, {\"country\": \"Czech Republic\", \"income\": 29437, \"health\": 78.6, \"population\": 10543186, \"label\": 3}, {\"country\": \"Denmark\", \"income\": 43495, \"health\": 80.1, \"population\": 5669081, \"label\": 1}, {\"country\": \"Djibouti\", \"income\": 3139, \"health\": 64.63, \"population\": 887861, \"label\": 0}, {\"country\": \"Dominica\", \"income\": 10503, \"health\": 74.6, \"population\": 72680, \"label\": 0}, {\"country\": \"Dominican Republic\", \"income\": 12837, \"health\": 73.8, \"population\": 10528391, \"label\": 0}, {\"country\": \"Ecuador\", \"income\": 10996, \"health\": 75.2, \"population\": 16144363, \"label\": 0}, {\"country\": \"Egypt\", \"income\": 11031, \"health\": 71.3, \"population\": 91508084, \"label\": 0}, {\"country\": \"El Salvador\", \"income\": 7776, \"health\": 74.1, \"population\": 6126583, \"label\": 0}, {\"country\": \"Equatorial Guinea\", \"income\": 31087, \"health\": 60.63, \"population\": 845060, \"label\": 3}, {\"country\": \"Eritrea\", \"income\": 1129, \"health\": 62.9, \"population\": 5227791, \"label\": 0}, {\"country\": \"Estonia\", \"income\": 26812, \"health\": 76.8, \"population\": 1312558, \"label\": 3}, {\"country\": \"Ethiopia\", \"income\": 1520, \"health\": 63.6, \"population\": 99390750, \"label\": 0}, {\"country\": \"Fiji\", \"income\": 7925, \"health\": 66.3, \"population\": 892145, \"label\": 0}, {\"country\": \"Finland\", \"income\": 38923, \"health\": 80.8, \"population\": 5503457, \"label\": 1}, {\"country\": \"France\", \"income\": 37599, \"health\": 81.9, \"population\": 64395345, \"label\": 1}, {\"country\": \"Gabon\", \"income\": 18627, \"health\": 60.53, \"population\": 1725292, \"label\": 3}, {\"country\": \"Gambia\", \"income\": 1644, \"health\": 65.1, \"population\": 1990924, \"label\": 0}, {\"country\": \"Georgia\", \"income\": 7474, \"health\": 73.3, \"population\": 3999812, \"label\": 0}, {\"country\": \"Germany\", \"income\": 44053, \"health\": 81.1, \"population\": 80688545, \"label\": 1}, {\"country\": \"Ghana\", \"income\": 4099, \"health\": 65.5, \"population\": 27409893, \"label\": 0}, {\"country\": \"Greece\", \"income\": 25430, \"health\": 79.8, \"population\": 10954617, \"label\": 3}, {\"country\": \"Grenada\", \"income\": 11593, \"health\": 71.7, \"population\": 106825, \"label\": 0}, {\"country\": \"Guatemala\", \"income\": 7279, \"health\": 73.1, \"population\": 16342897, \"label\": 0}, {\"country\": \"Guinea\", \"income\": 1225, \"health\": 60.8, \"population\": 12608590, \"label\": 0}, {\"country\": \"Guinea-Bissau\", \"income\": 1386, \"health\": 53.4, \"population\": 1844325, \"label\": 0}, {\"country\": \"Guyana\", \"income\": 6816, \"health\": 64.4, \"population\": 767085, \"label\": 0}, {\"country\": \"Haiti\", \"income\": 1710, \"health\": 65.3, \"population\": 10711067, \"label\": 0}, {\"country\": \"Honduras\", \"income\": 4270, \"health\": 72.4, \"population\": 8075060, \"label\": 0}, {\"country\": \"Hungary\", \"income\": 24200, \"health\": 76.2, \"population\": 9855023, \"label\": 3}, {\"country\": \"Iceland\", \"income\": 42182, \"health\": 82.8, \"population\": 329425, \"label\": 1}, {\"country\": \"India\", \"income\": 5903, \"health\": 66.8, \"population\": 1311050527, \"label\": 0}, {\"country\": \"Indonesia\", \"income\": 10504, \"health\": 70.9, \"population\": 257563815, \"label\": 0}, {\"country\": \"Iran\", \"income\": 15573, \"health\": 78.5, \"population\": 79109272, \"label\": 3}, {\"country\": \"Iraq\", \"income\": 14646, \"health\": 72.1, \"population\": 36423395, \"label\": 3}, {\"country\": \"Ireland\", \"income\": 47758, \"health\": 80.4, \"population\": 4688465, \"label\": 1}, {\"country\": \"Israel\", \"income\": 31590, \"health\": 82.4, \"population\": 8064036, \"label\": 3}, {\"country\": \"Italy\", \"income\": 33297, \"health\": 82.1, \"population\": 59797685, \"label\": 1}, {\"country\": \"Jamaica\", \"income\": 8606, \"health\": 75.5, \"population\": 2793335, \"label\": 0}, {\"country\": \"Japan\", \"income\": 36162, \"health\": 83.5, \"population\": 126573481, \"label\": 1}, {\"country\": \"Jordan\", \"income\": 11752, \"health\": 78.3, \"population\": 7594547, \"label\": 0}, {\"country\": \"Kazakhstan\", \"income\": 23468, \"health\": 68.2, \"population\": 17625226, \"label\": 3}, {\"country\": \"Kenya\", \"income\": 2898, \"health\": 66.63, \"population\": 46050302, \"label\": 0}, {\"country\": \"Kiribati\", \"income\": 1824, \"health\": 62.4, \"population\": 112423, \"label\": 0}, {\"country\": \"Kuwait\", \"income\": 82633, \"health\": 80.7, \"population\": 3892115, \"label\": 2}, {\"country\": \"Kyrgyz Republic\", \"income\": 3245, \"health\": 69.0, \"population\": 5939962, \"label\": 0}, {\"country\": \"Lao\", \"income\": 5212, \"health\": 66.4, \"population\": 6802023, \"label\": 0}, {\"country\": \"Latvia\", \"income\": 23282, \"health\": 75.7, \"population\": 1970503, \"label\": 3}, {\"country\": \"Lebanon\", \"income\": 17050, \"health\": 78.5, \"population\": 5850743, \"label\": 3}, {\"country\": \"Lesotho\", \"income\": 2598, \"health\": 48.5, \"population\": 2135022, \"label\": 0}, {\"country\": \"Liberia\", \"income\": 958, \"health\": 63.9, \"population\": 4503438, \"label\": 0}, {\"country\": \"Libya\", \"income\": 17261, \"health\": 76.2, \"population\": 6278438, \"label\": 3}, {\"country\": \"Lithuania\", \"income\": 26665, \"health\": 75.4, \"population\": 2878405, \"label\": 3}, {\"country\": \"Luxembourg\", \"income\": 88314, \"health\": 81.1, \"population\": 567110, \"label\": 2}, {\"country\": \"Macedonia, FYR\", \"income\": 12547, \"health\": 77.0, \"population\": 2078453, \"label\": 0}, {\"country\": \"Madagascar\", \"income\": 1400, \"health\": 64.7, \"population\": 24235390, \"label\": 0}, {\"country\": \"Malawi\", \"income\": 799, \"health\": 60.22, \"population\": 17215232, \"label\": 0}, {\"country\": \"Malaysia\", \"income\": 24320, \"health\": 75.1, \"population\": 30331007, \"label\": 3}, {\"country\": \"Maldives\", \"income\": 14408, \"health\": 79.5, \"population\": 363657, \"label\": 3}, {\"country\": \"Mali\", \"income\": 1684, \"health\": 57.6, \"population\": 17599694, \"label\": 0}, {\"country\": \"Malta\", \"income\": 30265, \"health\": 82.1, \"population\": 418670, \"label\": 3}, {\"country\": \"Marshall Islands\", \"income\": 3661, \"health\": 65.1, \"population\": 52993, \"label\": 0}, {\"country\": \"Mauritania\", \"income\": 3877, \"health\": 65.7, \"population\": 4067564, \"label\": 0}, {\"country\": \"Mauritius\", \"income\": 18350, \"health\": 73.9, \"population\": 1273212, \"label\": 3}, {\"country\": \"Mexico\", \"income\": 16850, \"health\": 74.5, \"population\": 127017224, \"label\": 3}, {\"country\": \"Micronesia, Fed. Sts.\", \"income\": 3510, \"health\": 67.0, \"population\": 104460, \"label\": 0}, {\"country\": \"Moldova\", \"income\": 4896, \"health\": 72.7, \"population\": 4068897, \"label\": 0}, {\"country\": \"Mongolia\", \"income\": 11819, \"health\": 65.3, \"population\": 2959134, \"label\": 0}, {\"country\": \"Montenegro\", \"income\": 14833, \"health\": 75.8, \"population\": 625781, \"label\": 3}, {\"country\": \"Morocco\", \"income\": 7319, \"health\": 74.7, \"population\": 34377511, \"label\": 0}, {\"country\": \"Mozambique\", \"income\": 1176, \"health\": 56.4, \"population\": 27977863, \"label\": 0}, {\"country\": \"Myanmar\", \"income\": 4012, \"health\": 67.9, \"population\": 53897154, \"label\": 0}, {\"country\": \"Namibia\", \"income\": 10040, \"health\": 61.0, \"population\": 2458830, \"label\": 0}, {\"country\": \"Nepal\", \"income\": 2352, \"health\": 71.2, \"population\": 28513700, \"label\": 0}, {\"country\": \"Netherlands\", \"income\": 45784, \"health\": 80.6, \"population\": 16924929, \"label\": 1}, {\"country\": \"New Zealand\", \"income\": 34186, \"health\": 80.6, \"population\": 4528526, \"label\": 1}, {\"country\": \"Nicaragua\", \"income\": 4712, \"health\": 76.8, \"population\": 6082032, \"label\": 0}, {\"country\": \"Niger\", \"income\": 943, \"health\": 62.2, \"population\": 19899120, \"label\": 0}, {\"country\": \"Nigeria\", \"income\": 5727, \"health\": 61.33, \"population\": 182201962, \"label\": 0}, {\"country\": \"North Korea\", \"income\": 1390, \"health\": 71.4, \"population\": 25155317, \"label\": 0}, {\"country\": \"Norway\", \"income\": 64304, \"health\": 81.6, \"population\": 5210967, \"label\": 2}, {\"country\": \"Oman\", \"income\": 48226, \"health\": 75.7, \"population\": 4490541, \"label\": 1}, {\"country\": \"Pakistan\", \"income\": 4743, \"health\": 66.5, \"population\": 188924874, \"label\": 0}, {\"country\": \"Panama\", \"income\": 20485, \"health\": 78.2, \"population\": 3929141, \"label\": 3}, {\"country\": \"Papua New Guinea\", \"income\": 2529, \"health\": 60.6, \"population\": 7619321, \"label\": 0}, {\"country\": \"Paraguay\", \"income\": 8219, \"health\": 73.9, \"population\": 6639123, \"label\": 0}, {\"country\": \"Peru\", \"income\": 11903, \"health\": 77.5, \"population\": 31376670, \"label\": 0}, {\"country\": \"Philippines\", \"income\": 6876, \"health\": 70.2, \"population\": 100699395, \"label\": 0}, {\"country\": \"Poland\", \"income\": 24787, \"health\": 77.3, \"population\": 38611794, \"label\": 3}, {\"country\": \"Portugal\", \"income\": 26437, \"health\": 79.8, \"population\": 10349803, \"label\": 3}, {\"country\": \"Qatar\", \"income\": 132877, \"health\": 82.0, \"population\": 2235355, \"label\": 4}, {\"country\": \"Romania\", \"income\": 19203, \"health\": 76.8, \"population\": 19511324, \"label\": 3}, {\"country\": \"Russia\", \"income\": 23038, \"health\": 73.13, \"population\": 143456918, \"label\": 3}, {\"country\": \"Rwanda\", \"income\": 1549, \"health\": 66.53, \"population\": 11609666, \"label\": 0}, {\"country\": \"Samoa\", \"income\": 5558, \"health\": 72.2, \"population\": 193228, \"label\": 0}, {\"country\": \"Sao Tome and Principe\", \"income\": 3003, \"health\": 68.8, \"population\": 190344, \"label\": 0}, {\"country\": \"Saudi Arabia\", \"income\": 52469, \"health\": 78.1, \"population\": 31540372, \"label\": 1}, {\"country\": \"Senegal\", \"income\": 2251, \"health\": 66.1, \"population\": 15129273, \"label\": 0}, {\"country\": \"Serbia\", \"income\": 12908, \"health\": 78.1, \"population\": 8850975, \"label\": 0}, {\"country\": \"Seychelles\", \"income\": 25684, \"health\": 73.7, \"population\": 96471, \"label\": 3}, {\"country\": \"Sierra Leone\", \"income\": 2085, \"health\": 58.5, \"population\": 6453184, \"label\": 0}, {\"country\": \"Singapore\", \"income\": 80794, \"health\": 82.1, \"population\": 5603740, \"label\": 2}, {\"country\": \"Slovak Republic\", \"income\": 27204, \"health\": 76.4, \"population\": 5426258, \"label\": 3}, {\"country\": \"Slovenia\", \"income\": 28550, \"health\": 80.2, \"population\": 2067526, \"label\": 3}, {\"country\": \"Solomon Islands\", \"income\": 2047, \"health\": 64.1, \"population\": 583591, \"label\": 0}, {\"country\": \"Somalia\", \"income\": 624, \"health\": 58.7, \"population\": 10787104, \"label\": 0}, {\"country\": \"South Africa\", \"income\": 12509, \"health\": 63.72, \"population\": 54490406, \"label\": 0}, {\"country\": \"South Korea\", \"income\": 34644, \"health\": 80.7, \"population\": 50293439, \"label\": 1}, {\"country\": \"South Sudan\", \"income\": 3047, \"health\": 58.0, \"population\": 12339812, \"label\": 0}, {\"country\": \"Spain\", \"income\": 32979, \"health\": 81.7, \"population\": 46121699, \"label\": 1}, {\"country\": \"Sri Lanka\", \"income\": 10624, \"health\": 76.5, \"population\": 20715010, \"label\": 0}, {\"country\": \"St. Lucia\", \"income\": 9997, \"health\": 74.5, \"population\": 184999, \"label\": 0}, {\"country\": \"St. Vincent and the Grenadines\", \"income\": 10435, \"health\": 72.9, \"population\": 109462, \"label\": 0}, {\"country\": \"Sudan\", \"income\": 3975, \"health\": 69.5, \"population\": 40234882, \"label\": 0}, {\"country\": \"Suriname\", \"income\": 17125, \"health\": 70.5, \"population\": 542975, \"label\": 3}, {\"country\": \"Swaziland\", \"income\": 6095, \"health\": 51.5, \"population\": 1286970, \"label\": 0}, {\"country\": \"Sweden\", \"income\": 44892, \"health\": 82.0, \"population\": 9779426, \"label\": 1}, {\"country\": \"Switzerland\", \"income\": 56118, \"health\": 82.9, \"population\": 8298663, \"label\": 1}, {\"country\": \"Syria\", \"income\": 4637, \"health\": 70.26, \"population\": 18502413, \"label\": 0}, {\"country\": \"Tajikistan\", \"income\": 2582, \"health\": 71.0, \"population\": 8481855, \"label\": 0}, {\"country\": \"Tanzania\", \"income\": 2571, \"health\": 63.43, \"population\": 53470420, \"label\": 0}, {\"country\": \"Thailand\", \"income\": 14512, \"health\": 75.1, \"population\": 67959359, \"label\": 3}, {\"country\": \"Timor-Leste\", \"income\": 2086, \"health\": 72.4, \"population\": 1184765, \"label\": 0}, {\"country\": \"Togo\", \"income\": 1433, \"health\": 64.23, \"population\": 7304578, \"label\": 0}, {\"country\": \"Tonga\", \"income\": 5069, \"health\": 70.5, \"population\": 106170, \"label\": 0}, {\"country\": \"Trinidad and Tobago\", \"income\": 30113, \"health\": 71.4, \"population\": 1360088, \"label\": 3}, {\"country\": \"Tunisia\", \"income\": 11126, \"health\": 77.3, \"population\": 11253554, \"label\": 0}, {\"country\": \"Turkey\", \"income\": 19360, \"health\": 76.5, \"population\": 78665830, \"label\": 3}, {\"country\": \"Turkmenistan\", \"income\": 15865, \"health\": 67.9, \"population\": 5373502, \"label\": 3}, {\"country\": \"Uganda\", \"income\": 1680, \"health\": 60.8, \"population\": 39032383, \"label\": 0}, {\"country\": \"Ukraine\", \"income\": 8449, \"health\": 72.1, \"population\": 44823765, \"label\": 0}, {\"country\": \"United Arab Emirates\", \"income\": 60749, \"health\": 76.6, \"population\": 9156963, \"label\": 2}, {\"country\": \"United Kingdom\", \"income\": 38225, \"health\": 81.4, \"population\": 64715810, \"label\": 1}, {\"country\": \"United States\", \"income\": 53354, \"health\": 79.1, \"population\": 321773631, \"label\": 1}, {\"country\": \"Uruguay\", \"income\": 20438, \"health\": 77.3, \"population\": 3431555, \"label\": 3}, {\"country\": \"Uzbekistan\", \"income\": 5598, \"health\": 70.1, \"population\": 29893488, \"label\": 0}, {\"country\": \"Vanuatu\", \"income\": 2912, \"health\": 65.0, \"population\": 264652, \"label\": 0}, {\"country\": \"Venezuela\", \"income\": 15753, \"health\": 75.8, \"population\": 31108083, \"label\": 3}, {\"country\": \"Vietnam\", \"income\": 5623, \"health\": 76.5, \"population\": 93447601, \"label\": 0}, {\"country\": \"West Bank and Gaza\", \"income\": 4319, \"health\": 75.2, \"population\": 4668466, \"label\": 0}, {\"country\": \"Yemen\", \"income\": 3887, \"health\": 67.6, \"population\": 26832215, \"label\": 0}, {\"country\": \"Zambia\", \"income\": 4034, \"health\": 58.96, \"population\": 16211767, \"label\": 0}, {\"country\": \"Zimbabwe\", \"income\": 1801, \"health\": 60.01, \"population\": 15602751, \"label\": 0}]}}, {\"mode\": \"vega-lite\"});\n",
       "</script>"
      ],
      "text/plain": [
       "alt.Chart(...)"
      ]
     },
     "execution_count": 47,
     "metadata": {},
     "output_type": "execute_result"
    }
   ],
   "source": [
    "(\n",
    "    alt.Chart(gapminder)\n",
    "    .mark_circle()\n",
    "    .encode(\n",
    "        alt.X(\"income:Q\", scale=alt.Scale(type=\"log\")),\n",
    "        alt.Y(\"health:Q\", scale=alt.Scale(zero=False)),\n",
    "        size=\"population:Q\",\n",
    "        color=alt.Color(\"label:N\", scale=alt.Scale(scheme=\"dark2\")),\n",
    "        tooltip=list(gapminder.columns),\n",
    "    )\n",
    "    .properties(width=800, height=600)\n",
    "    .interactive()\n",
    ")"
   ]
  },
  {
   "cell_type": "markdown",
   "metadata": {
    "slideshow": {
     "slide_type": "slide"
    }
   },
   "source": [
    "### Calculate average income by group"
   ]
  },
  {
   "cell_type": "code",
   "execution_count": 48,
   "metadata": {
    "slideshow": {
     "slide_type": "subslide"
    }
   },
   "outputs": [
    {
     "data": {
      "text/plain": [
       "label\n",
       "0      5279.830189\n",
       "3     21040.820000\n",
       "1     42835.500000\n",
       "2     74966.166667\n",
       "4    132877.000000\n",
       "Name: income, dtype: float64"
      ]
     },
     "execution_count": 48,
     "metadata": {},
     "output_type": "execute_result"
    }
   ],
   "source": [
    "gapminder.groupby(\"label\")['income'].mean().sort_values()"
   ]
  },
  {
   "cell_type": "markdown",
   "metadata": {
    "slideshow": {
     "slide_type": "subslide"
    }
   },
   "source": [
    "Data is nicely partitioned into income levels"
   ]
  },
  {
   "cell_type": "markdown",
   "metadata": {
    "slideshow": {
     "slide_type": "slide"
    }
   },
   "source": [
    "## How about health, income, and population?"
   ]
  },
  {
   "cell_type": "code",
   "execution_count": 49,
   "metadata": {
    "slideshow": {
     "slide_type": "fragment"
    }
   },
   "outputs": [],
   "source": [
    "# Fit all three columns\n",
    "kmeans.fit(gapminder[['income', 'health', 'population']])\n",
    "\n",
    "# Extract the labels\n",
    "gapminder['label'] = kmeans.labels_"
   ]
  },
  {
   "cell_type": "markdown",
   "metadata": {
    "slideshow": {
     "slide_type": "slide"
    }
   },
   "source": [
    "## Plot the new labels"
   ]
  },
  {
   "cell_type": "code",
   "execution_count": 50,
   "metadata": {
    "slideshow": {
     "slide_type": "subslide"
    }
   },
   "outputs": [
    {
     "data": {
      "text/html": [
       "\n",
       "<div id=\"altair-viz-ff001b7acb934f9a90a33b7b09cd87a5\"></div>\n",
       "<script type=\"text/javascript\">\n",
       "  var VEGA_DEBUG = (typeof VEGA_DEBUG == \"undefined\") ? {} : VEGA_DEBUG;\n",
       "  (function(spec, embedOpt){\n",
       "    let outputDiv = document.currentScript.previousElementSibling;\n",
       "    if (outputDiv.id !== \"altair-viz-ff001b7acb934f9a90a33b7b09cd87a5\") {\n",
       "      outputDiv = document.getElementById(\"altair-viz-ff001b7acb934f9a90a33b7b09cd87a5\");\n",
       "    }\n",
       "    const paths = {\n",
       "      \"vega\": \"https://cdn.jsdelivr.net/npm//vega@5?noext\",\n",
       "      \"vega-lib\": \"https://cdn.jsdelivr.net/npm//vega-lib?noext\",\n",
       "      \"vega-lite\": \"https://cdn.jsdelivr.net/npm//vega-lite@4.17.0?noext\",\n",
       "      \"vega-embed\": \"https://cdn.jsdelivr.net/npm//vega-embed@6?noext\",\n",
       "    };\n",
       "\n",
       "    function maybeLoadScript(lib, version) {\n",
       "      var key = `${lib.replace(\"-\", \"\")}_version`;\n",
       "      return (VEGA_DEBUG[key] == version) ?\n",
       "        Promise.resolve(paths[lib]) :\n",
       "        new Promise(function(resolve, reject) {\n",
       "          var s = document.createElement('script');\n",
       "          document.getElementsByTagName(\"head\")[0].appendChild(s);\n",
       "          s.async = true;\n",
       "          s.onload = () => {\n",
       "            VEGA_DEBUG[key] = version;\n",
       "            return resolve(paths[lib]);\n",
       "          };\n",
       "          s.onerror = () => reject(`Error loading script: ${paths[lib]}`);\n",
       "          s.src = paths[lib];\n",
       "        });\n",
       "    }\n",
       "\n",
       "    function showError(err) {\n",
       "      outputDiv.innerHTML = `<div class=\"error\" style=\"color:red;\">${err}</div>`;\n",
       "      throw err;\n",
       "    }\n",
       "\n",
       "    function displayChart(vegaEmbed) {\n",
       "      vegaEmbed(outputDiv, spec, embedOpt)\n",
       "        .catch(err => showError(`Javascript Error: ${err.message}<br>This usually means there's a typo in your chart specification. See the javascript console for the full traceback.`));\n",
       "    }\n",
       "\n",
       "    if(typeof define === \"function\" && define.amd) {\n",
       "      requirejs.config({paths});\n",
       "      require([\"vega-embed\"], displayChart, err => showError(`Error loading script: ${err.message}`));\n",
       "    } else {\n",
       "      maybeLoadScript(\"vega\", \"5\")\n",
       "        .then(() => maybeLoadScript(\"vega-lite\", \"4.17.0\"))\n",
       "        .then(() => maybeLoadScript(\"vega-embed\", \"6\"))\n",
       "        .catch(showError)\n",
       "        .then(() => displayChart(vegaEmbed));\n",
       "    }\n",
       "  })({\"config\": {\"view\": {\"continuousWidth\": 400, \"continuousHeight\": 300}}, \"data\": {\"name\": \"data-5bebca89d614f638c839e43e554da553\"}, \"mark\": \"circle\", \"encoding\": {\"color\": {\"field\": \"label\", \"scale\": {\"scheme\": \"dark2\"}, \"type\": \"nominal\"}, \"size\": {\"field\": \"population\", \"type\": \"quantitative\"}, \"tooltip\": [{\"field\": \"country\", \"type\": \"nominal\"}, {\"field\": \"income\", \"type\": \"quantitative\"}, {\"field\": \"health\", \"type\": \"quantitative\"}, {\"field\": \"population\", \"type\": \"quantitative\"}, {\"field\": \"label\", \"type\": \"quantitative\"}], \"x\": {\"field\": \"income\", \"scale\": {\"type\": \"log\"}, \"type\": \"quantitative\"}, \"y\": {\"field\": \"health\", \"scale\": {\"zero\": false}, \"type\": \"quantitative\"}}, \"height\": 600, \"selection\": {\"selector003\": {\"type\": \"interval\", \"bind\": \"scales\", \"encodings\": [\"x\", \"y\"]}}, \"width\": 800, \"$schema\": \"https://vega.github.io/schema/vega-lite/v4.17.0.json\", \"datasets\": {\"data-5bebca89d614f638c839e43e554da553\": [{\"country\": \"Afghanistan\", \"income\": 1925, \"health\": 57.63, \"population\": 32526562, \"label\": 4}, {\"country\": \"Albania\", \"income\": 10620, \"health\": 76.0, \"population\": 2896679, \"label\": 4}, {\"country\": \"Algeria\", \"income\": 13434, \"health\": 76.5, \"population\": 39666519, \"label\": 0}, {\"country\": \"Andorra\", \"income\": 46577, \"health\": 84.1, \"population\": 70473, \"label\": 4}, {\"country\": \"Angola\", \"income\": 7615, \"health\": 61.0, \"population\": 25021974, \"label\": 4}, {\"country\": \"Antigua and Barbuda\", \"income\": 21049, \"health\": 75.2, \"population\": 91818, \"label\": 4}, {\"country\": \"Argentina\", \"income\": 17344, \"health\": 76.2, \"population\": 43416755, \"label\": 0}, {\"country\": \"Armenia\", \"income\": 7763, \"health\": 74.4, \"population\": 3017712, \"label\": 4}, {\"country\": \"Australia\", \"income\": 44056, \"health\": 81.8, \"population\": 23968973, \"label\": 4}, {\"country\": \"Austria\", \"income\": 44401, \"health\": 81.0, \"population\": 8544586, \"label\": 4}, {\"country\": \"Azerbaijan\", \"income\": 16986, \"health\": 72.9, \"population\": 9753968, \"label\": 4}, {\"country\": \"Bahamas\", \"income\": 22818, \"health\": 72.3, \"population\": 388019, \"label\": 4}, {\"country\": \"Bahrain\", \"income\": 44138, \"health\": 79.2, \"population\": 1377237, \"label\": 4}, {\"country\": \"Bangladesh\", \"income\": 3161, \"health\": 70.1, \"population\": 160995642, \"label\": 2}, {\"country\": \"Barbados\", \"income\": 12984, \"health\": 75.8, \"population\": 284215, \"label\": 4}, {\"country\": \"Belarus\", \"income\": 17415, \"health\": 70.4, \"population\": 9495826, \"label\": 4}, {\"country\": \"Belgium\", \"income\": 41240, \"health\": 80.4, \"population\": 11299192, \"label\": 4}, {\"country\": \"Belize\", \"income\": 8501, \"health\": 70.0, \"population\": 359287, \"label\": 4}, {\"country\": \"Benin\", \"income\": 1830, \"health\": 65.5, \"population\": 10879829, \"label\": 4}, {\"country\": \"Bhutan\", \"income\": 7983, \"health\": 70.2, \"population\": 774830, \"label\": 4}, {\"country\": \"Bolivia\", \"income\": 6295, \"health\": 72.3, \"population\": 10724705, \"label\": 4}, {\"country\": \"Bosnia and Herzegovina\", \"income\": 9833, \"health\": 77.9, \"population\": 3810416, \"label\": 4}, {\"country\": \"Botswana\", \"income\": 17196, \"health\": 66.4, \"population\": 2262485, \"label\": 4}, {\"country\": \"Brazil\", \"income\": 15441, \"health\": 75.6, \"population\": 207847528, \"label\": 2}, {\"country\": \"Brunei\", \"income\": 73003, \"health\": 78.7, \"population\": 423188, \"label\": 4}, {\"country\": \"Bulgaria\", \"income\": 16371, \"health\": 74.9, \"population\": 7149787, \"label\": 4}, {\"country\": \"Burkina Faso\", \"income\": 1654, \"health\": 62.8, \"population\": 18105570, \"label\": 4}, {\"country\": \"Burundi\", \"income\": 777, \"health\": 60.4, \"population\": 11178921, \"label\": 4}, {\"country\": \"Cambodia\", \"income\": 3267, \"health\": 68.4, \"population\": 15577899, \"label\": 4}, {\"country\": \"Cameroon\", \"income\": 2897, \"health\": 59.5, \"population\": 23344179, \"label\": 4}, {\"country\": \"Canada\", \"income\": 43294, \"health\": 81.7, \"population\": 35939927, \"label\": 0}, {\"country\": \"Cape Verde\", \"income\": 6514, \"health\": 74.6, \"population\": 520502, \"label\": 4}, {\"country\": \"Central African Republic\", \"income\": 599, \"health\": 53.8, \"population\": 4900274, \"label\": 4}, {\"country\": \"Chad\", \"income\": 2191, \"health\": 57.7, \"population\": 14037472, \"label\": 4}, {\"country\": \"Chile\", \"income\": 22465, \"health\": 79.3, \"population\": 17948141, \"label\": 4}, {\"country\": \"China\", \"income\": 13334, \"health\": 76.9, \"population\": 1376048943, \"label\": 1}, {\"country\": \"Colombia\", \"income\": 12761, \"health\": 75.8, \"population\": 48228704, \"label\": 0}, {\"country\": \"Comoros\", \"income\": 1472, \"health\": 64.1, \"population\": 788474, \"label\": 4}, {\"country\": \"Congo, Dem. Rep.\", \"income\": 809, \"health\": 58.3, \"population\": 77266814, \"label\": 0}, {\"country\": \"Congo, Rep.\", \"income\": 6220, \"health\": 61.9, \"population\": 4620330, \"label\": 4}, {\"country\": \"Costa Rica\", \"income\": 14132, \"health\": 80.0, \"population\": 4807850, \"label\": 4}, {\"country\": \"Cote d'Ivoire\", \"income\": 3491, \"health\": 60.33, \"population\": 22701556, \"label\": 4}, {\"country\": \"Croatia\", \"income\": 20260, \"health\": 78.0, \"population\": 4240317, \"label\": 4}, {\"country\": \"Cuba\", \"income\": 21291, \"health\": 78.5, \"population\": 11389562, \"label\": 4}, {\"country\": \"Cyprus\", \"income\": 29797, \"health\": 82.6, \"population\": 1165300, \"label\": 4}, {\"country\": \"Czech Republic\", \"income\": 29437, \"health\": 78.6, \"population\": 10543186, \"label\": 4}, {\"country\": \"Denmark\", \"income\": 43495, \"health\": 80.1, \"population\": 5669081, \"label\": 4}, {\"country\": \"Djibouti\", \"income\": 3139, \"health\": 64.63, \"population\": 887861, \"label\": 4}, {\"country\": \"Dominica\", \"income\": 10503, \"health\": 74.6, \"population\": 72680, \"label\": 4}, {\"country\": \"Dominican Republic\", \"income\": 12837, \"health\": 73.8, \"population\": 10528391, \"label\": 4}, {\"country\": \"Ecuador\", \"income\": 10996, \"health\": 75.2, \"population\": 16144363, \"label\": 4}, {\"country\": \"Egypt\", \"income\": 11031, \"health\": 71.3, \"population\": 91508084, \"label\": 0}, {\"country\": \"El Salvador\", \"income\": 7776, \"health\": 74.1, \"population\": 6126583, \"label\": 4}, {\"country\": \"Equatorial Guinea\", \"income\": 31087, \"health\": 60.63, \"population\": 845060, \"label\": 4}, {\"country\": \"Eritrea\", \"income\": 1129, \"health\": 62.9, \"population\": 5227791, \"label\": 4}, {\"country\": \"Estonia\", \"income\": 26812, \"health\": 76.8, \"population\": 1312558, \"label\": 4}, {\"country\": \"Ethiopia\", \"income\": 1520, \"health\": 63.6, \"population\": 99390750, \"label\": 0}, {\"country\": \"Fiji\", \"income\": 7925, \"health\": 66.3, \"population\": 892145, \"label\": 4}, {\"country\": \"Finland\", \"income\": 38923, \"health\": 80.8, \"population\": 5503457, \"label\": 4}, {\"country\": \"France\", \"income\": 37599, \"health\": 81.9, \"population\": 64395345, \"label\": 0}, {\"country\": \"Gabon\", \"income\": 18627, \"health\": 60.53, \"population\": 1725292, \"label\": 4}, {\"country\": \"Gambia\", \"income\": 1644, \"health\": 65.1, \"population\": 1990924, \"label\": 4}, {\"country\": \"Georgia\", \"income\": 7474, \"health\": 73.3, \"population\": 3999812, \"label\": 4}, {\"country\": \"Germany\", \"income\": 44053, \"health\": 81.1, \"population\": 80688545, \"label\": 0}, {\"country\": \"Ghana\", \"income\": 4099, \"health\": 65.5, \"population\": 27409893, \"label\": 4}, {\"country\": \"Greece\", \"income\": 25430, \"health\": 79.8, \"population\": 10954617, \"label\": 4}, {\"country\": \"Grenada\", \"income\": 11593, \"health\": 71.7, \"population\": 106825, \"label\": 4}, {\"country\": \"Guatemala\", \"income\": 7279, \"health\": 73.1, \"population\": 16342897, \"label\": 4}, {\"country\": \"Guinea\", \"income\": 1225, \"health\": 60.8, \"population\": 12608590, \"label\": 4}, {\"country\": \"Guinea-Bissau\", \"income\": 1386, \"health\": 53.4, \"population\": 1844325, \"label\": 4}, {\"country\": \"Guyana\", \"income\": 6816, \"health\": 64.4, \"population\": 767085, \"label\": 4}, {\"country\": \"Haiti\", \"income\": 1710, \"health\": 65.3, \"population\": 10711067, \"label\": 4}, {\"country\": \"Honduras\", \"income\": 4270, \"health\": 72.4, \"population\": 8075060, \"label\": 4}, {\"country\": \"Hungary\", \"income\": 24200, \"health\": 76.2, \"population\": 9855023, \"label\": 4}, {\"country\": \"Iceland\", \"income\": 42182, \"health\": 82.8, \"population\": 329425, \"label\": 4}, {\"country\": \"India\", \"income\": 5903, \"health\": 66.8, \"population\": 1311050527, \"label\": 1}, {\"country\": \"Indonesia\", \"income\": 10504, \"health\": 70.9, \"population\": 257563815, \"label\": 3}, {\"country\": \"Iran\", \"income\": 15573, \"health\": 78.5, \"population\": 79109272, \"label\": 0}, {\"country\": \"Iraq\", \"income\": 14646, \"health\": 72.1, \"population\": 36423395, \"label\": 0}, {\"country\": \"Ireland\", \"income\": 47758, \"health\": 80.4, \"population\": 4688465, \"label\": 4}, {\"country\": \"Israel\", \"income\": 31590, \"health\": 82.4, \"population\": 8064036, \"label\": 4}, {\"country\": \"Italy\", \"income\": 33297, \"health\": 82.1, \"population\": 59797685, \"label\": 0}, {\"country\": \"Jamaica\", \"income\": 8606, \"health\": 75.5, \"population\": 2793335, \"label\": 4}, {\"country\": \"Japan\", \"income\": 36162, \"health\": 83.5, \"population\": 126573481, \"label\": 2}, {\"country\": \"Jordan\", \"income\": 11752, \"health\": 78.3, \"population\": 7594547, \"label\": 4}, {\"country\": \"Kazakhstan\", \"income\": 23468, \"health\": 68.2, \"population\": 17625226, \"label\": 4}, {\"country\": \"Kenya\", \"income\": 2898, \"health\": 66.63, \"population\": 46050302, \"label\": 0}, {\"country\": \"Kiribati\", \"income\": 1824, \"health\": 62.4, \"population\": 112423, \"label\": 4}, {\"country\": \"Kuwait\", \"income\": 82633, \"health\": 80.7, \"population\": 3892115, \"label\": 4}, {\"country\": \"Kyrgyz Republic\", \"income\": 3245, \"health\": 69.0, \"population\": 5939962, \"label\": 4}, {\"country\": \"Lao\", \"income\": 5212, \"health\": 66.4, \"population\": 6802023, \"label\": 4}, {\"country\": \"Latvia\", \"income\": 23282, \"health\": 75.7, \"population\": 1970503, \"label\": 4}, {\"country\": \"Lebanon\", \"income\": 17050, \"health\": 78.5, \"population\": 5850743, \"label\": 4}, {\"country\": \"Lesotho\", \"income\": 2598, \"health\": 48.5, \"population\": 2135022, \"label\": 4}, {\"country\": \"Liberia\", \"income\": 958, \"health\": 63.9, \"population\": 4503438, \"label\": 4}, {\"country\": \"Libya\", \"income\": 17261, \"health\": 76.2, \"population\": 6278438, \"label\": 4}, {\"country\": \"Lithuania\", \"income\": 26665, \"health\": 75.4, \"population\": 2878405, \"label\": 4}, {\"country\": \"Luxembourg\", \"income\": 88314, \"health\": 81.1, \"population\": 567110, \"label\": 4}, {\"country\": \"Macedonia, FYR\", \"income\": 12547, \"health\": 77.0, \"population\": 2078453, \"label\": 4}, {\"country\": \"Madagascar\", \"income\": 1400, \"health\": 64.7, \"population\": 24235390, \"label\": 4}, {\"country\": \"Malawi\", \"income\": 799, \"health\": 60.22, \"population\": 17215232, \"label\": 4}, {\"country\": \"Malaysia\", \"income\": 24320, \"health\": 75.1, \"population\": 30331007, \"label\": 4}, {\"country\": \"Maldives\", \"income\": 14408, \"health\": 79.5, \"population\": 363657, \"label\": 4}, {\"country\": \"Mali\", \"income\": 1684, \"health\": 57.6, \"population\": 17599694, \"label\": 4}, {\"country\": \"Malta\", \"income\": 30265, \"health\": 82.1, \"population\": 418670, \"label\": 4}, {\"country\": \"Marshall Islands\", \"income\": 3661, \"health\": 65.1, \"population\": 52993, \"label\": 4}, {\"country\": \"Mauritania\", \"income\": 3877, \"health\": 65.7, \"population\": 4067564, \"label\": 4}, {\"country\": \"Mauritius\", \"income\": 18350, \"health\": 73.9, \"population\": 1273212, \"label\": 4}, {\"country\": \"Mexico\", \"income\": 16850, \"health\": 74.5, \"population\": 127017224, \"label\": 2}, {\"country\": \"Micronesia, Fed. Sts.\", \"income\": 3510, \"health\": 67.0, \"population\": 104460, \"label\": 4}, {\"country\": \"Moldova\", \"income\": 4896, \"health\": 72.7, \"population\": 4068897, \"label\": 4}, {\"country\": \"Mongolia\", \"income\": 11819, \"health\": 65.3, \"population\": 2959134, \"label\": 4}, {\"country\": \"Montenegro\", \"income\": 14833, \"health\": 75.8, \"population\": 625781, \"label\": 4}, {\"country\": \"Morocco\", \"income\": 7319, \"health\": 74.7, \"population\": 34377511, \"label\": 0}, {\"country\": \"Mozambique\", \"income\": 1176, \"health\": 56.4, \"population\": 27977863, \"label\": 4}, {\"country\": \"Myanmar\", \"income\": 4012, \"health\": 67.9, \"population\": 53897154, \"label\": 0}, {\"country\": \"Namibia\", \"income\": 10040, \"health\": 61.0, \"population\": 2458830, \"label\": 4}, {\"country\": \"Nepal\", \"income\": 2352, \"health\": 71.2, \"population\": 28513700, \"label\": 4}, {\"country\": \"Netherlands\", \"income\": 45784, \"health\": 80.6, \"population\": 16924929, \"label\": 4}, {\"country\": \"New Zealand\", \"income\": 34186, \"health\": 80.6, \"population\": 4528526, \"label\": 4}, {\"country\": \"Nicaragua\", \"income\": 4712, \"health\": 76.8, \"population\": 6082032, \"label\": 4}, {\"country\": \"Niger\", \"income\": 943, \"health\": 62.2, \"population\": 19899120, \"label\": 4}, {\"country\": \"Nigeria\", \"income\": 5727, \"health\": 61.33, \"population\": 182201962, \"label\": 2}, {\"country\": \"North Korea\", \"income\": 1390, \"health\": 71.4, \"population\": 25155317, \"label\": 4}, {\"country\": \"Norway\", \"income\": 64304, \"health\": 81.6, \"population\": 5210967, \"label\": 4}, {\"country\": \"Oman\", \"income\": 48226, \"health\": 75.7, \"population\": 4490541, \"label\": 4}, {\"country\": \"Pakistan\", \"income\": 4743, \"health\": 66.5, \"population\": 188924874, \"label\": 2}, {\"country\": \"Panama\", \"income\": 20485, \"health\": 78.2, \"population\": 3929141, \"label\": 4}, {\"country\": \"Papua New Guinea\", \"income\": 2529, \"health\": 60.6, \"population\": 7619321, \"label\": 4}, {\"country\": \"Paraguay\", \"income\": 8219, \"health\": 73.9, \"population\": 6639123, \"label\": 4}, {\"country\": \"Peru\", \"income\": 11903, \"health\": 77.5, \"population\": 31376670, \"label\": 4}, {\"country\": \"Philippines\", \"income\": 6876, \"health\": 70.2, \"population\": 100699395, \"label\": 0}, {\"country\": \"Poland\", \"income\": 24787, \"health\": 77.3, \"population\": 38611794, \"label\": 0}, {\"country\": \"Portugal\", \"income\": 26437, \"health\": 79.8, \"population\": 10349803, \"label\": 4}, {\"country\": \"Qatar\", \"income\": 132877, \"health\": 82.0, \"population\": 2235355, \"label\": 4}, {\"country\": \"Romania\", \"income\": 19203, \"health\": 76.8, \"population\": 19511324, \"label\": 4}, {\"country\": \"Russia\", \"income\": 23038, \"health\": 73.13, \"population\": 143456918, \"label\": 2}, {\"country\": \"Rwanda\", \"income\": 1549, \"health\": 66.53, \"population\": 11609666, \"label\": 4}, {\"country\": \"Samoa\", \"income\": 5558, \"health\": 72.2, \"population\": 193228, \"label\": 4}, {\"country\": \"Sao Tome and Principe\", \"income\": 3003, \"health\": 68.8, \"population\": 190344, \"label\": 4}, {\"country\": \"Saudi Arabia\", \"income\": 52469, \"health\": 78.1, \"population\": 31540372, \"label\": 4}, {\"country\": \"Senegal\", \"income\": 2251, \"health\": 66.1, \"population\": 15129273, \"label\": 4}, {\"country\": \"Serbia\", \"income\": 12908, \"health\": 78.1, \"population\": 8850975, \"label\": 4}, {\"country\": \"Seychelles\", \"income\": 25684, \"health\": 73.7, \"population\": 96471, \"label\": 4}, {\"country\": \"Sierra Leone\", \"income\": 2085, \"health\": 58.5, \"population\": 6453184, \"label\": 4}, {\"country\": \"Singapore\", \"income\": 80794, \"health\": 82.1, \"population\": 5603740, \"label\": 4}, {\"country\": \"Slovak Republic\", \"income\": 27204, \"health\": 76.4, \"population\": 5426258, \"label\": 4}, {\"country\": \"Slovenia\", \"income\": 28550, \"health\": 80.2, \"population\": 2067526, \"label\": 4}, {\"country\": \"Solomon Islands\", \"income\": 2047, \"health\": 64.1, \"population\": 583591, \"label\": 4}, {\"country\": \"Somalia\", \"income\": 624, \"health\": 58.7, \"population\": 10787104, \"label\": 4}, {\"country\": \"South Africa\", \"income\": 12509, \"health\": 63.72, \"population\": 54490406, \"label\": 0}, {\"country\": \"South Korea\", \"income\": 34644, \"health\": 80.7, \"population\": 50293439, \"label\": 0}, {\"country\": \"South Sudan\", \"income\": 3047, \"health\": 58.0, \"population\": 12339812, \"label\": 4}, {\"country\": \"Spain\", \"income\": 32979, \"health\": 81.7, \"population\": 46121699, \"label\": 0}, {\"country\": \"Sri Lanka\", \"income\": 10624, \"health\": 76.5, \"population\": 20715010, \"label\": 4}, {\"country\": \"St. Lucia\", \"income\": 9997, \"health\": 74.5, \"population\": 184999, \"label\": 4}, {\"country\": \"St. Vincent and the Grenadines\", \"income\": 10435, \"health\": 72.9, \"population\": 109462, \"label\": 4}, {\"country\": \"Sudan\", \"income\": 3975, \"health\": 69.5, \"population\": 40234882, \"label\": 0}, {\"country\": \"Suriname\", \"income\": 17125, \"health\": 70.5, \"population\": 542975, \"label\": 4}, {\"country\": \"Swaziland\", \"income\": 6095, \"health\": 51.5, \"population\": 1286970, \"label\": 4}, {\"country\": \"Sweden\", \"income\": 44892, \"health\": 82.0, \"population\": 9779426, \"label\": 4}, {\"country\": \"Switzerland\", \"income\": 56118, \"health\": 82.9, \"population\": 8298663, \"label\": 4}, {\"country\": \"Syria\", \"income\": 4637, \"health\": 70.26, \"population\": 18502413, \"label\": 4}, {\"country\": \"Tajikistan\", \"income\": 2582, \"health\": 71.0, \"population\": 8481855, \"label\": 4}, {\"country\": \"Tanzania\", \"income\": 2571, \"health\": 63.43, \"population\": 53470420, \"label\": 0}, {\"country\": \"Thailand\", \"income\": 14512, \"health\": 75.1, \"population\": 67959359, \"label\": 0}, {\"country\": \"Timor-Leste\", \"income\": 2086, \"health\": 72.4, \"population\": 1184765, \"label\": 4}, {\"country\": \"Togo\", \"income\": 1433, \"health\": 64.23, \"population\": 7304578, \"label\": 4}, {\"country\": \"Tonga\", \"income\": 5069, \"health\": 70.5, \"population\": 106170, \"label\": 4}, {\"country\": \"Trinidad and Tobago\", \"income\": 30113, \"health\": 71.4, \"population\": 1360088, \"label\": 4}, {\"country\": \"Tunisia\", \"income\": 11126, \"health\": 77.3, \"population\": 11253554, \"label\": 4}, {\"country\": \"Turkey\", \"income\": 19360, \"health\": 76.5, \"population\": 78665830, \"label\": 0}, {\"country\": \"Turkmenistan\", \"income\": 15865, \"health\": 67.9, \"population\": 5373502, \"label\": 4}, {\"country\": \"Uganda\", \"income\": 1680, \"health\": 60.8, \"population\": 39032383, \"label\": 0}, {\"country\": \"Ukraine\", \"income\": 8449, \"health\": 72.1, \"population\": 44823765, \"label\": 0}, {\"country\": \"United Arab Emirates\", \"income\": 60749, \"health\": 76.6, \"population\": 9156963, \"label\": 4}, {\"country\": \"United Kingdom\", \"income\": 38225, \"health\": 81.4, \"population\": 64715810, \"label\": 0}, {\"country\": \"United States\", \"income\": 53354, \"health\": 79.1, \"population\": 321773631, \"label\": 3}, {\"country\": \"Uruguay\", \"income\": 20438, \"health\": 77.3, \"population\": 3431555, \"label\": 4}, {\"country\": \"Uzbekistan\", \"income\": 5598, \"health\": 70.1, \"population\": 29893488, \"label\": 4}, {\"country\": \"Vanuatu\", \"income\": 2912, \"health\": 65.0, \"population\": 264652, \"label\": 4}, {\"country\": \"Venezuela\", \"income\": 15753, \"health\": 75.8, \"population\": 31108083, \"label\": 4}, {\"country\": \"Vietnam\", \"income\": 5623, \"health\": 76.5, \"population\": 93447601, \"label\": 0}, {\"country\": \"West Bank and Gaza\", \"income\": 4319, \"health\": 75.2, \"population\": 4668466, \"label\": 4}, {\"country\": \"Yemen\", \"income\": 3887, \"health\": 67.6, \"population\": 26832215, \"label\": 4}, {\"country\": \"Zambia\", \"income\": 4034, \"health\": 58.96, \"population\": 16211767, \"label\": 4}, {\"country\": \"Zimbabwe\", \"income\": 1801, \"health\": 60.01, \"population\": 15602751, \"label\": 4}]}}, {\"mode\": \"vega-lite\"});\n",
       "</script>"
      ],
      "text/plain": [
       "alt.Chart(...)"
      ]
     },
     "execution_count": 50,
     "metadata": {},
     "output_type": "execute_result"
    }
   ],
   "source": [
    "(\n",
    "    alt.Chart(gapminder)\n",
    "    .mark_circle()\n",
    "    .encode(\n",
    "        alt.X(\"income:Q\", scale=alt.Scale(type=\"log\")),\n",
    "        alt.Y(\"health:Q\", scale=alt.Scale(zero=False)),\n",
    "        size=\"population:Q\",\n",
    "        color=alt.Color(\"label:N\", scale=alt.Scale(scheme=\"dark2\")),\n",
    "        tooltip=list(gapminder.columns),\n",
    "    )\n",
    "    .properties(width=800, height=600)\n",
    "    .interactive()\n",
    ")"
   ]
  },
  {
   "cell_type": "markdown",
   "metadata": {
    "slideshow": {
     "slide_type": "slide"
    }
   },
   "source": [
    "### It....didn't work that well\n",
    "\n",
    "What's wrong?"
   ]
  },
  {
   "cell_type": "markdown",
   "metadata": {
    "slideshow": {
     "slide_type": "subslide"
    }
   },
   "source": [
    "**K-means is distance-based, but our features have wildly different distance scales**"
   ]
  },
  {
   "cell_type": "markdown",
   "metadata": {
    "slideshow": {
     "slide_type": "slide"
    }
   },
   "source": [
    "## scikit-learn to the rescue: pre-processing\n",
    "\n",
    "* Scikit-learn has a utility to normalize features with an average of zero and a variance of 1\n",
    "* Use the [`StandardScaler`](https://scikit-learn.org/stable/modules/generated/sklearn.preprocessing.StandardScaler.html) class"
   ]
  },
  {
   "cell_type": "code",
   "execution_count": 51,
   "metadata": {},
   "outputs": [],
   "source": [
    "from sklearn.preprocessing import MinMaxScaler"
   ]
  },
  {
   "cell_type": "code",
   "execution_count": 52,
   "metadata": {
    "slideshow": {
     "slide_type": "fragment"
    }
   },
   "outputs": [],
   "source": [
    "from sklearn.preprocessing import StandardScaler"
   ]
  },
  {
   "cell_type": "code",
   "execution_count": 53,
   "metadata": {
    "slideshow": {
     "slide_type": "fragment"
    }
   },
   "outputs": [],
   "source": [
    "scaler = StandardScaler()"
   ]
  },
  {
   "cell_type": "markdown",
   "metadata": {
    "slideshow": {
     "slide_type": "slide"
    }
   },
   "source": [
    "## Use the `fit_transform()` function to scale your features"
   ]
  },
  {
   "cell_type": "code",
   "execution_count": 54,
   "metadata": {
    "slideshow": {
     "slide_type": "fragment"
    }
   },
   "outputs": [],
   "source": [
    "gapminder_scaled = scaler.fit_transform(gapminder[['income', 'health', 'population']])"
   ]
  },
  {
   "cell_type": "markdown",
   "metadata": {
    "slideshow": {
     "slide_type": "slide"
    }
   },
   "source": [
    "**Important**: The `fit_transform()` function converts the DataFrame to a numpy array:"
   ]
  },
  {
   "cell_type": "code",
   "execution_count": 55,
   "metadata": {
    "slideshow": {
     "slide_type": "fragment"
    }
   },
   "outputs": [
    {
     "data": {
      "text/plain": [
       "array([[-0.79481258, -1.8171424 , -0.04592039],\n",
       "       [-0.34333373,  0.55986273, -0.25325837],\n",
       "       [-0.1972197 ,  0.62456075,  0.00404216],\n",
       "       [ 1.52369617,  1.6079706 , -0.27303503],\n",
       "       [-0.49936524, -1.38107777, -0.09843447]])"
      ]
     },
     "execution_count": 55,
     "metadata": {},
     "output_type": "execute_result"
    }
   ],
   "source": [
    "# fit_transform() converts the data into a numpy array\n",
    "gapminder_scaled[:5]"
   ]
  },
  {
   "cell_type": "code",
   "execution_count": 56,
   "metadata": {
    "slideshow": {
     "slide_type": "subslide"
    }
   },
   "outputs": [
    {
     "data": {
      "text/plain": [
       "array([ 8.07434927e-17, -1.70511258e-15, -1.89984689e-17])"
      ]
     },
     "execution_count": 56,
     "metadata": {},
     "output_type": "execute_result"
    }
   ],
   "source": [
    "# mean of zero\n",
    "gapminder_scaled.mean(axis=0)"
   ]
  },
  {
   "cell_type": "code",
   "execution_count": 57,
   "metadata": {
    "slideshow": {
     "slide_type": "subslide"
    }
   },
   "outputs": [
    {
     "data": {
      "text/plain": [
       "array([1., 1., 1.])"
      ]
     },
     "execution_count": 57,
     "metadata": {},
     "output_type": "execute_result"
    }
   ],
   "source": [
    "# variance of one\n",
    "gapminder_scaled.std(axis=0)"
   ]
  },
  {
   "cell_type": "markdown",
   "metadata": {
    "slideshow": {
     "slide_type": "slide"
    }
   },
   "source": [
    "## Now fit the scaled features"
   ]
  },
  {
   "cell_type": "code",
   "execution_count": 58,
   "metadata": {
    "slideshow": {
     "slide_type": "fragment"
    }
   },
   "outputs": [],
   "source": [
    "# Perform the fit\n",
    "kmeans.fit(gapminder_scaled)\n",
    "\n",
    "# Extract the labels\n",
    "gapminder['label'] = kmeans.labels_"
   ]
  },
  {
   "cell_type": "code",
   "execution_count": 59,
   "metadata": {
    "slideshow": {
     "slide_type": "subslide"
    }
   },
   "outputs": [
    {
     "data": {
      "text/html": [
       "\n",
       "<div id=\"altair-viz-99f12093dfed466ea8aed453f0164f17\"></div>\n",
       "<script type=\"text/javascript\">\n",
       "  var VEGA_DEBUG = (typeof VEGA_DEBUG == \"undefined\") ? {} : VEGA_DEBUG;\n",
       "  (function(spec, embedOpt){\n",
       "    let outputDiv = document.currentScript.previousElementSibling;\n",
       "    if (outputDiv.id !== \"altair-viz-99f12093dfed466ea8aed453f0164f17\") {\n",
       "      outputDiv = document.getElementById(\"altair-viz-99f12093dfed466ea8aed453f0164f17\");\n",
       "    }\n",
       "    const paths = {\n",
       "      \"vega\": \"https://cdn.jsdelivr.net/npm//vega@5?noext\",\n",
       "      \"vega-lib\": \"https://cdn.jsdelivr.net/npm//vega-lib?noext\",\n",
       "      \"vega-lite\": \"https://cdn.jsdelivr.net/npm//vega-lite@4.17.0?noext\",\n",
       "      \"vega-embed\": \"https://cdn.jsdelivr.net/npm//vega-embed@6?noext\",\n",
       "    };\n",
       "\n",
       "    function maybeLoadScript(lib, version) {\n",
       "      var key = `${lib.replace(\"-\", \"\")}_version`;\n",
       "      return (VEGA_DEBUG[key] == version) ?\n",
       "        Promise.resolve(paths[lib]) :\n",
       "        new Promise(function(resolve, reject) {\n",
       "          var s = document.createElement('script');\n",
       "          document.getElementsByTagName(\"head\")[0].appendChild(s);\n",
       "          s.async = true;\n",
       "          s.onload = () => {\n",
       "            VEGA_DEBUG[key] = version;\n",
       "            return resolve(paths[lib]);\n",
       "          };\n",
       "          s.onerror = () => reject(`Error loading script: ${paths[lib]}`);\n",
       "          s.src = paths[lib];\n",
       "        });\n",
       "    }\n",
       "\n",
       "    function showError(err) {\n",
       "      outputDiv.innerHTML = `<div class=\"error\" style=\"color:red;\">${err}</div>`;\n",
       "      throw err;\n",
       "    }\n",
       "\n",
       "    function displayChart(vegaEmbed) {\n",
       "      vegaEmbed(outputDiv, spec, embedOpt)\n",
       "        .catch(err => showError(`Javascript Error: ${err.message}<br>This usually means there's a typo in your chart specification. See the javascript console for the full traceback.`));\n",
       "    }\n",
       "\n",
       "    if(typeof define === \"function\" && define.amd) {\n",
       "      requirejs.config({paths});\n",
       "      require([\"vega-embed\"], displayChart, err => showError(`Error loading script: ${err.message}`));\n",
       "    } else {\n",
       "      maybeLoadScript(\"vega\", \"5\")\n",
       "        .then(() => maybeLoadScript(\"vega-lite\", \"4.17.0\"))\n",
       "        .then(() => maybeLoadScript(\"vega-embed\", \"6\"))\n",
       "        .catch(showError)\n",
       "        .then(() => displayChart(vegaEmbed));\n",
       "    }\n",
       "  })({\"config\": {\"view\": {\"continuousWidth\": 400, \"continuousHeight\": 300}}, \"data\": {\"name\": \"data-d642f55ad6177ce30cf84896d9fa7b1d\"}, \"mark\": \"circle\", \"encoding\": {\"color\": {\"field\": \"label\", \"scale\": {\"scheme\": \"dark2\"}, \"type\": \"nominal\"}, \"size\": {\"field\": \"population\", \"type\": \"quantitative\"}, \"tooltip\": [{\"field\": \"country\", \"type\": \"nominal\"}, {\"field\": \"income\", \"type\": \"quantitative\"}, {\"field\": \"health\", \"type\": \"quantitative\"}, {\"field\": \"population\", \"type\": \"quantitative\"}, {\"field\": \"label\", \"type\": \"quantitative\"}], \"x\": {\"field\": \"income\", \"scale\": {\"type\": \"log\"}, \"type\": \"quantitative\"}, \"y\": {\"field\": \"health\", \"scale\": {\"zero\": false}, \"type\": \"quantitative\"}}, \"height\": 600, \"selection\": {\"selector004\": {\"type\": \"interval\", \"bind\": \"scales\", \"encodings\": [\"x\", \"y\"]}}, \"width\": 800, \"$schema\": \"https://vega.github.io/schema/vega-lite/v4.17.0.json\", \"datasets\": {\"data-d642f55ad6177ce30cf84896d9fa7b1d\": [{\"country\": \"Afghanistan\", \"income\": 1925, \"health\": 57.63, \"population\": 32526562, \"label\": 3}, {\"country\": \"Albania\", \"income\": 10620, \"health\": 76.0, \"population\": 2896679, \"label\": 0}, {\"country\": \"Algeria\", \"income\": 13434, \"health\": 76.5, \"population\": 39666519, \"label\": 0}, {\"country\": \"Andorra\", \"income\": 46577, \"health\": 84.1, \"population\": 70473, \"label\": 2}, {\"country\": \"Angola\", \"income\": 7615, \"health\": 61.0, \"population\": 25021974, \"label\": 3}, {\"country\": \"Antigua and Barbuda\", \"income\": 21049, \"health\": 75.2, \"population\": 91818, \"label\": 0}, {\"country\": \"Argentina\", \"income\": 17344, \"health\": 76.2, \"population\": 43416755, \"label\": 0}, {\"country\": \"Armenia\", \"income\": 7763, \"health\": 74.4, \"population\": 3017712, \"label\": 0}, {\"country\": \"Australia\", \"income\": 44056, \"health\": 81.8, \"population\": 23968973, \"label\": 2}, {\"country\": \"Austria\", \"income\": 44401, \"health\": 81.0, \"population\": 8544586, \"label\": 2}, {\"country\": \"Azerbaijan\", \"income\": 16986, \"health\": 72.9, \"population\": 9753968, \"label\": 0}, {\"country\": \"Bahamas\", \"income\": 22818, \"health\": 72.3, \"population\": 388019, \"label\": 0}, {\"country\": \"Bahrain\", \"income\": 44138, \"health\": 79.2, \"population\": 1377237, \"label\": 2}, {\"country\": \"Bangladesh\", \"income\": 3161, \"health\": 70.1, \"population\": 160995642, \"label\": 0}, {\"country\": \"Barbados\", \"income\": 12984, \"health\": 75.8, \"population\": 284215, \"label\": 0}, {\"country\": \"Belarus\", \"income\": 17415, \"health\": 70.4, \"population\": 9495826, \"label\": 0}, {\"country\": \"Belgium\", \"income\": 41240, \"health\": 80.4, \"population\": 11299192, \"label\": 2}, {\"country\": \"Belize\", \"income\": 8501, \"health\": 70.0, \"population\": 359287, \"label\": 0}, {\"country\": \"Benin\", \"income\": 1830, \"health\": 65.5, \"population\": 10879829, \"label\": 3}, {\"country\": \"Bhutan\", \"income\": 7983, \"health\": 70.2, \"population\": 774830, \"label\": 0}, {\"country\": \"Bolivia\", \"income\": 6295, \"health\": 72.3, \"population\": 10724705, \"label\": 0}, {\"country\": \"Bosnia and Herzegovina\", \"income\": 9833, \"health\": 77.9, \"population\": 3810416, \"label\": 0}, {\"country\": \"Botswana\", \"income\": 17196, \"health\": 66.4, \"population\": 2262485, \"label\": 3}, {\"country\": \"Brazil\", \"income\": 15441, \"health\": 75.6, \"population\": 207847528, \"label\": 0}, {\"country\": \"Brunei\", \"income\": 73003, \"health\": 78.7, \"population\": 423188, \"label\": 4}, {\"country\": \"Bulgaria\", \"income\": 16371, \"health\": 74.9, \"population\": 7149787, \"label\": 0}, {\"country\": \"Burkina Faso\", \"income\": 1654, \"health\": 62.8, \"population\": 18105570, \"label\": 3}, {\"country\": \"Burundi\", \"income\": 777, \"health\": 60.4, \"population\": 11178921, \"label\": 3}, {\"country\": \"Cambodia\", \"income\": 3267, \"health\": 68.4, \"population\": 15577899, \"label\": 3}, {\"country\": \"Cameroon\", \"income\": 2897, \"health\": 59.5, \"population\": 23344179, \"label\": 3}, {\"country\": \"Canada\", \"income\": 43294, \"health\": 81.7, \"population\": 35939927, \"label\": 2}, {\"country\": \"Cape Verde\", \"income\": 6514, \"health\": 74.6, \"population\": 520502, \"label\": 0}, {\"country\": \"Central African Republic\", \"income\": 599, \"health\": 53.8, \"population\": 4900274, \"label\": 3}, {\"country\": \"Chad\", \"income\": 2191, \"health\": 57.7, \"population\": 14037472, \"label\": 3}, {\"country\": \"Chile\", \"income\": 22465, \"health\": 79.3, \"population\": 17948141, \"label\": 0}, {\"country\": \"China\", \"income\": 13334, \"health\": 76.9, \"population\": 1376048943, \"label\": 1}, {\"country\": \"Colombia\", \"income\": 12761, \"health\": 75.8, \"population\": 48228704, \"label\": 0}, {\"country\": \"Comoros\", \"income\": 1472, \"health\": 64.1, \"population\": 788474, \"label\": 3}, {\"country\": \"Congo, Dem. Rep.\", \"income\": 809, \"health\": 58.3, \"population\": 77266814, \"label\": 3}, {\"country\": \"Congo, Rep.\", \"income\": 6220, \"health\": 61.9, \"population\": 4620330, \"label\": 3}, {\"country\": \"Costa Rica\", \"income\": 14132, \"health\": 80.0, \"population\": 4807850, \"label\": 0}, {\"country\": \"Cote d'Ivoire\", \"income\": 3491, \"health\": 60.33, \"population\": 22701556, \"label\": 3}, {\"country\": \"Croatia\", \"income\": 20260, \"health\": 78.0, \"population\": 4240317, \"label\": 0}, {\"country\": \"Cuba\", \"income\": 21291, \"health\": 78.5, \"population\": 11389562, \"label\": 0}, {\"country\": \"Cyprus\", \"income\": 29797, \"health\": 82.6, \"population\": 1165300, \"label\": 2}, {\"country\": \"Czech Republic\", \"income\": 29437, \"health\": 78.6, \"population\": 10543186, \"label\": 2}, {\"country\": \"Denmark\", \"income\": 43495, \"health\": 80.1, \"population\": 5669081, \"label\": 2}, {\"country\": \"Djibouti\", \"income\": 3139, \"health\": 64.63, \"population\": 887861, \"label\": 3}, {\"country\": \"Dominica\", \"income\": 10503, \"health\": 74.6, \"population\": 72680, \"label\": 0}, {\"country\": \"Dominican Republic\", \"income\": 12837, \"health\": 73.8, \"population\": 10528391, \"label\": 0}, {\"country\": \"Ecuador\", \"income\": 10996, \"health\": 75.2, \"population\": 16144363, \"label\": 0}, {\"country\": \"Egypt\", \"income\": 11031, \"health\": 71.3, \"population\": 91508084, \"label\": 0}, {\"country\": \"El Salvador\", \"income\": 7776, \"health\": 74.1, \"population\": 6126583, \"label\": 0}, {\"country\": \"Equatorial Guinea\", \"income\": 31087, \"health\": 60.63, \"population\": 845060, \"label\": 3}, {\"country\": \"Eritrea\", \"income\": 1129, \"health\": 62.9, \"population\": 5227791, \"label\": 3}, {\"country\": \"Estonia\", \"income\": 26812, \"health\": 76.8, \"population\": 1312558, \"label\": 0}, {\"country\": \"Ethiopia\", \"income\": 1520, \"health\": 63.6, \"population\": 99390750, \"label\": 3}, {\"country\": \"Fiji\", \"income\": 7925, \"health\": 66.3, \"population\": 892145, \"label\": 3}, {\"country\": \"Finland\", \"income\": 38923, \"health\": 80.8, \"population\": 5503457, \"label\": 2}, {\"country\": \"France\", \"income\": 37599, \"health\": 81.9, \"population\": 64395345, \"label\": 2}, {\"country\": \"Gabon\", \"income\": 18627, \"health\": 60.53, \"population\": 1725292, \"label\": 3}, {\"country\": \"Gambia\", \"income\": 1644, \"health\": 65.1, \"population\": 1990924, \"label\": 3}, {\"country\": \"Georgia\", \"income\": 7474, \"health\": 73.3, \"population\": 3999812, \"label\": 0}, {\"country\": \"Germany\", \"income\": 44053, \"health\": 81.1, \"population\": 80688545, \"label\": 2}, {\"country\": \"Ghana\", \"income\": 4099, \"health\": 65.5, \"population\": 27409893, \"label\": 3}, {\"country\": \"Greece\", \"income\": 25430, \"health\": 79.8, \"population\": 10954617, \"label\": 2}, {\"country\": \"Grenada\", \"income\": 11593, \"health\": 71.7, \"population\": 106825, \"label\": 0}, {\"country\": \"Guatemala\", \"income\": 7279, \"health\": 73.1, \"population\": 16342897, \"label\": 0}, {\"country\": \"Guinea\", \"income\": 1225, \"health\": 60.8, \"population\": 12608590, \"label\": 3}, {\"country\": \"Guinea-Bissau\", \"income\": 1386, \"health\": 53.4, \"population\": 1844325, \"label\": 3}, {\"country\": \"Guyana\", \"income\": 6816, \"health\": 64.4, \"population\": 767085, \"label\": 3}, {\"country\": \"Haiti\", \"income\": 1710, \"health\": 65.3, \"population\": 10711067, \"label\": 3}, {\"country\": \"Honduras\", \"income\": 4270, \"health\": 72.4, \"population\": 8075060, \"label\": 0}, {\"country\": \"Hungary\", \"income\": 24200, \"health\": 76.2, \"population\": 9855023, \"label\": 0}, {\"country\": \"Iceland\", \"income\": 42182, \"health\": 82.8, \"population\": 329425, \"label\": 2}, {\"country\": \"India\", \"income\": 5903, \"health\": 66.8, \"population\": 1311050527, \"label\": 1}, {\"country\": \"Indonesia\", \"income\": 10504, \"health\": 70.9, \"population\": 257563815, \"label\": 0}, {\"country\": \"Iran\", \"income\": 15573, \"health\": 78.5, \"population\": 79109272, \"label\": 0}, {\"country\": \"Iraq\", \"income\": 14646, \"health\": 72.1, \"population\": 36423395, \"label\": 0}, {\"country\": \"Ireland\", \"income\": 47758, \"health\": 80.4, \"population\": 4688465, \"label\": 2}, {\"country\": \"Israel\", \"income\": 31590, \"health\": 82.4, \"population\": 8064036, \"label\": 2}, {\"country\": \"Italy\", \"income\": 33297, \"health\": 82.1, \"population\": 59797685, \"label\": 2}, {\"country\": \"Jamaica\", \"income\": 8606, \"health\": 75.5, \"population\": 2793335, \"label\": 0}, {\"country\": \"Japan\", \"income\": 36162, \"health\": 83.5, \"population\": 126573481, \"label\": 2}, {\"country\": \"Jordan\", \"income\": 11752, \"health\": 78.3, \"population\": 7594547, \"label\": 0}, {\"country\": \"Kazakhstan\", \"income\": 23468, \"health\": 68.2, \"population\": 17625226, \"label\": 0}, {\"country\": \"Kenya\", \"income\": 2898, \"health\": 66.63, \"population\": 46050302, \"label\": 3}, {\"country\": \"Kiribati\", \"income\": 1824, \"health\": 62.4, \"population\": 112423, \"label\": 3}, {\"country\": \"Kuwait\", \"income\": 82633, \"health\": 80.7, \"population\": 3892115, \"label\": 4}, {\"country\": \"Kyrgyz Republic\", \"income\": 3245, \"health\": 69.0, \"population\": 5939962, \"label\": 0}, {\"country\": \"Lao\", \"income\": 5212, \"health\": 66.4, \"population\": 6802023, \"label\": 3}, {\"country\": \"Latvia\", \"income\": 23282, \"health\": 75.7, \"population\": 1970503, \"label\": 0}, {\"country\": \"Lebanon\", \"income\": 17050, \"health\": 78.5, \"population\": 5850743, \"label\": 0}, {\"country\": \"Lesotho\", \"income\": 2598, \"health\": 48.5, \"population\": 2135022, \"label\": 3}, {\"country\": \"Liberia\", \"income\": 958, \"health\": 63.9, \"population\": 4503438, \"label\": 3}, {\"country\": \"Libya\", \"income\": 17261, \"health\": 76.2, \"population\": 6278438, \"label\": 0}, {\"country\": \"Lithuania\", \"income\": 26665, \"health\": 75.4, \"population\": 2878405, \"label\": 0}, {\"country\": \"Luxembourg\", \"income\": 88314, \"health\": 81.1, \"population\": 567110, \"label\": 4}, {\"country\": \"Macedonia, FYR\", \"income\": 12547, \"health\": 77.0, \"population\": 2078453, \"label\": 0}, {\"country\": \"Madagascar\", \"income\": 1400, \"health\": 64.7, \"population\": 24235390, \"label\": 3}, {\"country\": \"Malawi\", \"income\": 799, \"health\": 60.22, \"population\": 17215232, \"label\": 3}, {\"country\": \"Malaysia\", \"income\": 24320, \"health\": 75.1, \"population\": 30331007, \"label\": 0}, {\"country\": \"Maldives\", \"income\": 14408, \"health\": 79.5, \"population\": 363657, \"label\": 0}, {\"country\": \"Mali\", \"income\": 1684, \"health\": 57.6, \"population\": 17599694, \"label\": 3}, {\"country\": \"Malta\", \"income\": 30265, \"health\": 82.1, \"population\": 418670, \"label\": 2}, {\"country\": \"Marshall Islands\", \"income\": 3661, \"health\": 65.1, \"population\": 52993, \"label\": 3}, {\"country\": \"Mauritania\", \"income\": 3877, \"health\": 65.7, \"population\": 4067564, \"label\": 3}, {\"country\": \"Mauritius\", \"income\": 18350, \"health\": 73.9, \"population\": 1273212, \"label\": 0}, {\"country\": \"Mexico\", \"income\": 16850, \"health\": 74.5, \"population\": 127017224, \"label\": 0}, {\"country\": \"Micronesia, Fed. Sts.\", \"income\": 3510, \"health\": 67.0, \"population\": 104460, \"label\": 3}, {\"country\": \"Moldova\", \"income\": 4896, \"health\": 72.7, \"population\": 4068897, \"label\": 0}, {\"country\": \"Mongolia\", \"income\": 11819, \"health\": 65.3, \"population\": 2959134, \"label\": 3}, {\"country\": \"Montenegro\", \"income\": 14833, \"health\": 75.8, \"population\": 625781, \"label\": 0}, {\"country\": \"Morocco\", \"income\": 7319, \"health\": 74.7, \"population\": 34377511, \"label\": 0}, {\"country\": \"Mozambique\", \"income\": 1176, \"health\": 56.4, \"population\": 27977863, \"label\": 3}, {\"country\": \"Myanmar\", \"income\": 4012, \"health\": 67.9, \"population\": 53897154, \"label\": 3}, {\"country\": \"Namibia\", \"income\": 10040, \"health\": 61.0, \"population\": 2458830, \"label\": 3}, {\"country\": \"Nepal\", \"income\": 2352, \"health\": 71.2, \"population\": 28513700, \"label\": 0}, {\"country\": \"Netherlands\", \"income\": 45784, \"health\": 80.6, \"population\": 16924929, \"label\": 2}, {\"country\": \"New Zealand\", \"income\": 34186, \"health\": 80.6, \"population\": 4528526, \"label\": 2}, {\"country\": \"Nicaragua\", \"income\": 4712, \"health\": 76.8, \"population\": 6082032, \"label\": 0}, {\"country\": \"Niger\", \"income\": 943, \"health\": 62.2, \"population\": 19899120, \"label\": 3}, {\"country\": \"Nigeria\", \"income\": 5727, \"health\": 61.33, \"population\": 182201962, \"label\": 3}, {\"country\": \"North Korea\", \"income\": 1390, \"health\": 71.4, \"population\": 25155317, \"label\": 0}, {\"country\": \"Norway\", \"income\": 64304, \"health\": 81.6, \"population\": 5210967, \"label\": 4}, {\"country\": \"Oman\", \"income\": 48226, \"health\": 75.7, \"population\": 4490541, \"label\": 2}, {\"country\": \"Pakistan\", \"income\": 4743, \"health\": 66.5, \"population\": 188924874, \"label\": 3}, {\"country\": \"Panama\", \"income\": 20485, \"health\": 78.2, \"population\": 3929141, \"label\": 0}, {\"country\": \"Papua New Guinea\", \"income\": 2529, \"health\": 60.6, \"population\": 7619321, \"label\": 3}, {\"country\": \"Paraguay\", \"income\": 8219, \"health\": 73.9, \"population\": 6639123, \"label\": 0}, {\"country\": \"Peru\", \"income\": 11903, \"health\": 77.5, \"population\": 31376670, \"label\": 0}, {\"country\": \"Philippines\", \"income\": 6876, \"health\": 70.2, \"population\": 100699395, \"label\": 0}, {\"country\": \"Poland\", \"income\": 24787, \"health\": 77.3, \"population\": 38611794, \"label\": 0}, {\"country\": \"Portugal\", \"income\": 26437, \"health\": 79.8, \"population\": 10349803, \"label\": 2}, {\"country\": \"Qatar\", \"income\": 132877, \"health\": 82.0, \"population\": 2235355, \"label\": 4}, {\"country\": \"Romania\", \"income\": 19203, \"health\": 76.8, \"population\": 19511324, \"label\": 0}, {\"country\": \"Russia\", \"income\": 23038, \"health\": 73.13, \"population\": 143456918, \"label\": 0}, {\"country\": \"Rwanda\", \"income\": 1549, \"health\": 66.53, \"population\": 11609666, \"label\": 3}, {\"country\": \"Samoa\", \"income\": 5558, \"health\": 72.2, \"population\": 193228, \"label\": 0}, {\"country\": \"Sao Tome and Principe\", \"income\": 3003, \"health\": 68.8, \"population\": 190344, \"label\": 3}, {\"country\": \"Saudi Arabia\", \"income\": 52469, \"health\": 78.1, \"population\": 31540372, \"label\": 2}, {\"country\": \"Senegal\", \"income\": 2251, \"health\": 66.1, \"population\": 15129273, \"label\": 3}, {\"country\": \"Serbia\", \"income\": 12908, \"health\": 78.1, \"population\": 8850975, \"label\": 0}, {\"country\": \"Seychelles\", \"income\": 25684, \"health\": 73.7, \"population\": 96471, \"label\": 0}, {\"country\": \"Sierra Leone\", \"income\": 2085, \"health\": 58.5, \"population\": 6453184, \"label\": 3}, {\"country\": \"Singapore\", \"income\": 80794, \"health\": 82.1, \"population\": 5603740, \"label\": 4}, {\"country\": \"Slovak Republic\", \"income\": 27204, \"health\": 76.4, \"population\": 5426258, \"label\": 0}, {\"country\": \"Slovenia\", \"income\": 28550, \"health\": 80.2, \"population\": 2067526, \"label\": 2}, {\"country\": \"Solomon Islands\", \"income\": 2047, \"health\": 64.1, \"population\": 583591, \"label\": 3}, {\"country\": \"Somalia\", \"income\": 624, \"health\": 58.7, \"population\": 10787104, \"label\": 3}, {\"country\": \"South Africa\", \"income\": 12509, \"health\": 63.72, \"population\": 54490406, \"label\": 3}, {\"country\": \"South Korea\", \"income\": 34644, \"health\": 80.7, \"population\": 50293439, \"label\": 2}, {\"country\": \"South Sudan\", \"income\": 3047, \"health\": 58.0, \"population\": 12339812, \"label\": 3}, {\"country\": \"Spain\", \"income\": 32979, \"health\": 81.7, \"population\": 46121699, \"label\": 2}, {\"country\": \"Sri Lanka\", \"income\": 10624, \"health\": 76.5, \"population\": 20715010, \"label\": 0}, {\"country\": \"St. Lucia\", \"income\": 9997, \"health\": 74.5, \"population\": 184999, \"label\": 0}, {\"country\": \"St. Vincent and the Grenadines\", \"income\": 10435, \"health\": 72.9, \"population\": 109462, \"label\": 0}, {\"country\": \"Sudan\", \"income\": 3975, \"health\": 69.5, \"population\": 40234882, \"label\": 0}, {\"country\": \"Suriname\", \"income\": 17125, \"health\": 70.5, \"population\": 542975, \"label\": 0}, {\"country\": \"Swaziland\", \"income\": 6095, \"health\": 51.5, \"population\": 1286970, \"label\": 3}, {\"country\": \"Sweden\", \"income\": 44892, \"health\": 82.0, \"population\": 9779426, \"label\": 2}, {\"country\": \"Switzerland\", \"income\": 56118, \"health\": 82.9, \"population\": 8298663, \"label\": 2}, {\"country\": \"Syria\", \"income\": 4637, \"health\": 70.26, \"population\": 18502413, \"label\": 0}, {\"country\": \"Tajikistan\", \"income\": 2582, \"health\": 71.0, \"population\": 8481855, \"label\": 0}, {\"country\": \"Tanzania\", \"income\": 2571, \"health\": 63.43, \"population\": 53470420, \"label\": 3}, {\"country\": \"Thailand\", \"income\": 14512, \"health\": 75.1, \"population\": 67959359, \"label\": 0}, {\"country\": \"Timor-Leste\", \"income\": 2086, \"health\": 72.4, \"population\": 1184765, \"label\": 0}, {\"country\": \"Togo\", \"income\": 1433, \"health\": 64.23, \"population\": 7304578, \"label\": 3}, {\"country\": \"Tonga\", \"income\": 5069, \"health\": 70.5, \"population\": 106170, \"label\": 0}, {\"country\": \"Trinidad and Tobago\", \"income\": 30113, \"health\": 71.4, \"population\": 1360088, \"label\": 0}, {\"country\": \"Tunisia\", \"income\": 11126, \"health\": 77.3, \"population\": 11253554, \"label\": 0}, {\"country\": \"Turkey\", \"income\": 19360, \"health\": 76.5, \"population\": 78665830, \"label\": 0}, {\"country\": \"Turkmenistan\", \"income\": 15865, \"health\": 67.9, \"population\": 5373502, \"label\": 0}, {\"country\": \"Uganda\", \"income\": 1680, \"health\": 60.8, \"population\": 39032383, \"label\": 3}, {\"country\": \"Ukraine\", \"income\": 8449, \"health\": 72.1, \"population\": 44823765, \"label\": 0}, {\"country\": \"United Arab Emirates\", \"income\": 60749, \"health\": 76.6, \"population\": 9156963, \"label\": 2}, {\"country\": \"United Kingdom\", \"income\": 38225, \"health\": 81.4, \"population\": 64715810, \"label\": 2}, {\"country\": \"United States\", \"income\": 53354, \"health\": 79.1, \"population\": 321773631, \"label\": 2}, {\"country\": \"Uruguay\", \"income\": 20438, \"health\": 77.3, \"population\": 3431555, \"label\": 0}, {\"country\": \"Uzbekistan\", \"income\": 5598, \"health\": 70.1, \"population\": 29893488, \"label\": 0}, {\"country\": \"Vanuatu\", \"income\": 2912, \"health\": 65.0, \"population\": 264652, \"label\": 3}, {\"country\": \"Venezuela\", \"income\": 15753, \"health\": 75.8, \"population\": 31108083, \"label\": 0}, {\"country\": \"Vietnam\", \"income\": 5623, \"health\": 76.5, \"population\": 93447601, \"label\": 0}, {\"country\": \"West Bank and Gaza\", \"income\": 4319, \"health\": 75.2, \"population\": 4668466, \"label\": 0}, {\"country\": \"Yemen\", \"income\": 3887, \"health\": 67.6, \"population\": 26832215, \"label\": 3}, {\"country\": \"Zambia\", \"income\": 4034, \"health\": 58.96, \"population\": 16211767, \"label\": 3}, {\"country\": \"Zimbabwe\", \"income\": 1801, \"health\": 60.01, \"population\": 15602751, \"label\": 3}]}}, {\"mode\": \"vega-lite\"});\n",
       "</script>"
      ],
      "text/plain": [
       "alt.Chart(...)"
      ]
     },
     "execution_count": 59,
     "metadata": {},
     "output_type": "execute_result"
    }
   ],
   "source": [
    "(\n",
    "    alt.Chart(gapminder)\n",
    "    .mark_circle()\n",
    "    .encode(\n",
    "        alt.X(\"income:Q\", scale=alt.Scale(type=\"log\")),\n",
    "        alt.Y(\"health:Q\", scale=alt.Scale(zero=False)),\n",
    "        size=\"population:Q\",\n",
    "        color=alt.Color(\"label:N\", scale=alt.Scale(scheme=\"dark2\")),\n",
    "        tooltip=list(gapminder.columns),\n",
    "    )\n",
    "    .properties(width=800, height=600)\n",
    "    .interactive()\n",
    ")"
   ]
  },
  {
   "cell_type": "code",
   "execution_count": 60,
   "metadata": {
    "slideshow": {
     "slide_type": "subslide"
    }
   },
   "outputs": [
    {
     "data": {
      "text/plain": [
       "label\n",
       "0    86\n",
       "1     2\n",
       "2    32\n",
       "3    61\n",
       "4     6\n",
       "dtype: int64"
      ]
     },
     "execution_count": 60,
     "metadata": {},
     "output_type": "execute_result"
    }
   ],
   "source": [
    "# Number of countries per cluster\n",
    "gapminder.groupby(\"label\").size()"
   ]
  },
  {
   "cell_type": "code",
   "execution_count": 61,
   "metadata": {
    "slideshow": {
     "slide_type": "subslide"
    }
   },
   "outputs": [
    {
     "data": {
      "text/plain": [
       "label\n",
       "4       2.988746\n",
       "3      21.441296\n",
       "0      26.239937\n",
       "2      32.501032\n",
       "1    1343.549735\n",
       "Name: population, dtype: float64"
      ]
     },
     "execution_count": 61,
     "metadata": {},
     "output_type": "execute_result"
    }
   ],
   "source": [
    "# Average population per cluster\n",
    "gapminder.groupby(\"label\")['population'].mean().sort_values() / 1e6"
   ]
  },
  {
   "cell_type": "code",
   "execution_count": 62,
   "metadata": {
    "slideshow": {
     "slide_type": "subslide"
    }
   },
   "outputs": [
    {
     "data": {
      "text/plain": [
       "label\n",
       "3    62.232951\n",
       "1    71.850000\n",
       "0    74.313837\n",
       "2    80.806250\n",
       "4    81.033333\n",
       "Name: health, dtype: float64"
      ]
     },
     "execution_count": 62,
     "metadata": {},
     "output_type": "execute_result"
    }
   ],
   "source": [
    "# Average life expectancy per cluster\n",
    "gapminder.groupby(\"label\")['health'].mean().sort_values()"
   ]
  },
  {
   "cell_type": "code",
   "execution_count": 63,
   "metadata": {
    "slideshow": {
     "slide_type": "subslide"
    }
   },
   "outputs": [
    {
     "data": {
      "text/plain": [
       "label\n",
       "3     4.150623\n",
       "1     9.618500\n",
       "0    13.229907\n",
       "2    40.322094\n",
       "4    86.987500\n",
       "Name: income, dtype: float64"
      ]
     },
     "execution_count": 63,
     "metadata": {},
     "output_type": "execute_result"
    }
   ],
   "source": [
    "# Average income per cluster\n",
    "gapminder.groupby(\"label\")['income'].mean().sort_values() / 1e3"
   ]
  },
  {
   "cell_type": "code",
   "execution_count": 64,
   "metadata": {
    "slideshow": {
     "slide_type": "subslide"
    }
   },
   "outputs": [
    {
     "data": {
      "text/html": [
       "<div>\n",
       "<style scoped>\n",
       "    .dataframe tbody tr th:only-of-type {\n",
       "        vertical-align: middle;\n",
       "    }\n",
       "\n",
       "    .dataframe tbody tr th {\n",
       "        vertical-align: top;\n",
       "    }\n",
       "\n",
       "    .dataframe thead th {\n",
       "        text-align: right;\n",
       "    }\n",
       "</style>\n",
       "<table border=\"1\" class=\"dataframe\">\n",
       "  <thead>\n",
       "    <tr style=\"text-align: right;\">\n",
       "      <th></th>\n",
       "      <th>country</th>\n",
       "      <th>income</th>\n",
       "      <th>health</th>\n",
       "      <th>population</th>\n",
       "      <th>label</th>\n",
       "    </tr>\n",
       "  </thead>\n",
       "  <tbody>\n",
       "    <tr>\n",
       "      <th>24</th>\n",
       "      <td>Brunei</td>\n",
       "      <td>73003</td>\n",
       "      <td>78.7</td>\n",
       "      <td>423188</td>\n",
       "      <td>4</td>\n",
       "    </tr>\n",
       "    <tr>\n",
       "      <th>88</th>\n",
       "      <td>Kuwait</td>\n",
       "      <td>82633</td>\n",
       "      <td>80.7</td>\n",
       "      <td>3892115</td>\n",
       "      <td>4</td>\n",
       "    </tr>\n",
       "    <tr>\n",
       "      <th>97</th>\n",
       "      <td>Luxembourg</td>\n",
       "      <td>88314</td>\n",
       "      <td>81.1</td>\n",
       "      <td>567110</td>\n",
       "      <td>4</td>\n",
       "    </tr>\n",
       "    <tr>\n",
       "      <th>124</th>\n",
       "      <td>Norway</td>\n",
       "      <td>64304</td>\n",
       "      <td>81.6</td>\n",
       "      <td>5210967</td>\n",
       "      <td>4</td>\n",
       "    </tr>\n",
       "    <tr>\n",
       "      <th>134</th>\n",
       "      <td>Qatar</td>\n",
       "      <td>132877</td>\n",
       "      <td>82.0</td>\n",
       "      <td>2235355</td>\n",
       "      <td>4</td>\n",
       "    </tr>\n",
       "    <tr>\n",
       "      <th>145</th>\n",
       "      <td>Singapore</td>\n",
       "      <td>80794</td>\n",
       "      <td>82.1</td>\n",
       "      <td>5603740</td>\n",
       "      <td>4</td>\n",
       "    </tr>\n",
       "  </tbody>\n",
       "</table>\n",
       "</div>"
      ],
      "text/plain": [
       "        country  income  health  population  label\n",
       "24       Brunei   73003    78.7      423188      4\n",
       "88       Kuwait   82633    80.7     3892115      4\n",
       "97   Luxembourg   88314    81.1      567110      4\n",
       "124      Norway   64304    81.6     5210967      4\n",
       "134       Qatar  132877    82.0     2235355      4\n",
       "145   Singapore   80794    82.1     5603740      4"
      ]
     },
     "execution_count": 64,
     "metadata": {},
     "output_type": "execute_result"
    }
   ],
   "source": [
    "gapminder.loc[gapminder['label']==4]"
   ]
  },
  {
   "cell_type": "code",
   "execution_count": 65,
   "metadata": {},
   "outputs": [
    {
     "data": {
      "text/plain": [
       "80.84493050696736"
      ]
     },
     "execution_count": 65,
     "metadata": {},
     "output_type": "execute_result"
    }
   ],
   "source": [
    "kmeans.inertia_"
   ]
  },
  {
   "cell_type": "code",
   "execution_count": 66,
   "metadata": {
    "slideshow": {
     "slide_type": "subslide"
    }
   },
   "outputs": [
    {
     "data": {
      "text/html": [
       "<div>\n",
       "<style scoped>\n",
       "    .dataframe tbody tr th:only-of-type {\n",
       "        vertical-align: middle;\n",
       "    }\n",
       "\n",
       "    .dataframe tbody tr th {\n",
       "        vertical-align: top;\n",
       "    }\n",
       "\n",
       "    .dataframe thead th {\n",
       "        text-align: right;\n",
       "    }\n",
       "</style>\n",
       "<table border=\"1\" class=\"dataframe\">\n",
       "  <thead>\n",
       "    <tr style=\"text-align: right;\">\n",
       "      <th></th>\n",
       "      <th>country</th>\n",
       "      <th>income</th>\n",
       "      <th>health</th>\n",
       "      <th>population</th>\n",
       "      <th>label</th>\n",
       "    </tr>\n",
       "  </thead>\n",
       "  <tbody>\n",
       "    <tr>\n",
       "      <th>3</th>\n",
       "      <td>Andorra</td>\n",
       "      <td>46577</td>\n",
       "      <td>84.1</td>\n",
       "      <td>70473</td>\n",
       "      <td>2</td>\n",
       "    </tr>\n",
       "    <tr>\n",
       "      <th>8</th>\n",
       "      <td>Australia</td>\n",
       "      <td>44056</td>\n",
       "      <td>81.8</td>\n",
       "      <td>23968973</td>\n",
       "      <td>2</td>\n",
       "    </tr>\n",
       "    <tr>\n",
       "      <th>9</th>\n",
       "      <td>Austria</td>\n",
       "      <td>44401</td>\n",
       "      <td>81.0</td>\n",
       "      <td>8544586</td>\n",
       "      <td>2</td>\n",
       "    </tr>\n",
       "    <tr>\n",
       "      <th>12</th>\n",
       "      <td>Bahrain</td>\n",
       "      <td>44138</td>\n",
       "      <td>79.2</td>\n",
       "      <td>1377237</td>\n",
       "      <td>2</td>\n",
       "    </tr>\n",
       "    <tr>\n",
       "      <th>16</th>\n",
       "      <td>Belgium</td>\n",
       "      <td>41240</td>\n",
       "      <td>80.4</td>\n",
       "      <td>11299192</td>\n",
       "      <td>2</td>\n",
       "    </tr>\n",
       "    <tr>\n",
       "      <th>30</th>\n",
       "      <td>Canada</td>\n",
       "      <td>43294</td>\n",
       "      <td>81.7</td>\n",
       "      <td>35939927</td>\n",
       "      <td>2</td>\n",
       "    </tr>\n",
       "    <tr>\n",
       "      <th>44</th>\n",
       "      <td>Cyprus</td>\n",
       "      <td>29797</td>\n",
       "      <td>82.6</td>\n",
       "      <td>1165300</td>\n",
       "      <td>2</td>\n",
       "    </tr>\n",
       "    <tr>\n",
       "      <th>45</th>\n",
       "      <td>Czech Republic</td>\n",
       "      <td>29437</td>\n",
       "      <td>78.6</td>\n",
       "      <td>10543186</td>\n",
       "      <td>2</td>\n",
       "    </tr>\n",
       "    <tr>\n",
       "      <th>46</th>\n",
       "      <td>Denmark</td>\n",
       "      <td>43495</td>\n",
       "      <td>80.1</td>\n",
       "      <td>5669081</td>\n",
       "      <td>2</td>\n",
       "    </tr>\n",
       "    <tr>\n",
       "      <th>58</th>\n",
       "      <td>Finland</td>\n",
       "      <td>38923</td>\n",
       "      <td>80.8</td>\n",
       "      <td>5503457</td>\n",
       "      <td>2</td>\n",
       "    </tr>\n",
       "    <tr>\n",
       "      <th>59</th>\n",
       "      <td>France</td>\n",
       "      <td>37599</td>\n",
       "      <td>81.9</td>\n",
       "      <td>64395345</td>\n",
       "      <td>2</td>\n",
       "    </tr>\n",
       "    <tr>\n",
       "      <th>63</th>\n",
       "      <td>Germany</td>\n",
       "      <td>44053</td>\n",
       "      <td>81.1</td>\n",
       "      <td>80688545</td>\n",
       "      <td>2</td>\n",
       "    </tr>\n",
       "    <tr>\n",
       "      <th>65</th>\n",
       "      <td>Greece</td>\n",
       "      <td>25430</td>\n",
       "      <td>79.8</td>\n",
       "      <td>10954617</td>\n",
       "      <td>2</td>\n",
       "    </tr>\n",
       "    <tr>\n",
       "      <th>74</th>\n",
       "      <td>Iceland</td>\n",
       "      <td>42182</td>\n",
       "      <td>82.8</td>\n",
       "      <td>329425</td>\n",
       "      <td>2</td>\n",
       "    </tr>\n",
       "    <tr>\n",
       "      <th>79</th>\n",
       "      <td>Ireland</td>\n",
       "      <td>47758</td>\n",
       "      <td>80.4</td>\n",
       "      <td>4688465</td>\n",
       "      <td>2</td>\n",
       "    </tr>\n",
       "    <tr>\n",
       "      <th>80</th>\n",
       "      <td>Israel</td>\n",
       "      <td>31590</td>\n",
       "      <td>82.4</td>\n",
       "      <td>8064036</td>\n",
       "      <td>2</td>\n",
       "    </tr>\n",
       "    <tr>\n",
       "      <th>81</th>\n",
       "      <td>Italy</td>\n",
       "      <td>33297</td>\n",
       "      <td>82.1</td>\n",
       "      <td>59797685</td>\n",
       "      <td>2</td>\n",
       "    </tr>\n",
       "    <tr>\n",
       "      <th>83</th>\n",
       "      <td>Japan</td>\n",
       "      <td>36162</td>\n",
       "      <td>83.5</td>\n",
       "      <td>126573481</td>\n",
       "      <td>2</td>\n",
       "    </tr>\n",
       "    <tr>\n",
       "      <th>104</th>\n",
       "      <td>Malta</td>\n",
       "      <td>30265</td>\n",
       "      <td>82.1</td>\n",
       "      <td>418670</td>\n",
       "      <td>2</td>\n",
       "    </tr>\n",
       "    <tr>\n",
       "      <th>118</th>\n",
       "      <td>Netherlands</td>\n",
       "      <td>45784</td>\n",
       "      <td>80.6</td>\n",
       "      <td>16924929</td>\n",
       "      <td>2</td>\n",
       "    </tr>\n",
       "    <tr>\n",
       "      <th>119</th>\n",
       "      <td>New Zealand</td>\n",
       "      <td>34186</td>\n",
       "      <td>80.6</td>\n",
       "      <td>4528526</td>\n",
       "      <td>2</td>\n",
       "    </tr>\n",
       "    <tr>\n",
       "      <th>125</th>\n",
       "      <td>Oman</td>\n",
       "      <td>48226</td>\n",
       "      <td>75.7</td>\n",
       "      <td>4490541</td>\n",
       "      <td>2</td>\n",
       "    </tr>\n",
       "    <tr>\n",
       "      <th>133</th>\n",
       "      <td>Portugal</td>\n",
       "      <td>26437</td>\n",
       "      <td>79.8</td>\n",
       "      <td>10349803</td>\n",
       "      <td>2</td>\n",
       "    </tr>\n",
       "    <tr>\n",
       "      <th>140</th>\n",
       "      <td>Saudi Arabia</td>\n",
       "      <td>52469</td>\n",
       "      <td>78.1</td>\n",
       "      <td>31540372</td>\n",
       "      <td>2</td>\n",
       "    </tr>\n",
       "    <tr>\n",
       "      <th>147</th>\n",
       "      <td>Slovenia</td>\n",
       "      <td>28550</td>\n",
       "      <td>80.2</td>\n",
       "      <td>2067526</td>\n",
       "      <td>2</td>\n",
       "    </tr>\n",
       "    <tr>\n",
       "      <th>151</th>\n",
       "      <td>South Korea</td>\n",
       "      <td>34644</td>\n",
       "      <td>80.7</td>\n",
       "      <td>50293439</td>\n",
       "      <td>2</td>\n",
       "    </tr>\n",
       "    <tr>\n",
       "      <th>153</th>\n",
       "      <td>Spain</td>\n",
       "      <td>32979</td>\n",
       "      <td>81.7</td>\n",
       "      <td>46121699</td>\n",
       "      <td>2</td>\n",
       "    </tr>\n",
       "    <tr>\n",
       "      <th>160</th>\n",
       "      <td>Sweden</td>\n",
       "      <td>44892</td>\n",
       "      <td>82.0</td>\n",
       "      <td>9779426</td>\n",
       "      <td>2</td>\n",
       "    </tr>\n",
       "    <tr>\n",
       "      <th>161</th>\n",
       "      <td>Switzerland</td>\n",
       "      <td>56118</td>\n",
       "      <td>82.9</td>\n",
       "      <td>8298663</td>\n",
       "      <td>2</td>\n",
       "    </tr>\n",
       "    <tr>\n",
       "      <th>175</th>\n",
       "      <td>United Arab Emirates</td>\n",
       "      <td>60749</td>\n",
       "      <td>76.6</td>\n",
       "      <td>9156963</td>\n",
       "      <td>2</td>\n",
       "    </tr>\n",
       "    <tr>\n",
       "      <th>176</th>\n",
       "      <td>United Kingdom</td>\n",
       "      <td>38225</td>\n",
       "      <td>81.4</td>\n",
       "      <td>64715810</td>\n",
       "      <td>2</td>\n",
       "    </tr>\n",
       "    <tr>\n",
       "      <th>177</th>\n",
       "      <td>United States</td>\n",
       "      <td>53354</td>\n",
       "      <td>79.1</td>\n",
       "      <td>321773631</td>\n",
       "      <td>2</td>\n",
       "    </tr>\n",
       "  </tbody>\n",
       "</table>\n",
       "</div>"
      ],
      "text/plain": [
       "                  country  income  health  population  label\n",
       "3                 Andorra   46577    84.1       70473      2\n",
       "8               Australia   44056    81.8    23968973      2\n",
       "9                 Austria   44401    81.0     8544586      2\n",
       "12                Bahrain   44138    79.2     1377237      2\n",
       "16                Belgium   41240    80.4    11299192      2\n",
       "30                 Canada   43294    81.7    35939927      2\n",
       "44                 Cyprus   29797    82.6     1165300      2\n",
       "45         Czech Republic   29437    78.6    10543186      2\n",
       "46                Denmark   43495    80.1     5669081      2\n",
       "58                Finland   38923    80.8     5503457      2\n",
       "59                 France   37599    81.9    64395345      2\n",
       "63                Germany   44053    81.1    80688545      2\n",
       "65                 Greece   25430    79.8    10954617      2\n",
       "74                Iceland   42182    82.8      329425      2\n",
       "79                Ireland   47758    80.4     4688465      2\n",
       "80                 Israel   31590    82.4     8064036      2\n",
       "81                  Italy   33297    82.1    59797685      2\n",
       "83                  Japan   36162    83.5   126573481      2\n",
       "104                 Malta   30265    82.1      418670      2\n",
       "118           Netherlands   45784    80.6    16924929      2\n",
       "119           New Zealand   34186    80.6     4528526      2\n",
       "125                  Oman   48226    75.7     4490541      2\n",
       "133              Portugal   26437    79.8    10349803      2\n",
       "140          Saudi Arabia   52469    78.1    31540372      2\n",
       "147              Slovenia   28550    80.2     2067526      2\n",
       "151           South Korea   34644    80.7    50293439      2\n",
       "153                 Spain   32979    81.7    46121699      2\n",
       "160                Sweden   44892    82.0     9779426      2\n",
       "161           Switzerland   56118    82.9     8298663      2\n",
       "175  United Arab Emirates   60749    76.6     9156963      2\n",
       "176        United Kingdom   38225    81.4    64715810      2\n",
       "177         United States   53354    79.1   321773631      2"
      ]
     },
     "execution_count": 66,
     "metadata": {},
     "output_type": "execute_result"
    }
   ],
   "source": [
    "gapminder.loc[gapminder['label']==2]"
   ]
  },
  {
   "cell_type": "markdown",
   "metadata": {
    "slideshow": {
     "slide_type": "slide"
    }
   },
   "source": [
    "## Exercise: Clustering neighborhoods by Airbnb stats\n",
    "\n",
    "I've extracted neighborhood Airbnb statistics for Philadelphia neighborhoods from [Tom Slee's website](http://tomslee.net/airbnb-data).\n",
    "\n",
    "The data includes average price per person, overall satisfaction, and number of listings."
   ]
  },
  {
   "cell_type": "markdown",
   "metadata": {
    "slideshow": {
     "slide_type": "slide"
    }
   },
   "source": [
    "### Step 1: Load the data with pandas\n",
    "\n",
    "The data is available in CSV format (\"philly_airbnb_by_neighborhoods.csv\") in the \"data/\" folder of the repository."
   ]
  },
  {
   "cell_type": "code",
   "execution_count": null,
   "metadata": {},
   "outputs": [],
   "source": []
  },
  {
   "cell_type": "markdown",
   "metadata": {
    "hide_input": true,
    "slideshow": {
     "slide_type": "slide"
    }
   },
   "source": [
    "### Step 2: Perform the K-Means fit\n",
    "\n",
    "- Use our three features: `price_per_person`, `overall_satisfaction`, `N`\n",
    "- I used 5 clusters, but you are welcome to experiment with different values! We will discuss what the *optimal* number is after we go through the solutions!\n",
    "- Scaling the features is recommended, but if the scales aren't too different, so probably isn't necessary in this case"
   ]
  },
  {
   "cell_type": "code",
   "execution_count": null,
   "metadata": {},
   "outputs": [],
   "source": []
  },
  {
   "cell_type": "markdown",
   "metadata": {
    "slideshow": {
     "slide_type": "slide"
    }
   },
   "source": [
    "### Step 3: Calculate average features per cluster\n",
    "\n",
    "To gain some insight into our clusters, after calculating the K-Means labels:\n",
    "- group by the `label` column\n",
    "- calculate the `mean()` of each of our features\n",
    "- calculate the number of neighborhoods per cluster"
   ]
  },
  {
   "cell_type": "code",
   "execution_count": null,
   "metadata": {},
   "outputs": [],
   "source": []
  },
  {
   "cell_type": "markdown",
   "metadata": {
    "slideshow": {
     "slide_type": "slide"
    }
   },
   "source": [
    "### Step 4: Plot a choropleth, coloring neighborhoods by their cluster label\n",
    "\n",
    "- Part 1: Load the Philadelphia neighborhoods available in the data directory:  \n",
    "    - `./data/philly_neighborhoods.geojson`\n",
    "- Part 2: Merge the Airbnb data (with labels) and the neighborhood polygons\n",
    "- Part 3: Use geopandas to plot the neighborhoods\n",
    "    - The `categorical=True` and `legend=True` keywords will be useful here"
   ]
  },
  {
   "cell_type": "code",
   "execution_count": null,
   "metadata": {},
   "outputs": [],
   "source": []
  },
  {
   "cell_type": "markdown",
   "metadata": {
    "slideshow": {
     "slide_type": "slide"
    }
   },
   "source": [
    "### Step 5: Plot an interactive map\n",
    "\n",
    "Use altair to plot the clustering results with a tooltip for neighborhood name and tooltip.\n",
    "\n",
    "**Hint:** See [week 3B's lecture](https://musa-550-fall-2022.github.io/slides/lecture-3B.html) on interactive choropleth's with altair"
   ]
  },
  {
   "cell_type": "code",
   "execution_count": null,
   "metadata": {},
   "outputs": [],
   "source": []
  },
  {
   "cell_type": "markdown",
   "metadata": {
    "hide_input": true,
    "slideshow": {
     "slide_type": "slide"
    }
   },
   "source": [
    "## Based on these results, where would you want to stay?\n",
    "\n"
   ]
  },
  {
   "cell_type": "code",
   "execution_count": null,
   "metadata": {},
   "outputs": [],
   "source": []
  },
  {
   "cell_type": "markdown",
   "metadata": {},
   "source": [
    "## More clustering on Wednesday!"
   ]
  },
  {
   "cell_type": "code",
   "execution_count": null,
   "metadata": {},
   "outputs": [],
   "source": []
  }
 ],
 "metadata": {
  "celltoolbar": "Slideshow",
  "kernelspec": {
   "display_name": "Python 3 (ipykernel)",
   "language": "python",
   "name": "python3"
  },
  "language_info": {
   "codemirror_mode": {
    "name": "ipython",
    "version": 3
   },
   "file_extension": ".py",
   "mimetype": "text/x-python",
   "name": "python",
   "nbconvert_exporter": "python",
   "pygments_lexer": "ipython3",
   "version": "3.9.13"
  }
 },
 "nbformat": 4,
 "nbformat_minor": 4
}
